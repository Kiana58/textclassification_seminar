{
 "cells": [
  {
   "cell_type": "code",
   "execution_count": 1,
   "metadata": {},
   "outputs": [
    {
     "name": "stderr",
     "output_type": "stream",
     "text": [
      "Using TensorFlow backend.\n"
     ]
    }
   ],
   "source": [
    "import pandas as pd\n",
    "import numpy as np\n",
    "import keras\n",
    "import gensim\n",
    "import pickle\n",
    "import gc\n",
    "from sklearn.feature_extraction.text import CountVectorizer, TfidfTransformer\n",
    "from sklearn.model_selection import train_test_split\n",
    "%matplotlib inline\n",
    "\n",
    "%load_ext autoreload\n",
    "%autoreload 2\n",
    "import helper"
   ]
  },
  {
   "cell_type": "code",
   "execution_count": 2,
   "metadata": {
    "collapsed": true
   },
   "outputs": [],
   "source": [
    "X_train = np.load(\"data/word_vectors/pubmed_stratify_no_wiki_X_train_seeds42.npy\")\n",
    "y_train = np.load(\"data/word_vectors/pubmed_stratify_no_wiki_y_train_seeds42.npy\")"
   ]
  },
  {
   "cell_type": "code",
   "execution_count": 3,
   "metadata": {
    "collapsed": true
   },
   "outputs": [],
   "source": [
    "X_test = np.load(\"data/word_vectors/pubmed_stratify_no_wiki_X_test_seeds42.npy\")\n",
    "y_test = np.load(\"data/word_vectors/pubmed_stratify_no_wiki_y_test_seeds42.npy\")"
   ]
  },
  {
   "cell_type": "code",
   "execution_count": 4,
   "metadata": {
    "collapsed": true
   },
   "outputs": [],
   "source": [
    "X_train = np.concatenate((X_train, X_test), axis=0)\n",
    "y_train = np.concatenate((y_train, y_test), axis=0)"
   ]
  },
  {
   "cell_type": "code",
   "execution_count": 5,
   "metadata": {},
   "outputs": [
    {
     "data": {
      "text/plain": [
       "(45587, 100, 200)"
      ]
     },
     "execution_count": 5,
     "metadata": {},
     "output_type": "execute_result"
    }
   ],
   "source": [
    "X_train.shape"
   ]
  },
  {
   "cell_type": "code",
   "execution_count": 8,
   "metadata": {
    "collapsed": true
   },
   "outputs": [],
   "source": [
    "input_shape = (100, 200)"
   ]
  },
  {
   "cell_type": "markdown",
   "metadata": {},
   "source": [
    "# Model"
   ]
  },
  {
   "cell_type": "code",
   "execution_count": 9,
   "metadata": {
    "collapsed": true
   },
   "outputs": [],
   "source": [
    "model = keras.models.Sequential()\n",
    "model.add(keras.layers.recurrent.GRU(100, input_shape=input_shape))\n",
    "model.add(keras.layers.Dropout(0.3))\n",
    "model.add(keras.layers.Dense(23, activation='softmax'))"
   ]
  },
  {
   "cell_type": "code",
   "execution_count": 10,
   "metadata": {
    "scrolled": false
   },
   "outputs": [
    {
     "name": "stdout",
     "output_type": "stream",
     "text": [
      "_________________________________________________________________\n",
      "Layer (type)                 Output Shape              Param #   \n",
      "=================================================================\n",
      "gru_1 (GRU)                  (None, 100)               90300     \n",
      "_________________________________________________________________\n",
      "dropout_1 (Dropout)          (None, 100)               0         \n",
      "_________________________________________________________________\n",
      "dense_1 (Dense)              (None, 23)                2323      \n",
      "=================================================================\n",
      "Total params: 92,623\n",
      "Trainable params: 92,623\n",
      "Non-trainable params: 0\n",
      "_________________________________________________________________\n",
      "None\n",
      "Epoch 1/15\n",
      "45587/45587 [==============================] - 19s - loss: 2.3476 - acc: 0.2986    - ET\n",
      "Epoch 2/15\n",
      "45587/45587 [==============================] - 18s - loss: 1.8510 - acc: 0.4127    \n",
      "Epoch 3/15\n",
      "45587/45587 [==============================] - 18s - loss: 1.7331 - acc: 0.4374    \n",
      "Epoch 4/15\n",
      "45587/45587 [==============================] - 19s - loss: 1.6763 - acc: 0.4479    \n",
      "Epoch 5/15\n",
      "45587/45587 [==============================] - 19s - loss: 1.6430 - acc: 0.4550    \n",
      "Epoch 6/15\n",
      "45587/45587 [==============================] - 19s - loss: 1.6121 - acc: 0.4624    \n",
      "Epoch 7/15\n",
      "45587/45587 [==============================] - 18s - loss: 1.5988 - acc: 0.4646    \n",
      "Epoch 8/15\n",
      "45587/45587 [==============================] - 18s - loss: 1.5791 - acc: 0.4688    \n",
      "Epoch 9/15\n",
      "45587/45587 [==============================] - 19s - loss: 1.5627 - acc: 0.4719    \n",
      "Epoch 10/15\n",
      "45587/45587 [==============================] - 18s - loss: 1.5512 - acc: 0.4746    \n",
      "Epoch 11/15\n",
      "45587/45587 [==============================] - 19s - loss: 1.5396 - acc: 0.4778    \n",
      "Epoch 12/15\n",
      "45587/45587 [==============================] - 18s - loss: 1.5297 - acc: 0.4793    \n",
      "Epoch 13/15\n",
      "45587/45587 [==============================] - 18s - loss: 1.5210 - acc: 0.4801    \n",
      "Epoch 14/15\n",
      "45587/45587 [==============================] - 19s - loss: 1.5087 - acc: 0.4837    \n",
      "Epoch 15/15\n",
      "45587/45587 [==============================] - 18s - loss: 1.5000 - acc: 0.4865    \n",
      "             precision    recall  f1-score   support\n",
      "\n",
      "          0       0.00      0.00      0.00        41\n",
      "          1       0.48      0.47      0.47       206\n",
      "          2       0.62      0.77      0.68       482\n",
      "          3       0.52      0.62      0.57       240\n",
      "          4       0.61      0.55      0.58       231\n",
      "          5       0.43      0.22      0.29        68\n",
      "          6       0.45      0.56      0.50        79\n",
      "          7       0.42      0.53      0.47       131\n",
      "          8       0.46      0.34      0.39       102\n",
      "          9       0.44      0.56      0.49       249\n",
      "         10       0.45      0.59      0.51       136\n",
      "         11       0.53      0.39      0.45        87\n",
      "         12       0.53      0.69      0.60       507\n",
      "         13       0.48      0.46      0.47       314\n",
      "         14       0.57      0.51      0.54       152\n",
      "         15       0.45      0.49      0.47        57\n",
      "         16       0.63      0.71      0.67        34\n",
      "         17       0.35      0.22      0.27       770\n",
      "         18       0.47      0.50      0.48       206\n",
      "         19       0.58      0.58      0.58       129\n",
      "         20       0.32      0.16      0.21        44\n",
      "         21       0.53      0.62      0.57       201\n",
      "         22       0.26      0.14      0.18        93\n",
      "\n",
      "avg / total       0.48      0.50      0.48      4559\n",
      "\n",
      "Accuracy: 49.86%\n"
     ]
    },
    {
     "data": {
      "text/plain": [
       "7"
      ]
     },
     "execution_count": 10,
     "metadata": {},
     "output_type": "execute_result"
    }
   ],
   "source": [
    "model.compile(optimizer=\"adagrad\",\n",
    "              loss='categorical_crossentropy',\n",
    "              metrics=['accuracy'])\n",
    "print(model.summary())\n",
    "model.fit(X_train, y_train, epochs=15, batch_size=256)\n",
    "yhat = model.predict(X_test)\n",
    "_ = helper.score_prediction(y_test, yhat, binary=False)\n",
    "gc.collect()"
   ]
  },
  {
   "cell_type": "code",
   "execution_count": 12,
   "metadata": {},
   "outputs": [],
   "source": [
    "del X_train\n",
    "del X_test"
   ]
  },
  {
   "cell_type": "code",
   "execution_count": 13,
   "metadata": {},
   "outputs": [
    {
     "data": {
      "text/plain": [
       "25"
      ]
     },
     "execution_count": 13,
     "metadata": {},
     "output_type": "execute_result"
    }
   ],
   "source": [
    "gc.collect()"
   ]
  },
  {
   "cell_type": "markdown",
   "metadata": {},
   "source": [
    "# Submission"
   ]
  },
  {
   "cell_type": "code",
   "execution_count": 34,
   "metadata": {
    "collapsed": true
   },
   "outputs": [],
   "source": [
    "_,target, raw_cats = helper.load_multiclass_data()"
   ]
  },
  {
   "cell_type": "code",
   "execution_count": 14,
   "metadata": {
    "collapsed": true
   },
   "outputs": [],
   "source": [
    "submission_vectors = np.load(\"data/submission_word_vectors.npy\")\n",
    "submission_ids = np.load(\"data/submission_ids.npy\")"
   ]
  },
  {
   "cell_type": "code",
   "execution_count": 40,
   "metadata": {
    "collapsed": true
   },
   "outputs": [],
   "source": [
    "cat_names = list(target.columns)\n",
    "def one_hot_to_cats(one_hot_row):\n",
    "    for index, col in enumerate(one_hot_row):\n",
    "        if col == 1:\n",
    "            return cat_names[index]"
   ]
  },
  {
   "cell_type": "code",
   "execution_count": 69,
   "metadata": {},
   "outputs": [
    {
     "data": {
      "text/plain": [
       "['Animal Diseases',\n",
       " 'Bacterial Infections and Mycoses',\n",
       " 'Cardiovascular Diseases',\n",
       " 'Digestive System Diseases',\n",
       " 'Disorders of Environmental Origin',\n",
       " 'Endocrine Diseases',\n",
       " 'Eye Diseases',\n",
       " 'Female Genital Diseases and Pregnancy Complications',\n",
       " 'Hemic and Lymphatic Diseases',\n",
       " 'Immunologic Diseases',\n",
       " 'Musculoskeletal Diseases',\n",
       " 'Neonatal Diseases and Abnormalities',\n",
       " 'Neoplasms',\n",
       " 'Nervous System Diseases',\n",
       " 'Nutritional and Metabolic Diseases',\n",
       " 'Otorhinolaryngologic Diseases',\n",
       " 'Parasitic Diseases',\n",
       " 'Pathological Conditions, Signs and Symptoms',\n",
       " 'Respiratory Tract Diseases',\n",
       " 'Skin and Connective Tissue Diseases',\n",
       " 'Stomatognathic Diseases',\n",
       " 'Urologic and Male Genital Diseases',\n",
       " 'Virus Diseases']"
      ]
     },
     "execution_count": 69,
     "metadata": {},
     "output_type": "execute_result"
    }
   ],
   "source": [
    "cat_names"
   ]
  },
  {
   "cell_type": "markdown",
   "metadata": {},
   "source": [
    "### Reconstruct the categories from the one-hot encoding"
   ]
  },
  {
   "cell_type": "code",
   "execution_count": 57,
   "metadata": {
    "collapsed": true
   },
   "outputs": [],
   "source": [
    "yhat = model.predict(submission_vectors)"
   ]
  },
  {
   "cell_type": "code",
   "execution_count": 58,
   "metadata": {},
   "outputs": [],
   "source": [
    "yhat_cats = np.apply_along_axis(helper.max_to_one, arr=yhat, axis=1)"
   ]
  },
  {
   "cell_type": "code",
   "execution_count": 74,
   "metadata": {},
   "outputs": [
    {
     "data": {
      "text/plain": [
       "['Parasitic Diseases',\n",
       " 'Immunologic Diseases',\n",
       " 'Bacterial Infections and Mycoses',\n",
       " 'Respiratory Tract Diseases',\n",
       " 'Parasitic Diseases',\n",
       " 'Cardiovascular Diseases',\n",
       " 'Urologic and Male Genital Diseases',\n",
       " 'Musculoskeletal Diseases',\n",
       " 'Cardiovascular Diseases',\n",
       " 'Skin and Connective Tissue Diseases']"
      ]
     },
     "execution_count": 74,
     "metadata": {},
     "output_type": "execute_result"
    }
   ],
   "source": [
    "submission_cats = list()\n",
    "for row in yhat_cats:\n",
    "    submission_cats.append(one_hot_to_cats(row))\n",
    "submission_cats[0:10]"
   ]
  },
  {
   "cell_type": "code",
   "execution_count": 75,
   "metadata": {},
   "outputs": [],
   "source": [
    "test = pd.get_dummies(submission_cats)\n",
    "for i in range(len(submission_vectors)):\n",
    "    # if all elements of the arrays match we get 23 True values, which gives a sum of 23\n",
    "    if np.sum(yhat_cats[i] == test.values[i]) != 23:\n",
    "        print(f\"Error at {i}\")"
   ]
  },
  {
   "cell_type": "code",
   "execution_count": 76,
   "metadata": {
    "collapsed": true
   },
   "outputs": [],
   "source": [
    "submission_df = pd.DataFrame()\n",
    "submission_df[\"Id\"] = submission_ids\n",
    "submission_df[\"Category\"] = submission_cats"
   ]
  },
  {
   "cell_type": "code",
   "execution_count": 77,
   "metadata": {},
   "outputs": [
    {
     "data": {
      "text/html": [
       "<div>\n",
       "<table border=\"1\" class=\"dataframe\">\n",
       "  <thead>\n",
       "    <tr style=\"text-align: right;\">\n",
       "      <th></th>\n",
       "      <th>Id</th>\n",
       "      <th>Category</th>\n",
       "    </tr>\n",
       "  </thead>\n",
       "  <tbody>\n",
       "    <tr>\n",
       "      <th>0</th>\n",
       "      <td>4132</td>\n",
       "      <td>Parasitic Diseases</td>\n",
       "    </tr>\n",
       "    <tr>\n",
       "      <th>1</th>\n",
       "      <td>23198</td>\n",
       "      <td>Immunologic Diseases</td>\n",
       "    </tr>\n",
       "    <tr>\n",
       "      <th>2</th>\n",
       "      <td>8</td>\n",
       "      <td>Bacterial Infections and Mycoses</td>\n",
       "    </tr>\n",
       "    <tr>\n",
       "      <th>3</th>\n",
       "      <td>34357</td>\n",
       "      <td>Respiratory Tract Diseases</td>\n",
       "    </tr>\n",
       "    <tr>\n",
       "      <th>4</th>\n",
       "      <td>3800</td>\n",
       "      <td>Parasitic Diseases</td>\n",
       "    </tr>\n",
       "  </tbody>\n",
       "</table>\n",
       "</div>"
      ],
      "text/plain": [
       "      Id                          Category\n",
       "0   4132                Parasitic Diseases\n",
       "1  23198              Immunologic Diseases\n",
       "2      8  Bacterial Infections and Mycoses\n",
       "3  34357        Respiratory Tract Diseases\n",
       "4   3800                Parasitic Diseases"
      ]
     },
     "execution_count": 77,
     "metadata": {},
     "output_type": "execute_result"
    }
   ],
   "source": [
    "submission_df.head()"
   ]
  },
  {
   "cell_type": "code",
   "execution_count": 78,
   "metadata": {},
   "outputs": [],
   "source": [
    "submission_df.to_csv(\"data/multiclass_submissions.csv\", index=False)"
   ]
  }
 ],
 "metadata": {
  "kernelspec": {
   "display_name": "Python 3",
   "language": "python",
   "name": "python3"
  },
  "language_info": {
   "codemirror_mode": {
    "name": "ipython",
    "version": 3
   },
   "file_extension": ".py",
   "mimetype": "text/x-python",
   "name": "python",
   "nbconvert_exporter": "python",
   "pygments_lexer": "ipython3",
   "version": "3.6.1"
  }
 },
 "nbformat": 4,
 "nbformat_minor": 2
}
