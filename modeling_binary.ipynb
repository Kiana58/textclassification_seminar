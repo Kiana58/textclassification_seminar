{
 "cells": [
  {
   "cell_type": "code",
   "execution_count": 1,
   "metadata": {},
   "outputs": [
    {
     "name": "stderr",
     "output_type": "stream",
     "text": [
      "Using TensorFlow backend.\n"
     ]
    }
   ],
   "source": [
    "import pandas as pd\n",
    "import numpy as np\n",
    "import keras\n",
    "import gensim\n",
    "import pickle\n",
    "import gc\n",
    "from sklearn.feature_extraction.text import CountVectorizer, TfidfTransformer\n",
    "from sklearn.model_selection import train_test_split\n",
    "%matplotlib inline\n",
    "\n",
    "%load_ext autoreload\n",
    "%autoreload 2\n",
    "import helper"
   ]
  },
  {
   "cell_type": "code",
   "execution_count": 2,
   "metadata": {
    "collapsed": true
   },
   "outputs": [],
   "source": [
    "X_train = np.load(\"data/word_vectors/pubmed_binary_stratify_no_wiki_X_train_seeds42.npy\")\n",
    "y_train = np.load(\"data/word_vectors/pubmed_binary_stratify_no_wiki_y_train_seeds42.npy\")"
   ]
  },
  {
   "cell_type": "code",
   "execution_count": 3,
   "metadata": {
    "collapsed": true
   },
   "outputs": [],
   "source": [
    "X_test = np.load(\"data/word_vectors/pubmed_binary_stratify_no_wiki_X_test_seeds42.npy\")\n",
    "y_test = np.load(\"data/word_vectors/pubmed_binary_stratify_no_wiki_y_test_seeds42.npy\")"
   ]
  },
  {
   "cell_type": "code",
   "execution_count": 4,
   "metadata": {},
   "outputs": [
    {
     "data": {
      "text/plain": [
       "(1939, 100, 200)"
      ]
     },
     "execution_count": 4,
     "metadata": {},
     "output_type": "execute_result"
    }
   ],
   "source": [
    "X_train.shape"
   ]
  },
  {
   "cell_type": "code",
   "execution_count": 5,
   "metadata": {
    "collapsed": true
   },
   "outputs": [],
   "source": [
    "input_shape = (100, 200)"
   ]
  },
  {
   "cell_type": "markdown",
   "metadata": {},
   "source": [
    "# Basic RNN (GRU)"
   ]
  },
  {
   "cell_type": "code",
   "execution_count": 14,
   "metadata": {
    "collapsed": true
   },
   "outputs": [],
   "source": [
    "model = keras.models.Sequential()\n",
    "model.add(keras.layers.recurrent.GRU(256, input_shape=input_shape))\n",
    "model.add(keras.layers.Dropout(0.5))\n",
    "model.add(keras.layers.Dense(1, activation='sigmoid'))"
   ]
  },
  {
   "cell_type": "code",
   "execution_count": 15,
   "metadata": {},
   "outputs": [
    {
     "name": "stdout",
     "output_type": "stream",
     "text": [
      "_________________________________________________________________\n",
      "Layer (type)                 Output Shape              Param #   \n",
      "=================================================================\n",
      "gru_4 (GRU)                  (None, 256)               350976    \n",
      "_________________________________________________________________\n",
      "dropout_6 (Dropout)          (None, 256)               0         \n",
      "_________________________________________________________________\n",
      "dense_4 (Dense)              (None, 1)                 257       \n",
      "=================================================================\n",
      "Total params: 351,233\n",
      "Trainable params: 351,233\n",
      "Non-trainable params: 0\n",
      "_________________________________________________________________\n",
      "None\n",
      "Train on 1745 samples, validate on 194 samples\n",
      "Epoch 1/15\n",
      "1745/1745 [==============================] - 0s - loss: 1.0202 - acc: 0.6413 - val_loss: 0.6330 - val_acc: 0.5928\n",
      "Epoch 2/15\n",
      "1745/1745 [==============================] - 0s - loss: 0.6302 - acc: 0.7095 - val_loss: 0.3927 - val_acc: 0.8041\n",
      "Epoch 3/15\n",
      "1745/1745 [==============================] - 0s - loss: 0.3408 - acc: 0.8653 - val_loss: 0.3096 - val_acc: 0.8711\n",
      "Epoch 4/15\n",
      "1745/1745 [==============================] - 0s - loss: 0.2741 - acc: 0.9072 - val_loss: 0.1768 - val_acc: 0.9588\n",
      "Epoch 5/15\n",
      "1745/1745 [==============================] - 0s - loss: 0.3492 - acc: 0.8602 - val_loss: 0.3602 - val_acc: 0.8711\n",
      "Epoch 6/15\n",
      "1745/1745 [==============================] - 0s - loss: 0.2647 - acc: 0.9020 - val_loss: 0.1752 - val_acc: 0.9433\n",
      "Epoch 7/15\n",
      "1745/1745 [==============================] - 0s - loss: 0.2007 - acc: 0.9289 - val_loss: 0.2119 - val_acc: 0.9381\n",
      "Epoch 8/15\n",
      "1745/1745 [==============================] - 0s - loss: 0.2243 - acc: 0.9249 - val_loss: 0.1922 - val_acc: 0.9433\n",
      "Epoch 9/15\n",
      "1745/1745 [==============================] - 0s - loss: 0.1944 - acc: 0.9301 - val_loss: 0.1163 - val_acc: 0.9691\n",
      "Epoch 10/15\n",
      "1745/1745 [==============================] - 0s - loss: 0.1835 - acc: 0.9352 - val_loss: 0.1329 - val_acc: 0.9639\n",
      "Epoch 11/15\n",
      "1745/1745 [==============================] - 0s - loss: 0.1941 - acc: 0.9335 - val_loss: 0.1082 - val_acc: 0.9691\n",
      "Epoch 12/15\n",
      "1745/1745 [==============================] - 0s - loss: 0.1591 - acc: 0.9450 - val_loss: 0.1270 - val_acc: 0.9588\n",
      "Epoch 13/15\n",
      "1745/1745 [==============================] - 0s - loss: 0.1686 - acc: 0.9393 - val_loss: 0.1210 - val_acc: 0.9588\n",
      "Epoch 14/15\n",
      "1745/1745 [==============================] - 0s - loss: 0.2132 - acc: 0.9341 - val_loss: 0.1901 - val_acc: 0.9381\n",
      "Epoch 15/15\n",
      "1745/1745 [==============================] - 0s - loss: 0.1965 - acc: 0.9364 - val_loss: 0.1243 - val_acc: 0.9639\n",
      "             precision    recall  f1-score   support\n",
      "\n",
      "          0       0.93      0.92      0.92       107\n",
      "          1       0.92      0.94      0.93       109\n",
      "\n",
      "avg / total       0.93      0.93      0.93       216\n",
      "\n",
      "Accuracy: 92.59%\n",
      "AUC: 0.97\n"
     ]
    },
    {
     "data": {
      "text/plain": [
       "6556"
      ]
     },
     "execution_count": 15,
     "metadata": {},
     "output_type": "execute_result"
    },
    {
     "data": {
      "image/png": "[encoded data removed]",
      "text/plain": [
       "<matplotlib.figure.Figure at 0x7f6b10dae748>"
      ]
     },
     "metadata": {},
     "output_type": "display_data"
    }
   ],
   "source": [
    "model.compile(optimizer=\"adagrad\",\n",
    "              loss='binary_crossentropy',\n",
    "              metrics=['accuracy'])\n",
    "print(model.summary())\n",
    "model.fit(X_train, y_train, validation_split=0.1, epochs=15, batch_size=256)\n",
    "yhat = model.predict(X_test)\n",
    "_ = helper.score_prediction(y_test, yhat, binary=True)\n",
    "gc.collect()"
   ]
  },
  {
   "cell_type": "markdown",
   "metadata": {},
   "source": [
    "# Basic Recurrent CNN"
   ]
  },
  {
   "cell_type": "code",
   "execution_count": 34,
   "metadata": {
    "collapsed": true
   },
   "outputs": [],
   "source": [
    "input_shape = (100, 200)\n",
    "filters = 128\n",
    "kernel_size = 3\n",
    "model = keras.models.Sequential()\n",
    "model.add(keras.layers.Conv1D(filters,\n",
    "             kernel_size,\n",
    "             padding='valid',\n",
    "             activation='relu',\n",
    "             strides=1, input_shape=input_shape))\n",
    "model.add(keras.layers.MaxPool1D(pool_size=48))\n",
    "model.add(keras.layers.Dropout(0.5))\n",
    "model.add(keras.layers.recurrent.GRU(64))\n",
    "model.add(keras.layers.Dropout(0.5))\n",
    "model.add(keras.layers.Dense(1, activation='sigmoid'))"
   ]
  },
  {
   "cell_type": "code",
   "execution_count": 35,
   "metadata": {
    "scrolled": false
   },
   "outputs": [
    {
     "name": "stdout",
     "output_type": "stream",
     "text": [
      "_________________________________________________________________\n",
      "Layer (type)                 Output Shape              Param #   \n",
      "=================================================================\n",
      "conv1d_13 (Conv1D)           (None, 98, 128)           76928     \n",
      "_________________________________________________________________\n",
      "max_pooling1d_11 (MaxPooling (None, 2, 128)            0         \n",
      "_________________________________________________________________\n",
      "dropout_26 (Dropout)         (None, 2, 128)            0         \n",
      "_________________________________________________________________\n",
      "gru_14 (GRU)                 (None, 64)                37056     \n",
      "_________________________________________________________________\n",
      "dropout_27 (Dropout)         (None, 64)                0         \n",
      "_________________________________________________________________\n",
      "dense_14 (Dense)             (None, 1)                 65        \n",
      "=================================================================\n",
      "Total params: 114,049\n",
      "Trainable params: 114,049\n",
      "Non-trainable params: 0\n",
      "_________________________________________________________________\n",
      "None\n",
      "Train on 1745 samples, validate on 194 samples\n",
      "Epoch 1/15\n",
      "1745/1745 [==============================] - 0s - loss: 0.5164 - categorical_accuracy: 1.0000 - val_loss: 0.1943 - val_categorical_accuracy: 1.0000\n",
      "Epoch 2/15\n",
      "1745/1745 [==============================] - 0s - loss: 0.2167 - categorical_accuracy: 1.0000 - val_loss: 0.1507 - val_categorical_accuracy: 1.0000\n",
      "Epoch 3/15\n",
      "1745/1745 [==============================] - 0s - loss: 0.1735 - categorical_accuracy: 1.0000 - val_loss: 0.1273 - val_categorical_accuracy: 1.0000\n",
      "Epoch 4/15\n",
      "1745/1745 [==============================] - 0s - loss: 0.1468 - categorical_accuracy: 1.0000 - val_loss: 0.1139 - val_categorical_accuracy: 1.0000\n",
      "Epoch 5/15\n",
      "1745/1745 [==============================] - 0s - loss: 0.1270 - categorical_accuracy: 1.0000 - val_loss: 0.1200 - val_categorical_accuracy: 1.0000\n",
      "Epoch 6/15\n",
      "1745/1745 [==============================] - 0s - loss: 0.1086 - categorical_accuracy: 1.0000 - val_loss: 0.1087 - val_categorical_accuracy: 1.0000\n",
      "Epoch 7/15\n",
      "1745/1745 [==============================] - 0s - loss: 0.0897 - categorical_accuracy: 1.0000 - val_loss: 0.1030 - val_categorical_accuracy: 1.0000\n",
      "Epoch 8/15\n",
      "1745/1745 [==============================] - 0s - loss: 0.0927 - categorical_accuracy: 1.0000 - val_loss: 0.0992 - val_categorical_accuracy: 1.0000\n",
      "Epoch 9/15\n",
      "1745/1745 [==============================] - 0s - loss: 0.1015 - categorical_accuracy: 1.0000 - val_loss: 0.1200 - val_categorical_accuracy: 1.0000\n",
      "Epoch 10/15\n",
      "1745/1745 [==============================] - 0s - loss: 0.0755 - categorical_accuracy: 1.0000 - val_loss: 0.0929 - val_categorical_accuracy: 1.0000\n",
      "Epoch 11/15\n",
      "1745/1745 [==============================] - 0s - loss: 0.0615 - categorical_accuracy: 1.0000 - val_loss: 0.1107 - val_categorical_accuracy: 1.0000\n",
      "Epoch 12/15\n",
      "1745/1745 [==============================] - 0s - loss: 0.0562 - categorical_accuracy: 1.0000 - val_loss: 0.1009 - val_categorical_accuracy: 1.0000\n",
      "Epoch 13/15\n",
      "1745/1745 [==============================] - 0s - loss: 0.0428 - categorical_accuracy: 1.0000 - val_loss: 0.0969 - val_categorical_accuracy: 1.0000\n",
      "Epoch 14/15\n",
      "1745/1745 [==============================] - 0s - loss: 0.0364 - categorical_accuracy: 1.0000 - val_loss: 0.1051 - val_categorical_accuracy: 1.0000\n",
      "Epoch 15/15\n",
      "1745/1745 [==============================] - 0s - loss: 0.0300 - categorical_accuracy: 1.0000 - val_loss: 0.1078 - val_categorical_accuracy: 1.0000\n",
      "             precision    recall  f1-score   support\n",
      "\n",
      "          0       0.96      0.93      0.95       107\n",
      "          1       0.94      0.96      0.95       109\n",
      "\n",
      "avg / total       0.95      0.95      0.95       216\n",
      "\n",
      "Accuracy: 94.91%\n",
      "AUC: 0.99\n"
     ]
    },
    {
     "data": {
      "text/plain": [
       "7021"
      ]
     },
     "execution_count": 35,
     "metadata": {},
     "output_type": "execute_result"
    },
    {
     "data": {
      "image/png": "[encoded data removed]",
      "text/plain": [
       "<matplotlib.figure.Figure at 0x7f6aafe14ef0>"
      ]
     },
     "metadata": {},
     "output_type": "display_data"
    }
   ],
   "source": [
    "model.compile(optimizer=\"adagrad\",\n",
    "              loss='binary_crossentropy',\n",
    "              metrics=['categorical_accuracy'])\n",
    "print(model.summary())\n",
    "model.fit(X_train, y_train, validation_split=0.1, epochs=15, batch_size=256)\n",
    "yhat = model.predict(X_test)\n",
    "_ = helper.score_prediction(y_test, yhat, binary=True)\n",
    "gc.collect()"
   ]
  },
  {
   "cell_type": "code",
   "execution_count": null,
   "metadata": {
    "collapsed": true
   },
   "outputs": [],
   "source": []
  }
 ],
 "metadata": {
  "kernelspec": {
   "display_name": "Python 3",
   "language": "python",
   "name": "python3"
  },
  "language_info": {
   "codemirror_mode": {
    "name": "ipython",
    "version": 3
   },
   "file_extension": ".py",
   "mimetype": "text/x-python",
   "name": "python",
   "nbconvert_exporter": "python",
   "pygments_lexer": "ipython3",
   "version": "3.6.1"
  }
 },
 "nbformat": 4,
 "nbformat_minor": 2
}
