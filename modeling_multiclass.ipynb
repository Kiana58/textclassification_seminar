{
 "cells": [
  {
   "cell_type": "code",
   "execution_count": 1,
   "metadata": {},
   "outputs": [
    {
     "name": "stderr",
     "output_type": "stream",
     "text": [
      "Using TensorFlow backend.\n"
     ]
    }
   ],
   "source": [
    "import pandas as pd\n",
    "import numpy as np\n",
    "import keras\n",
    "import gensim\n",
    "import pickle\n",
    "import gc\n",
    "from sklearn.feature_extraction.text import CountVectorizer, TfidfTransformer\n",
    "from sklearn.model_selection import train_test_split\n",
    "%matplotlib inline\n",
    "\n",
    "%load_ext autoreload\n",
    "%autoreload 2\n",
    "import helper"
   ]
  },
  {
   "cell_type": "code",
   "execution_count": 2,
   "metadata": {
    "collapsed": true
   },
   "outputs": [],
   "source": [
    "X_train = np.load(\"data/word_vectors/pubmed_wiki_X_train_seeds42.npy\")\n",
    "y_train = np.load(\"data/word_vectors/pubmed_wiki_y_train_seeds42.npy\")"
   ]
  },
  {
   "cell_type": "code",
   "execution_count": 3,
   "metadata": {
    "collapsed": true
   },
   "outputs": [],
   "source": [
    "X_test = np.load(\"data/word_vectors/pubmed_wiki_X_test_seeds42.npy\")\n",
    "y_test = np.load(\"data/word_vectors/pubmed_wiki_y_test_seeds42.npy\")"
   ]
  },
  {
   "cell_type": "code",
   "execution_count": 6,
   "metadata": {},
   "outputs": [
    {
     "data": {
      "text/plain": [
       "(45587, 100, 200)"
      ]
     },
     "execution_count": 6,
     "metadata": {},
     "output_type": "execute_result"
    }
   ],
   "source": [
    "X_train.shape"
   ]
  },
  {
   "cell_type": "code",
   "execution_count": 12,
   "metadata": {
    "collapsed": true
   },
   "outputs": [],
   "source": [
    "input_shape = (100, 200)"
   ]
  },
  {
   "cell_type": "markdown",
   "metadata": {},
   "source": [
    "# Basic FeedForward Net (BoW)"
   ]
  },
  {
   "cell_type": "code",
   "execution_count": 21,
   "metadata": {
    "collapsed": true
   },
   "outputs": [],
   "source": [
    "documents_train, target_train = helper.load_multiclass_data()"
   ]
  },
  {
   "cell_type": "code",
   "execution_count": 22,
   "metadata": {},
   "outputs": [
    {
     "data": {
      "text/plain": [
       "(45587, 33714)"
      ]
     },
     "execution_count": 22,
     "metadata": {},
     "output_type": "execute_result"
    }
   ],
   "source": [
    "count_vect = CountVectorizer(binary=False, max_df=0.9, min_df=3, lowercase=True, strip_accents=\"unicode\")\n",
    "count_vect.fit(documents_train)\n",
    "X_train_counts = count_vect.transform(documents_train)\n",
    "tfidf_transformer = TfidfTransformer()\n",
    "X = tfidf_transformer.fit_transform(X_train_counts)\n",
    "X.shape"
   ]
  },
  {
   "cell_type": "code",
   "execution_count": 23,
   "metadata": {
    "collapsed": true
   },
   "outputs": [],
   "source": [
    "input_dim = X.shape[1]"
   ]
  },
  {
   "cell_type": "code",
   "execution_count": 24,
   "metadata": {},
   "outputs": [
    {
     "name": "stdout",
     "output_type": "stream",
     "text": [
      "(20000, 33714)\n"
     ]
    },
    {
     "data": {
      "text/plain": [
       "115"
      ]
     },
     "execution_count": 24,
     "metadata": {},
     "output_type": "execute_result"
    }
   ],
   "source": [
    "max_len = 20000\n",
    "X = X[:max_len].todense()\n",
    "target_train = target_train[:max_len].values\n",
    "print(X.shape)\n",
    "gc.collect()"
   ]
  },
  {
   "cell_type": "code",
   "execution_count": 25,
   "metadata": {},
   "outputs": [],
   "source": [
    "X_train, X_test, y_train, y_test = train_test_split(X, target_train, test_size=0.1)\n",
    "del X"
   ]
  },
  {
   "cell_type": "code",
   "execution_count": 30,
   "metadata": {},
   "outputs": [],
   "source": [
    "model = keras.models.Sequential()\n",
    "model.add(keras.layers.Dense(32, input_shape=(input_dim,)))\n",
    "model.add(keras.layers.Dropout(0.5))\n",
    "model.add(keras.layers.Dense(16))\n",
    "model.add(keras.layers.Dropout(0.5))\n",
    "model.add(keras.layers.Dense(23, activation='softmax'))"
   ]
  },
  {
   "cell_type": "code",
   "execution_count": 31,
   "metadata": {},
   "outputs": [
    {
     "name": "stdout",
     "output_type": "stream",
     "text": [
      "_________________________________________________________________\n",
      "Layer (type)                 Output Shape              Param #   \n",
      "=================================================================\n",
      "dense_10 (Dense)             (None, 32)                1078880   \n",
      "_________________________________________________________________\n",
      "dropout_7 (Dropout)          (None, 32)                0         \n",
      "_________________________________________________________________\n",
      "dense_11 (Dense)             (None, 16)                528       \n",
      "_________________________________________________________________\n",
      "dropout_8 (Dropout)          (None, 16)                0         \n",
      "_________________________________________________________________\n",
      "dense_12 (Dense)             (None, 23)                391       \n",
      "=================================================================\n",
      "Total params: 1,079,799\n",
      "Trainable params: 1,079,799\n",
      "Non-trainable params: 0\n",
      "_________________________________________________________________\n",
      "None\n",
      "Train on 16200 samples, validate on 1800 samples\n",
      "Epoch 1/15\n",
      "16200/16200 [==============================] - 4s - loss: 2.8485 - categorical_accuracy: 0.1773 - val_loss: 2.6397 - val_categorical_accuracy: 0.2489\n",
      "Epoch 2/15\n",
      "16200/16200 [==============================] - 4s - loss: 2.5977 - categorical_accuracy: 0.2488 - val_loss: 2.4900 - val_categorical_accuracy: 0.2928\n",
      "Epoch 3/15\n",
      "16200/16200 [==============================] - 4s - loss: 2.4484 - categorical_accuracy: 0.2954 - val_loss: 2.3997 - val_categorical_accuracy: 0.3100\n",
      "Epoch 4/15\n",
      "16200/16200 [==============================] - 4s - loss: 2.3371 - categorical_accuracy: 0.3239 - val_loss: 2.3445 - val_categorical_accuracy: 0.3183\n",
      "Epoch 5/15\n",
      "16200/16200 [==============================] - 4s - loss: 2.2579 - categorical_accuracy: 0.3478 - val_loss: 2.2979 - val_categorical_accuracy: 0.3239\n",
      "Epoch 6/15\n",
      "16200/16200 [==============================] - 4s - loss: 2.1793 - categorical_accuracy: 0.3675 - val_loss: 2.2645 - val_categorical_accuracy: 0.3400\n",
      "Epoch 7/15\n",
      "16200/16200 [==============================] - 4s - loss: 2.1203 - categorical_accuracy: 0.3823 - val_loss: 2.2434 - val_categorical_accuracy: 0.3528\n",
      "Epoch 8/15\n",
      "16200/16200 [==============================] - 4s - loss: 2.0546 - categorical_accuracy: 0.4019 - val_loss: 2.2241 - val_categorical_accuracy: 0.3500\n",
      "Epoch 9/15\n",
      "16200/16200 [==============================] - 4s - loss: 1.9980 - categorical_accuracy: 0.4151 - val_loss: 2.2091 - val_categorical_accuracy: 0.3506\n",
      "Epoch 10/15\n",
      "16200/16200 [==============================] - 4s - loss: 1.9480 - categorical_accuracy: 0.4336 - val_loss: 2.1955 - val_categorical_accuracy: 0.3506\n",
      "Epoch 11/15\n",
      "16200/16200 [==============================] - 4s - loss: 1.9082 - categorical_accuracy: 0.4415 - val_loss: 2.1915 - val_categorical_accuracy: 0.3494\n",
      "Epoch 12/15\n",
      "16200/16200 [==============================] - 4s - loss: 1.8672 - categorical_accuracy: 0.4543 - val_loss: 2.1883 - val_categorical_accuracy: 0.3506\n",
      "Epoch 13/15\n",
      "16200/16200 [==============================] - 4s - loss: 1.8295 - categorical_accuracy: 0.4659 - val_loss: 2.1854 - val_categorical_accuracy: 0.3461\n",
      "Epoch 14/15\n",
      "16200/16200 [==============================] - 4s - loss: 1.7933 - categorical_accuracy: 0.4681 - val_loss: 2.1859 - val_categorical_accuracy: 0.3494\n",
      "Epoch 15/15\n",
      "16200/16200 [==============================] - 4s - loss: 1.7685 - categorical_accuracy: 0.4811 - val_loss: 2.1899 - val_categorical_accuracy: 0.3461\n",
      "             precision    recall  f1-score   support\n",
      "\n",
      "          0       0.00      0.00      0.00        22\n",
      "          1       0.30      0.35      0.32        74\n",
      "          2       0.51      0.62      0.56       221\n",
      "          3       0.38      0.28      0.32       102\n",
      "          4       0.51      0.43      0.47       109\n",
      "          5       0.00      0.00      0.00        39\n",
      "          6       0.43      0.09      0.15        33\n",
      "          7       0.50      0.07      0.12        46\n",
      "          8       1.00      0.07      0.14        40\n",
      "          9       0.30      0.61      0.41       109\n",
      "         10       0.36      0.20      0.26        60\n",
      "         11       0.00      0.00      0.00        31\n",
      "         12       0.46      0.66      0.54       218\n",
      "         13       0.44      0.48      0.46       142\n",
      "         14       0.37      0.44      0.40        71\n",
      "         15       0.00      0.00      0.00        25\n",
      "         16       1.00      0.12      0.22        16\n",
      "         17       0.25      0.40      0.30       325\n",
      "         18       0.34      0.11      0.16        95\n",
      "         19       0.26      0.18      0.21        61\n",
      "         20       0.00      0.00      0.00        22\n",
      "         21       0.44      0.26      0.33        92\n",
      "         22       0.00      0.00      0.00        47\n",
      "\n",
      "avg / total       0.37      0.37      0.34      2000\n",
      "\n",
      "Accuracy: 37.30%\n"
     ]
    },
    {
     "name": "stderr",
     "output_type": "stream",
     "text": [
      "/home/valentin/bin/anaconda3/envs/tensorflow/lib/python3.6/site-packages/sklearn/metrics/classification.py:1113: UndefinedMetricWarning: Precision and F-score are ill-defined and being set to 0.0 in labels with no predicted samples.\n",
      "  'precision', 'predicted', average, warn_for)\n"
     ]
    },
    {
     "data": {
      "text/plain": [
       "103"
      ]
     },
     "execution_count": 31,
     "metadata": {},
     "output_type": "execute_result"
    }
   ],
   "source": [
    "model.compile(optimizer=\"adagrad\",\n",
    "              loss='categorical_crossentropy',\n",
    "              metrics=['categorical_accuracy'])\n",
    "print(model.summary())\n",
    "model.fit(X_train, y_train, validation_split=0.1, epochs=15, batch_size=256)\n",
    "yhat = model.predict(X_test)\n",
    "_ = helper.score_prediction(y_test, yhat, binary=False)\n",
    "gc.collect()"
   ]
  },
  {
   "cell_type": "markdown",
   "metadata": {},
   "source": [
    "# Basic RNN (LSTM)"
   ]
  },
  {
   "cell_type": "code",
   "execution_count": 29,
   "metadata": {
    "collapsed": true
   },
   "outputs": [],
   "source": [
    "model = keras.models.Sequential()\n",
    "model.add(keras.layers.recurrent.LSTM(100, input_shape=input_shape))\n",
    "model.add(keras.layers.Dropout(0.3))\n",
    "model.add(keras.layers.Dense(23, activation='softmax'))"
   ]
  },
  {
   "cell_type": "code",
   "execution_count": 30,
   "metadata": {},
   "outputs": [
    {
     "name": "stdout",
     "output_type": "stream",
     "text": [
      "_________________________________________________________________\n",
      "Layer (type)                 Output Shape              Param #   \n",
      "=================================================================\n",
      "lstm_12 (LSTM)               (None, 100)               120400    \n",
      "_________________________________________________________________\n",
      "dropout_12 (Dropout)         (None, 100)               0         \n",
      "_________________________________________________________________\n",
      "dense_6 (Dense)              (None, 23)                2323      \n",
      "=================================================================\n",
      "Total params: 122,723\n",
      "Trainable params: 122,723\n",
      "Non-trainable params: 0\n",
      "_________________________________________________________________\n",
      "None\n",
      "Train on 36925 samples, validate on 4103 samples\n",
      "Epoch 1/15\n",
      "36925/36925 [==============================] - 19s - loss: 2.6026 - categorical_accuracy: 0.2370 - val_loss: 2.4208 - val_categorical_accuracy: 0.2661\n",
      "Epoch 2/15\n",
      "36925/36925 [==============================] - 18s - loss: 2.4080 - categorical_accuracy: 0.2788 - val_loss: 2.2901 - val_categorical_accuracy: 0.3010\n",
      "Epoch 3/15\n",
      "36925/36925 [==============================] - 18s - loss: 2.3091 - categorical_accuracy: 0.2982 - val_loss: 2.2486 - val_categorical_accuracy: 0.3037\n",
      "Epoch 4/15\n",
      "36925/36925 [==============================] - 19s - loss: 2.2471 - categorical_accuracy: 0.3181 - val_loss: 2.1899 - val_categorical_accuracy: 0.3305\n",
      "Epoch 5/15\n",
      "36925/36925 [==============================] - 19s - loss: 2.1844 - categorical_accuracy: 0.3331 - val_loss: 2.1256 - val_categorical_accuracy: 0.3575\n",
      "Epoch 6/15\n",
      "36925/36925 [==============================] - 18s - loss: 2.1362 - categorical_accuracy: 0.3477 - val_loss: 2.0955 - val_categorical_accuracy: 0.3651\n",
      "Epoch 7/15\n",
      "36925/36925 [==============================] - 19s - loss: 2.0911 - categorical_accuracy: 0.3600 - val_loss: 2.1403 - val_categorical_accuracy: 0.3400\n",
      "Epoch 8/15\n",
      "36925/36925 [==============================] - 19s - loss: 2.0565 - categorical_accuracy: 0.3654 - val_loss: 2.0215 - val_categorical_accuracy: 0.3807\n",
      "Epoch 9/15\n",
      "36925/36925 [==============================] - 19s - loss: 2.0204 - categorical_accuracy: 0.3762 - val_loss: 2.0005 - val_categorical_accuracy: 0.3863\n",
      "Epoch 10/15\n",
      "36925/36925 [==============================] - 19s - loss: 1.9865 - categorical_accuracy: 0.3812 - val_loss: 1.9613 - val_categorical_accuracy: 0.3956\n",
      "Epoch 11/15\n",
      "36925/36925 [==============================] - 19s - loss: 1.9578 - categorical_accuracy: 0.3887 - val_loss: 1.9556 - val_categorical_accuracy: 0.3970\n",
      "Epoch 12/15\n",
      "36925/36925 [==============================] - 19s - loss: 1.9373 - categorical_accuracy: 0.3920 - val_loss: 1.9346 - val_categorical_accuracy: 0.4019\n",
      "Epoch 13/15\n",
      "36925/36925 [==============================] - 19s - loss: 1.9149 - categorical_accuracy: 0.3984 - val_loss: 1.9113 - val_categorical_accuracy: 0.4039\n",
      "Epoch 14/15\n",
      "36925/36925 [==============================] - 19s - loss: 1.8865 - categorical_accuracy: 0.4045 - val_loss: 1.8953 - val_categorical_accuracy: 0.4029\n",
      "Epoch 15/15\n",
      "36925/36925 [==============================] - 19s - loss: 1.8685 - categorical_accuracy: 0.4124 - val_loss: 1.8821 - val_categorical_accuracy: 0.4087\n",
      "             precision    recall  f1-score   support\n",
      "\n",
      "          0       0.00      0.00      0.00        36\n",
      "          1       0.33      0.57      0.42       182\n",
      "          2       0.50      0.75      0.60       457\n",
      "          3       0.41      0.50      0.45       254\n",
      "          4       0.49      0.33      0.39       241\n",
      "          5       0.06      0.02      0.02        63\n",
      "          6       0.41      0.63      0.50        81\n",
      "          7       0.32      0.35      0.33       126\n",
      "          8       0.34      0.12      0.18       106\n",
      "          9       0.38      0.34      0.36       232\n",
      "         10       0.37      0.30      0.33       140\n",
      "         11       0.25      0.04      0.06        84\n",
      "         12       0.47      0.78      0.59       523\n",
      "         13       0.43      0.41      0.42       331\n",
      "         14       0.41      0.44      0.43       143\n",
      "         15       0.32      0.27      0.29        37\n",
      "         16       0.80      0.13      0.23        30\n",
      "         17       0.25      0.15      0.19       771\n",
      "         18       0.37      0.30      0.33       218\n",
      "         19       0.37      0.38      0.37       132\n",
      "         20       0.00      0.00      0.00        45\n",
      "         21       0.47      0.43      0.45       235\n",
      "         22       0.22      0.20      0.21        92\n",
      "\n",
      "avg / total       0.38      0.41      0.38      4559\n",
      "\n",
      "Accuracy: 40.80%\n"
     ]
    },
    {
     "name": "stderr",
     "output_type": "stream",
     "text": [
      "/home/valentin/bin/anaconda3/envs/tensorflow/lib/python3.6/site-packages/sklearn/metrics/classification.py:1113: UndefinedMetricWarning: Precision and F-score are ill-defined and being set to 0.0 in labels with no predicted samples.\n",
      "  'precision', 'predicted', average, warn_for)\n"
     ]
    },
    {
     "data": {
      "text/plain": [
       "313"
      ]
     },
     "execution_count": 30,
     "metadata": {},
     "output_type": "execute_result"
    }
   ],
   "source": [
    "model.compile(optimizer=\"adagrad\",\n",
    "              loss='categorical_crossentropy',\n",
    "              metrics=['categorical_accuracy'])\n",
    "print(model.summary())\n",
    "model.fit(X_train, y_train, validation_split=0.1, epochs=15, batch_size=256)\n",
    "yhat = model.predict(X_test)\n",
    "_ = helper.score_prediction(y_test, yhat, binary=False)\n",
    "gc.collect()"
   ]
  },
  {
   "cell_type": "markdown",
   "metadata": {},
   "source": [
    "# Basic RNN (GRU)"
   ]
  },
  {
   "cell_type": "code",
   "execution_count": 47,
   "metadata": {
    "collapsed": true
   },
   "outputs": [],
   "source": [
    "model = keras.models.Sequential()\n",
    "model.add(keras.layers.recurrent.GRU(100, input_shape=input_shape))\n",
    "model.add(keras.layers.Dropout(0.3))\n",
    "model.add(keras.layers.Dense(23, activation='softmax'))"
   ]
  },
  {
   "cell_type": "code",
   "execution_count": 48,
   "metadata": {},
   "outputs": [
    {
     "name": "stdout",
     "output_type": "stream",
     "text": [
      "_________________________________________________________________\n",
      "Layer (type)                 Output Shape              Param #   \n",
      "=================================================================\n",
      "gru_14 (GRU)                 (None, 100)               90300     \n",
      "_________________________________________________________________\n",
      "dropout_23 (Dropout)         (None, 100)               0         \n",
      "_________________________________________________________________\n",
      "dense_13 (Dense)             (None, 23)                2323      \n",
      "=================================================================\n",
      "Total params: 92,623\n",
      "Trainable params: 92,623\n",
      "Non-trainable params: 0\n",
      "_________________________________________________________________\n",
      "None\n",
      "Train on 36925 samples, validate on 4103 samples\n",
      "Epoch 1/15\n",
      "36925/36925 [==============================] - 16s - loss: 2.3841 - categorical_accuracy: 0.2942 - val_loss: 1.9515 - val_categorical_accuracy: 0.3883\n",
      "Epoch 2/15\n",
      "36925/36925 [==============================] - 16s - loss: 1.8802 - categorical_accuracy: 0.4022 - val_loss: 1.7801 - val_categorical_accuracy: 0.4241\n",
      "Epoch 3/15\n",
      "36925/36925 [==============================] - 16s - loss: 1.7649 - categorical_accuracy: 0.4265 - val_loss: 1.7076 - val_categorical_accuracy: 0.4450\n",
      "Epoch 4/15\n",
      "36925/36925 [==============================] - 16s - loss: 1.7091 - categorical_accuracy: 0.4393 - val_loss: 1.6800 - val_categorical_accuracy: 0.4465\n",
      "Epoch 5/15\n",
      "36925/36925 [==============================] - 16s - loss: 1.6657 - categorical_accuracy: 0.4502 - val_loss: 1.6579 - val_categorical_accuracy: 0.4543\n",
      "Epoch 6/15\n",
      "36925/36925 [==============================] - 16s - loss: 1.6413 - categorical_accuracy: 0.4547 - val_loss: 1.6405 - val_categorical_accuracy: 0.4621\n",
      "Epoch 7/15\n",
      "36925/36925 [==============================] - 16s - loss: 1.6184 - categorical_accuracy: 0.4615 - val_loss: 1.6243 - val_categorical_accuracy: 0.4609\n",
      "Epoch 8/15\n",
      "36925/36925 [==============================] - 16s - loss: 1.5985 - categorical_accuracy: 0.4643 - val_loss: 1.6065 - val_categorical_accuracy: 0.4611\n",
      "Epoch 9/15\n",
      "36925/36925 [==============================] - 16s - loss: 1.5828 - categorical_accuracy: 0.4693 - val_loss: 1.6021 - val_categorical_accuracy: 0.4680\n",
      "Epoch 10/15\n",
      "36925/36925 [==============================] - 16s - loss: 1.5687 - categorical_accuracy: 0.4711 - val_loss: 1.5974 - val_categorical_accuracy: 0.4658\n",
      "Epoch 11/15\n",
      "36925/36925 [==============================] - 16s - loss: 1.5571 - categorical_accuracy: 0.4758 - val_loss: 1.5927 - val_categorical_accuracy: 0.4699\n",
      "Epoch 12/15\n",
      "36925/36925 [==============================] - 16s - loss: 1.5447 - categorical_accuracy: 0.4748 - val_loss: 1.5802 - val_categorical_accuracy: 0.4699\n",
      "Epoch 13/15\n",
      "36925/36925 [==============================] - 16s - loss: 1.5361 - categorical_accuracy: 0.4785 - val_loss: 1.5798 - val_categorical_accuracy: 0.4701\n",
      "Epoch 14/15\n",
      "36925/36925 [==============================] - 16s - loss: 1.5218 - categorical_accuracy: 0.4814 - val_loss: 1.5764 - val_categorical_accuracy: 0.4680\n",
      "Epoch 15/15\n",
      "36925/36925 [==============================] - 16s - loss: 1.5157 - categorical_accuracy: 0.4829 - val_loss: 1.5671 - val_categorical_accuracy: 0.4711\n",
      "             precision    recall  f1-score   support\n",
      "\n",
      "          0       0.00      0.00      0.00        36\n",
      "          1       0.43      0.52      0.47       182\n",
      "          2       0.54      0.69      0.61       457\n",
      "          3       0.44      0.48      0.45       254\n",
      "          4       0.58      0.49      0.53       241\n",
      "          5       0.41      0.22      0.29        63\n",
      "          6       0.60      0.62      0.61        81\n",
      "          7       0.46      0.43      0.44       126\n",
      "          8       0.37      0.29      0.33       106\n",
      "          9       0.44      0.52      0.48       232\n",
      "         10       0.41      0.43      0.42       140\n",
      "         11       0.36      0.36      0.36        84\n",
      "         12       0.54      0.67      0.60       523\n",
      "         13       0.49      0.46      0.47       331\n",
      "         14       0.42      0.55      0.47       143\n",
      "         15       0.42      0.49      0.45        37\n",
      "         16       0.53      0.63      0.58        30\n",
      "         17       0.32      0.22      0.26       771\n",
      "         18       0.45      0.47      0.46       218\n",
      "         19       0.47      0.43      0.45       132\n",
      "         20       0.47      0.33      0.39        45\n",
      "         21       0.54      0.57      0.55       235\n",
      "         22       0.33      0.24      0.28        92\n",
      "\n",
      "avg / total       0.45      0.47      0.45      4559\n",
      "\n",
      "Accuracy: 46.59%\n"
     ]
    },
    {
     "data": {
      "text/plain": [
       "102"
      ]
     },
     "execution_count": 48,
     "metadata": {},
     "output_type": "execute_result"
    }
   ],
   "source": [
    "model.compile(optimizer=\"adagrad\",\n",
    "              loss='categorical_crossentropy',\n",
    "              metrics=['accuracy'])\n",
    "print(model.summary())\n",
    "model.fit(X_train, y_train, validation_split=0.1, epochs=15, batch_size=256)\n",
    "yhat = model.predict(X_test)\n",
    "_ = helper.score_prediction(y_test, yhat, binary=False)\n",
    "gc.collect()"
   ]
  },
  {
   "cell_type": "markdown",
   "metadata": {},
   "source": [
    "# Deep RNN (GRU)"
   ]
  },
  {
   "cell_type": "code",
   "execution_count": 45,
   "metadata": {
    "collapsed": true
   },
   "outputs": [],
   "source": [
    "model = keras.models.Sequential()\n",
    "model.add(keras.layers.recurrent.GRU(64, input_shape=input_shape, return_sequences=True))\n",
    "model.add(keras.layers.Dropout(0.3))\n",
    "model.add(keras.layers.recurrent.GRU(32))\n",
    "model.add(keras.layers.Dropout(0.3))\n",
    "model.add(keras.layers.Dense(23, activation='softmax'))"
   ]
  },
  {
   "cell_type": "code",
   "execution_count": 46,
   "metadata": {
    "scrolled": false
   },
   "outputs": [
    {
     "name": "stdout",
     "output_type": "stream",
     "text": [
      "_________________________________________________________________\n",
      "Layer (type)                 Output Shape              Param #   \n",
      "=================================================================\n",
      "gru_12 (GRU)                 (None, 100, 64)           50880     \n",
      "_________________________________________________________________\n",
      "dropout_21 (Dropout)         (None, 100, 64)           0         \n",
      "_________________________________________________________________\n",
      "gru_13 (GRU)                 (None, 32)                9312      \n",
      "_________________________________________________________________\n",
      "dropout_22 (Dropout)         (None, 32)                0         \n",
      "_________________________________________________________________\n",
      "dense_12 (Dense)             (None, 23)                759       \n",
      "=================================================================\n",
      "Total params: 60,951\n",
      "Trainable params: 60,951\n",
      "Non-trainable params: 0\n",
      "_________________________________________________________________\n",
      "None\n",
      "Train on 36925 samples, validate on 4103 samples\n",
      "Epoch 1/15\n",
      "36925/36925 [==============================] - 28s - loss: 2.5850 - categorical_accuracy: 0.2559 - val_loss: 2.3102 - val_categorical_accuracy: 0.3154\n",
      "Epoch 2/15\n",
      "36925/36925 [==============================] - 27s - loss: 2.2861 - categorical_accuracy: 0.3230 - val_loss: 2.1198 - val_categorical_accuracy: 0.3571\n",
      "Epoch 3/15\n",
      "36925/36925 [==============================] - 27s - loss: 2.1242 - categorical_accuracy: 0.3553 - val_loss: 1.9889 - val_categorical_accuracy: 0.3885\n",
      "Epoch 4/15\n",
      "36925/36925 [==============================] - 28s - loss: 2.0150 - categorical_accuracy: 0.3823 - val_loss: 1.9151 - val_categorical_accuracy: 0.4168\n",
      "Epoch 5/15\n",
      "36925/36925 [==============================] - 28s - loss: 1.9480 - categorical_accuracy: 0.3976 - val_loss: 1.8710 - val_categorical_accuracy: 0.4265\n",
      "Epoch 6/15\n",
      "36925/36925 [==============================] - 27s - loss: 1.9000 - categorical_accuracy: 0.4117 - val_loss: 1.8309 - val_categorical_accuracy: 0.4316\n",
      "Epoch 7/15\n",
      "36925/36925 [==============================] - 27s - loss: 1.8655 - categorical_accuracy: 0.4175 - val_loss: 1.8108 - val_categorical_accuracy: 0.4338\n",
      "Epoch 8/15\n",
      "36925/36925 [==============================] - 27s - loss: 1.8376 - categorical_accuracy: 0.4264 - val_loss: 1.7834 - val_categorical_accuracy: 0.4421\n",
      "Epoch 9/15\n",
      "36925/36925 [==============================] - 28s - loss: 1.8126 - categorical_accuracy: 0.4339 - val_loss: 1.7658 - val_categorical_accuracy: 0.4414\n",
      "Epoch 10/15\n",
      "36925/36925 [==============================] - 27s - loss: 1.7947 - categorical_accuracy: 0.4368 - val_loss: 1.7530 - val_categorical_accuracy: 0.4543\n",
      "Epoch 11/15\n",
      "36925/36925 [==============================] - 28s - loss: 1.7784 - categorical_accuracy: 0.4388 - val_loss: 1.7408 - val_categorical_accuracy: 0.4502\n",
      "Epoch 12/15\n",
      "36925/36925 [==============================] - 27s - loss: 1.7594 - categorical_accuracy: 0.4464 - val_loss: 1.7290 - val_categorical_accuracy: 0.4538\n",
      "Epoch 13/15\n",
      "36925/36925 [==============================] - 27s - loss: 1.7520 - categorical_accuracy: 0.4451 - val_loss: 1.7225 - val_categorical_accuracy: 0.4567\n",
      "Epoch 14/15\n",
      "36925/36925 [==============================] - 26s - loss: 1.7383 - categorical_accuracy: 0.4512 - val_loss: 1.7143 - val_categorical_accuracy: 0.4563\n",
      "Epoch 15/15\n",
      "36925/36925 [==============================] - 27s - loss: 1.7256 - categorical_accuracy: 0.4516 - val_loss: 1.7071 - val_categorical_accuracy: 0.4572\n",
      "             precision    recall  f1-score   support\n",
      "\n",
      "          0       0.00      0.00      0.00        36\n",
      "          1       0.38      0.55      0.45       182\n",
      "          2       0.57      0.71      0.63       457\n",
      "          3       0.44      0.52      0.48       254\n",
      "          4       0.56      0.46      0.51       241\n",
      "          5       0.14      0.06      0.09        63\n",
      "          6       0.54      0.64      0.58        81\n",
      "          7       0.42      0.50      0.46       126\n",
      "          8       0.37      0.20      0.26       106\n",
      "          9       0.40      0.49      0.44       232\n",
      "         10       0.46      0.32      0.38       140\n",
      "         11       0.50      0.05      0.09        84\n",
      "         12       0.52      0.72      0.60       523\n",
      "         13       0.48      0.51      0.49       331\n",
      "         14       0.45      0.56      0.50       143\n",
      "         15       0.34      0.43      0.38        37\n",
      "         16       0.70      0.47      0.56        30\n",
      "         17       0.30      0.19      0.24       771\n",
      "         18       0.45      0.47      0.46       218\n",
      "         19       0.40      0.39      0.40       132\n",
      "         20       0.44      0.16      0.23        45\n",
      "         21       0.55      0.54      0.54       235\n",
      "         22       0.26      0.22      0.24        92\n",
      "\n",
      "avg / total       0.44      0.46      0.44      4559\n",
      "\n",
      "Accuracy: 45.71%\n"
     ]
    },
    {
     "name": "stderr",
     "output_type": "stream",
     "text": [
      "/home/valentin/bin/anaconda3/envs/tensorflow/lib/python3.6/site-packages/sklearn/metrics/classification.py:1113: UndefinedMetricWarning: Precision and F-score are ill-defined and being set to 0.0 in labels with no predicted samples.\n",
      "  'precision', 'predicted', average, warn_for)\n"
     ]
    },
    {
     "data": {
      "text/plain": [
       "1135"
      ]
     },
     "execution_count": 46,
     "metadata": {},
     "output_type": "execute_result"
    }
   ],
   "source": [
    "model.compile(optimizer=\"adagrad\",\n",
    "              loss='categorical_crossentropy',\n",
    "              metrics=['categorical_accuracy'])\n",
    "print(model.summary())\n",
    "model.fit(X_train, y_train, validation_split=0.1, epochs=15, batch_size=256)\n",
    "yhat = model.predict(X_test)\n",
    "_ = helper.score_prediction(y_test, yhat, binary=False)\n",
    "gc.collect()"
   ]
  },
  {
   "cell_type": "markdown",
   "metadata": {},
   "source": [
    "# Basic CNN"
   ]
  },
  {
   "cell_type": "code",
   "execution_count": 108,
   "metadata": {
    "collapsed": true
   },
   "outputs": [],
   "source": [
    "filters = 100\n",
    "\n",
    "model = keras.models.Sequential()\n",
    "model.add(keras.layers.Conv1D(filters,\n",
    "             kernel_size=1,\n",
    "             padding='valid',\n",
    "             activation='relu',\n",
    "             strides=1, input_shape=input_shape))\n",
    "model.add(keras.layers.pooling.GlobalMaxPooling1D())\n",
    "model.add(keras.layers.Dropout(0.3))\n",
    "model.add(keras.layers.Dense(23, activation='softmax'))"
   ]
  },
  {
   "cell_type": "code",
   "execution_count": 109,
   "metadata": {},
   "outputs": [
    {
     "name": "stdout",
     "output_type": "stream",
     "text": [
      "_________________________________________________________________\n",
      "Layer (type)                 Output Shape              Param #   \n",
      "=================================================================\n",
      "conv1d_19 (Conv1D)           (None, 100, 100)          20100     \n",
      "_________________________________________________________________\n",
      "global_max_pooling1d_8 (Glob (None, 100)               0         \n",
      "_________________________________________________________________\n",
      "dropout_51 (Dropout)         (None, 100)               0         \n",
      "_________________________________________________________________\n",
      "dense_44 (Dense)             (None, 23)                2323      \n",
      "=================================================================\n",
      "Total params: 22,423\n",
      "Trainable params: 22,423\n",
      "Non-trainable params: 0\n",
      "_________________________________________________________________\n",
      "None\n",
      "Train on 36925 samples, validate on 4103 samples\n",
      "Epoch 1/15\n",
      "36925/36925 [==============================] - 6s - loss: 2.1590 - categorical_accuracy: 0.3468 - val_loss: 1.8842 - val_categorical_accuracy: 0.4002\n",
      "Epoch 2/15\n",
      "36925/36925 [==============================] - 5s - loss: 1.9284 - categorical_accuracy: 0.3914 - val_loss: 1.7985 - val_categorical_accuracy: 0.4209\n",
      "Epoch 3/15\n",
      "36925/36925 [==============================] - 5s - loss: 1.8623 - categorical_accuracy: 0.4067 - val_loss: 1.7617 - val_categorical_accuracy: 0.4241\n",
      "Epoch 4/15\n",
      "36925/36925 [==============================] - 5s - loss: 1.8360 - categorical_accuracy: 0.4123 - val_loss: 1.7355 - val_categorical_accuracy: 0.4309\n",
      "Epoch 5/15\n",
      "36925/36925 [==============================] - 5s - loss: 1.8088 - categorical_accuracy: 0.4188 - val_loss: 1.7183 - val_categorical_accuracy: 0.4324\n",
      "Epoch 6/15\n",
      "36925/36925 [==============================] - 5s - loss: 1.7942 - categorical_accuracy: 0.4227 - val_loss: 1.7046 - val_categorical_accuracy: 0.4353\n",
      "Epoch 7/15\n",
      "36925/36925 [==============================] - 5s - loss: 1.7853 - categorical_accuracy: 0.4229 - val_loss: 1.6950 - val_categorical_accuracy: 0.4324\n",
      "Epoch 8/15\n",
      "36925/36925 [==============================] - 5s - loss: 1.7666 - categorical_accuracy: 0.4257 - val_loss: 1.6850 - val_categorical_accuracy: 0.4358\n",
      "Epoch 9/15\n",
      "36925/36925 [==============================] - 5s - loss: 1.7584 - categorical_accuracy: 0.4278 - val_loss: 1.6762 - val_categorical_accuracy: 0.4382\n",
      "Epoch 10/15\n",
      "36925/36925 [==============================] - 5s - loss: 1.7526 - categorical_accuracy: 0.4290 - val_loss: 1.6688 - val_categorical_accuracy: 0.4411\n",
      "Epoch 11/15\n",
      "36925/36925 [==============================] - 5s - loss: 1.7461 - categorical_accuracy: 0.4312 - val_loss: 1.6645 - val_categorical_accuracy: 0.4414\n",
      "Epoch 12/15\n",
      "36925/36925 [==============================] - 5s - loss: 1.7365 - categorical_accuracy: 0.4347 - val_loss: 1.6608 - val_categorical_accuracy: 0.4436\n",
      "Epoch 13/15\n",
      "36925/36925 [==============================] - 5s - loss: 1.7290 - categorical_accuracy: 0.4367 - val_loss: 1.6541 - val_categorical_accuracy: 0.4433\n",
      "Epoch 14/15\n",
      "36925/36925 [==============================] - 5s - loss: 1.7249 - categorical_accuracy: 0.4339 - val_loss: 1.6486 - val_categorical_accuracy: 0.4428\n",
      "Epoch 15/15\n",
      "36925/36925 [==============================] - 5s - loss: 1.7177 - categorical_accuracy: 0.4353 - val_loss: 1.6447 - val_categorical_accuracy: 0.4436\n",
      "             precision    recall  f1-score   support\n",
      "\n",
      "          0       0.00      0.00      0.00        36\n",
      "          1       0.42      0.47      0.44       182\n",
      "          2       0.55      0.73      0.63       457\n",
      "          3       0.43      0.44      0.43       254\n",
      "          4       0.58      0.47      0.52       241\n",
      "          5       0.25      0.11      0.15        63\n",
      "          6       0.61      0.62      0.61        81\n",
      "          7       0.45      0.34      0.39       126\n",
      "          8       0.47      0.18      0.26       106\n",
      "          9       0.43      0.53      0.48       232\n",
      "         10       0.47      0.34      0.39       140\n",
      "         11       0.44      0.14      0.22        84\n",
      "         12       0.53      0.69      0.60       523\n",
      "         13       0.47      0.47      0.47       331\n",
      "         14       0.40      0.49      0.44       143\n",
      "         15       0.45      0.35      0.39        37\n",
      "         16       0.56      0.60      0.58        30\n",
      "         17       0.25      0.26      0.26       771\n",
      "         18       0.41      0.39      0.40       218\n",
      "         19       0.51      0.40      0.45       132\n",
      "         20       0.50      0.22      0.31        45\n",
      "         21       0.54      0.55      0.54       235\n",
      "         22       0.32      0.20      0.24        92\n",
      "\n",
      "avg / total       0.44      0.45      0.44      4559\n",
      "\n",
      "Accuracy: 44.99%\n"
     ]
    },
    {
     "name": "stderr",
     "output_type": "stream",
     "text": [
      "/home/valentin/bin/anaconda3/envs/tensorflow/lib/python3.6/site-packages/sklearn/metrics/classification.py:1113: UndefinedMetricWarning: Precision and F-score are ill-defined and being set to 0.0 in labels with no predicted samples.\n",
      "  'precision', 'predicted', average, warn_for)\n"
     ]
    },
    {
     "data": {
      "text/plain": [
       "102"
      ]
     },
     "execution_count": 109,
     "metadata": {},
     "output_type": "execute_result"
    }
   ],
   "source": [
    "model.compile(optimizer=\"adagrad\",\n",
    "              loss='categorical_crossentropy',\n",
    "              metrics=['categorical_accuracy'])\n",
    "print(model.summary())\n",
    "model.fit(X_train, y_train, validation_split=0.1, epochs=15, batch_size=256)\n",
    "yhat = model.predict(X_test)\n",
    "_ = helper.score_prediction(y_test, yhat, binary=False)\n",
    "gc.collect()"
   ]
  },
  {
   "cell_type": "markdown",
   "metadata": {},
   "source": [
    "# Basic Recurrent CNN"
   ]
  },
  {
   "cell_type": "code",
   "execution_count": 19,
   "metadata": {
    "collapsed": true
   },
   "outputs": [],
   "source": [
    "input_shape = (100, 200)\n",
    "filters = 128\n",
    "kernel_size = 3\n",
    "model = keras.models.Sequential()\n",
    "model.add(keras.layers.Conv1D(filters,\n",
    "             kernel_size,\n",
    "             padding='valid',\n",
    "             activation='relu',\n",
    "             strides=1, input_shape=input_shape))\n",
    "model.add(keras.layers.MaxPool1D(pool_size=16))\n",
    "model.add(keras.layers.Dropout(0.5))\n",
    "model.add(keras.layers.recurrent.GRU(64))\n",
    "model.add(keras.layers.Dropout(0.5))\n",
    "model.add(keras.layers.Dense(23, activation='softmax'))"
   ]
  },
  {
   "cell_type": "code",
   "execution_count": 20,
   "metadata": {
    "scrolled": false
   },
   "outputs": [
    {
     "name": "stdout",
     "output_type": "stream",
     "text": [
      "_________________________________________________________________\n",
      "Layer (type)                 Output Shape              Param #   \n",
      "=================================================================\n",
      "conv1d_12 (Conv1D)           (None, 98, 128)           76928     \n",
      "_________________________________________________________________\n",
      "max_pooling1d_12 (MaxPooling (None, 6, 128)            0         \n",
      "_________________________________________________________________\n",
      "dropout_17 (Dropout)         (None, 6, 128)            0         \n",
      "_________________________________________________________________\n",
      "gru_7 (GRU)                  (None, 64)                37056     \n",
      "_________________________________________________________________\n",
      "dropout_18 (Dropout)         (None, 64)                0         \n",
      "_________________________________________________________________\n",
      "dense_8 (Dense)              (None, 23)                1495      \n",
      "=================================================================\n",
      "Total params: 115,479\n",
      "Trainable params: 115,479\n",
      "Non-trainable params: 0\n",
      "_________________________________________________________________\n",
      "None\n",
      "Train on 36925 samples, validate on 4103 samples\n",
      "Epoch 1/15\n",
      "36925/36925 [==============================] - 6s - loss: 2.2574 - categorical_accuracy: 0.3285 - val_loss: 1.8915 - val_categorical_accuracy: 0.4095\n",
      "Epoch 2/15\n",
      "36925/36925 [==============================] - 6s - loss: 1.9717 - categorical_accuracy: 0.3949 - val_loss: 1.8013 - val_categorical_accuracy: 0.4311\n",
      "Epoch 3/15\n",
      "36925/36925 [==============================] - 6s - loss: 1.8876 - categorical_accuracy: 0.4155 - val_loss: 1.7484 - val_categorical_accuracy: 0.4360\n",
      "Epoch 4/15\n",
      "36925/36925 [==============================] - 6s - loss: 1.8338 - categorical_accuracy: 0.4299 - val_loss: 1.7014 - val_categorical_accuracy: 0.4494\n",
      "Epoch 5/15\n",
      "36925/36925 [==============================] - 6s - loss: 1.7936 - categorical_accuracy: 0.4379 - val_loss: 1.6863 - val_categorical_accuracy: 0.4521\n",
      "Epoch 6/15\n",
      "36925/36925 [==============================] - 6s - loss: 1.7762 - categorical_accuracy: 0.4408 - val_loss: 1.6644 - val_categorical_accuracy: 0.4541\n",
      "Epoch 7/15\n",
      "36925/36925 [==============================] - 6s - loss: 1.7492 - categorical_accuracy: 0.4492 - val_loss: 1.6572 - val_categorical_accuracy: 0.4584\n",
      "Epoch 8/15\n",
      "36925/36925 [==============================] - 6s - loss: 1.7322 - categorical_accuracy: 0.4504 - val_loss: 1.6501 - val_categorical_accuracy: 0.4606\n",
      "Epoch 9/15\n",
      "36925/36925 [==============================] - 6s - loss: 1.7104 - categorical_accuracy: 0.4578 - val_loss: 1.6445 - val_categorical_accuracy: 0.4577\n",
      "Epoch 10/15\n",
      "36925/36925 [==============================] - 6s - loss: 1.6985 - categorical_accuracy: 0.4601 - val_loss: 1.6397 - val_categorical_accuracy: 0.4662\n",
      "Epoch 11/15\n",
      "36925/36925 [==============================] - 6s - loss: 1.6856 - categorical_accuracy: 0.4636 - val_loss: 1.6296 - val_categorical_accuracy: 0.4655\n",
      "Epoch 12/15\n",
      "36925/36925 [==============================] - 6s - loss: 1.6768 - categorical_accuracy: 0.4662 - val_loss: 1.6271 - val_categorical_accuracy: 0.4660\n",
      "Epoch 13/15\n",
      "36925/36925 [==============================] - 6s - loss: 1.6502 - categorical_accuracy: 0.4723 - val_loss: 1.6273 - val_categorical_accuracy: 0.4614\n",
      "Epoch 14/15\n",
      "36925/36925 [==============================] - 6s - loss: 1.6496 - categorical_accuracy: 0.4721 - val_loss: 1.6153 - val_categorical_accuracy: 0.4670\n",
      "Epoch 15/15\n",
      "36925/36925 [==============================] - 6s - loss: 1.6396 - categorical_accuracy: 0.4761 - val_loss: 1.6309 - val_categorical_accuracy: 0.4599\n",
      "             precision    recall  f1-score   support\n",
      "\n",
      "          0       0.00      0.00      0.00        36\n",
      "          1       0.38      0.59      0.47       182\n",
      "          2       0.53      0.74      0.62       457\n",
      "          3       0.44      0.50      0.47       254\n",
      "          4       0.57      0.48      0.52       241\n",
      "          5       0.21      0.06      0.10        63\n",
      "          6       0.57      0.64      0.60        81\n",
      "          7       0.45      0.48      0.47       126\n",
      "          8       0.31      0.27      0.29       106\n",
      "          9       0.42      0.59      0.49       232\n",
      "         10       0.49      0.34      0.40       140\n",
      "         11       0.43      0.29      0.34        84\n",
      "         12       0.54      0.65      0.59       523\n",
      "         13       0.51      0.46      0.48       331\n",
      "         14       0.43      0.53      0.48       143\n",
      "         15       0.30      0.43      0.36        37\n",
      "         16       0.65      0.67      0.66        30\n",
      "         17       0.33      0.16      0.22       771\n",
      "         18       0.43      0.47      0.45       218\n",
      "         19       0.44      0.50      0.47       132\n",
      "         20       0.67      0.27      0.38        45\n",
      "         21       0.54      0.66      0.59       235\n",
      "         22       0.37      0.28      0.32        92\n",
      "\n",
      "avg / total       0.45      0.47      0.45      4559\n",
      "\n",
      "Accuracy: 46.76%\n"
     ]
    },
    {
     "name": "stderr",
     "output_type": "stream",
     "text": [
      "/home/valentin/bin/anaconda3/envs/tensorflow/lib/python3.6/site-packages/sklearn/metrics/classification.py:1113: UndefinedMetricWarning: Precision and F-score are ill-defined and being set to 0.0 in labels with no predicted samples.\n",
      "  'precision', 'predicted', average, warn_for)\n"
     ]
    },
    {
     "data": {
      "text/plain": [
       "108"
      ]
     },
     "execution_count": 20,
     "metadata": {},
     "output_type": "execute_result"
    }
   ],
   "source": [
    "model.compile(optimizer=\"adagrad\",\n",
    "              loss='categorical_crossentropy',\n",
    "              metrics=['categorical_accuracy'])\n",
    "print(model.summary())\n",
    "model.fit(X_train, y_train, validation_split=0.1, epochs=15, batch_size=256)\n",
    "yhat = model.predict(X_test)\n",
    "_ = helper.score_prediction(y_test, yhat, binary=False)\n",
    "gc.collect()"
   ]
  },
  {
   "cell_type": "markdown",
   "metadata": {},
   "source": [
    "# Deep Recurrent CNN"
   ]
  },
  {
   "cell_type": "code",
   "execution_count": 13,
   "metadata": {
    "collapsed": true
   },
   "outputs": [],
   "source": [
    "input_shape = (100, 200)\n",
    "filters = 128\n",
    "model = keras.models.Sequential()\n",
    "model.add(keras.layers.Conv1D(filters,\n",
    "             kernel_size=2,\n",
    "             padding='valid',\n",
    "             activation='relu',\n",
    "             strides=1, input_shape=input_shape))\n",
    "model.add(keras.layers.MaxPool1D(pool_size=16))\n",
    "model.add(keras.layers.Dropout(0.5))\n",
    "model.add(keras.layers.Conv1D(filters,\n",
    "             kernel_size=3,\n",
    "             padding='valid',\n",
    "             activation='relu',\n",
    "             strides=1, input_shape=input_shape))\n",
    "model.add(keras.layers.MaxPool1D(pool_size=2))\n",
    "model.add(keras.layers.Dropout(0.5))\n",
    "model.add(keras.layers.recurrent.GRU(64))\n",
    "model.add(keras.layers.Dropout(0.5))\n",
    "model.add(keras.layers.Dense(23, activation='softmax'))"
   ]
  },
  {
   "cell_type": "code",
   "execution_count": 14,
   "metadata": {
    "scrolled": false
   },
   "outputs": [
    {
     "name": "stdout",
     "output_type": "stream",
     "text": [
      "_________________________________________________________________\n",
      "Layer (type)                 Output Shape              Param #   \n",
      "=================================================================\n",
      "conv1d_8 (Conv1D)            (None, 99, 128)           51328     \n",
      "_________________________________________________________________\n",
      "max_pooling1d_8 (MaxPooling1 (None, 6, 128)            0         \n",
      "_________________________________________________________________\n",
      "dropout_9 (Dropout)          (None, 6, 128)            0         \n",
      "_________________________________________________________________\n",
      "conv1d_9 (Conv1D)            (None, 4, 128)            49280     \n",
      "_________________________________________________________________\n",
      "max_pooling1d_9 (MaxPooling1 (None, 2, 128)            0         \n",
      "_________________________________________________________________\n",
      "dropout_10 (Dropout)         (None, 2, 128)            0         \n",
      "_________________________________________________________________\n",
      "gru_4 (GRU)                  (None, 64)                37056     \n",
      "_________________________________________________________________\n",
      "dropout_11 (Dropout)         (None, 64)                0         \n",
      "_________________________________________________________________\n",
      "dense_4 (Dense)              (None, 23)                1495      \n",
      "=================================================================\n",
      "Total params: 139,159\n",
      "Trainable params: 139,159\n",
      "Non-trainable params: 0\n",
      "_________________________________________________________________\n",
      "None\n",
      "Train on 36925 samples, validate on 4103 samples\n",
      "Epoch 1/15\n",
      "36925/36925 [==============================] - 6s - loss: 2.4510 - categorical_accuracy: 0.2908 - val_loss: 2.0771 - val_categorical_accuracy: 0.3846\n",
      "Epoch 2/15\n",
      "36925/36925 [==============================] - 5s - loss: 2.1551 - categorical_accuracy: 0.3599 - val_loss: 1.9233 - val_categorical_accuracy: 0.4155\n",
      "Epoch 3/15\n",
      "36925/36925 [==============================] - 6s - loss: 2.0664 - categorical_accuracy: 0.3775 - val_loss: 1.8666 - val_categorical_accuracy: 0.4258\n",
      "Epoch 4/15\n",
      "36925/36925 [==============================] - 6s - loss: 2.0107 - categorical_accuracy: 0.3916 - val_loss: 1.8274 - val_categorical_accuracy: 0.4309\n",
      "Epoch 5/15\n",
      "36925/36925 [==============================] - 6s - loss: 1.9703 - categorical_accuracy: 0.4016 - val_loss: 1.8016 - val_categorical_accuracy: 0.4377\n",
      "Epoch 6/15\n",
      "36925/36925 [==============================] - 6s - loss: 1.9440 - categorical_accuracy: 0.4059 - val_loss: 1.7801 - val_categorical_accuracy: 0.4443\n",
      "Epoch 7/15\n",
      "36925/36925 [==============================] - 6s - loss: 1.9174 - categorical_accuracy: 0.4128 - val_loss: 1.7642 - val_categorical_accuracy: 0.4419\n",
      "Epoch 8/15\n",
      "36925/36925 [==============================] - 6s - loss: 1.8949 - categorical_accuracy: 0.4183 - val_loss: 1.7534 - val_categorical_accuracy: 0.4453\n",
      "Epoch 9/15\n",
      "36925/36925 [==============================] - 6s - loss: 1.8806 - categorical_accuracy: 0.4215 - val_loss: 1.7408 - val_categorical_accuracy: 0.4499\n",
      "Epoch 10/15\n",
      "36925/36925 [==============================] - 6s - loss: 1.8617 - categorical_accuracy: 0.4252 - val_loss: 1.7278 - val_categorical_accuracy: 0.4533\n",
      "Epoch 11/15\n",
      "36925/36925 [==============================] - 6s - loss: 1.8540 - categorical_accuracy: 0.4264 - val_loss: 1.7182 - val_categorical_accuracy: 0.4514\n",
      "Epoch 12/15\n",
      "36925/36925 [==============================] - 6s - loss: 1.8396 - categorical_accuracy: 0.4304 - val_loss: 1.7122 - val_categorical_accuracy: 0.4514\n",
      "Epoch 13/15\n",
      "36925/36925 [==============================] - 6s - loss: 1.8296 - categorical_accuracy: 0.4348 - val_loss: 1.7031 - val_categorical_accuracy: 0.4538\n",
      "Epoch 14/15\n",
      "36925/36925 [==============================] - 6s - loss: 1.8267 - categorical_accuracy: 0.4352 - val_loss: 1.7003 - val_categorical_accuracy: 0.4492\n",
      "Epoch 15/15\n",
      "36925/36925 [==============================] - 6s - loss: 1.8116 - categorical_accuracy: 0.4355 - val_loss: 1.6912 - val_categorical_accuracy: 0.4538\n",
      "             precision    recall  f1-score   support\n",
      "\n",
      "          0       0.00      0.00      0.00        36\n",
      "          1       0.38      0.49      0.43       182\n",
      "          2       0.53      0.73      0.61       457\n",
      "          3       0.46      0.55      0.50       254\n",
      "          4       0.53      0.52      0.53       241\n",
      "          5       0.12      0.03      0.05        63\n",
      "          6       0.51      0.69      0.59        81\n",
      "          7       0.42      0.52      0.46       126\n",
      "          8       0.44      0.15      0.23       106\n",
      "          9       0.42      0.56      0.48       232\n",
      "         10       0.41      0.34      0.38       140\n",
      "         11       0.40      0.07      0.12        84\n",
      "         12       0.53      0.73      0.61       523\n",
      "         13       0.48      0.50      0.49       331\n",
      "         14       0.41      0.56      0.47       143\n",
      "         15       0.43      0.41      0.42        37\n",
      "         16       0.64      0.60      0.62        30\n",
      "         17       0.29      0.16      0.21       771\n",
      "         18       0.43      0.41      0.42       218\n",
      "         19       0.43      0.45      0.44       132\n",
      "         20       0.62      0.11      0.19        45\n",
      "         21       0.52      0.58      0.55       235\n",
      "         22       0.35      0.14      0.20        92\n",
      "\n",
      "avg / total       0.44      0.46      0.43      4559\n",
      "\n",
      "Accuracy: 46.04%\n"
     ]
    },
    {
     "name": "stderr",
     "output_type": "stream",
     "text": [
      "/home/valentin/bin/anaconda3/envs/tensorflow/lib/python3.6/site-packages/sklearn/metrics/classification.py:1113: UndefinedMetricWarning: Precision and F-score are ill-defined and being set to 0.0 in labels with no predicted samples.\n",
      "  'precision', 'predicted', average, warn_for)\n"
     ]
    },
    {
     "data": {
      "text/plain": [
       "752"
      ]
     },
     "execution_count": 14,
     "metadata": {},
     "output_type": "execute_result"
    }
   ],
   "source": [
    "model.compile(optimizer=\"adagrad\",\n",
    "              loss='categorical_crossentropy',\n",
    "              metrics=['categorical_accuracy'])\n",
    "print(model.summary())\n",
    "model.fit(X_train, y_train, validation_split=0.1, epochs=15, batch_size=256)\n",
    "yhat = model.predict(X_test)\n",
    "_ = helper.score_prediction(y_test, yhat, binary=False)\n",
    "gc.collect()"
   ]
  },
  {
   "cell_type": "code",
   "execution_count": null,
   "metadata": {
    "collapsed": true
   },
   "outputs": [],
   "source": []
  }
 ],
 "metadata": {
  "kernelspec": {
   "display_name": "Python 3",
   "language": "python",
   "name": "python3"
  },
  "language_info": {
   "codemirror_mode": {
    "name": "ipython",
    "version": 3
   },
   "file_extension": ".py",
   "mimetype": "text/x-python",
   "name": "python",
   "nbconvert_exporter": "python",
   "pygments_lexer": "ipython3",
   "version": "3.6.1"
  }
 },
 "nbformat": 4,
 "nbformat_minor": 2
}
