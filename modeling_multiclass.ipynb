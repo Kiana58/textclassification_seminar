{
 "cells": [
  {
   "cell_type": "code",
   "execution_count": 2,
   "metadata": {},
   "outputs": [
    {
     "name": "stderr",
     "output_type": "stream",
     "text": [
      "Using TensorFlow backend.\n"
     ]
    }
   ],
   "source": [
    "import pandas as pd\n",
    "import numpy as np\n",
    "import keras\n",
    "import gensim\n",
    "import pickle\n",
    "import gc\n",
    "from sklearn.feature_extraction.text import CountVectorizer, TfidfTransformer\n",
    "from sklearn.model_selection import train_test_split\n",
    "%matplotlib inline\n",
    "\n",
    "%load_ext autoreload\n",
    "%autoreload 2\n",
    "import helper"
   ]
  },
  {
   "cell_type": "code",
   "execution_count": 3,
   "metadata": {
    "collapsed": true
   },
   "outputs": [],
   "source": [
    "X_train = np.load(\"data/word_vectors/pubmed_stratify_no_wiki_X_train_seeds42.npy\")\n",
    "y_train = np.load(\"data/word_vectors/pubmed_stratify_no_wiki_y_train_seeds42.npy\")"
   ]
  },
  {
   "cell_type": "code",
   "execution_count": 4,
   "metadata": {
    "collapsed": true
   },
   "outputs": [],
   "source": [
    "X_test = np.load(\"data/word_vectors/pubmed_stratify_no_wiki_X_test_seeds42.npy\")\n",
    "y_test = np.load(\"data/word_vectors/pubmed_stratify_no_wiki_y_test_seeds42.npy\")"
   ]
  },
  {
   "cell_type": "code",
   "execution_count": 5,
   "metadata": {},
   "outputs": [
    {
     "data": {
      "text/plain": [
       "(41028, 100, 200)"
      ]
     },
     "execution_count": 5,
     "metadata": {},
     "output_type": "execute_result"
    }
   ],
   "source": [
    "X_train.shape"
   ]
  },
  {
   "cell_type": "code",
   "execution_count": 5,
   "metadata": {
    "collapsed": true
   },
   "outputs": [],
   "source": [
    "input_shape = (100, 200)"
   ]
  },
  {
   "cell_type": "markdown",
   "metadata": {},
   "source": [
    "# Basic RNN (LSTM)"
   ]
  },
  {
   "cell_type": "code",
   "execution_count": 14,
   "metadata": {
    "collapsed": true
   },
   "outputs": [],
   "source": [
    "model = keras.models.Sequential()\n",
    "model.add(keras.layers.recurrent.LSTM(100, input_shape=input_shape))\n",
    "model.add(keras.layers.Dropout(0.3))\n",
    "model.add(keras.layers.Dense(23, activation='softmax'))"
   ]
  },
  {
   "cell_type": "code",
   "execution_count": 15,
   "metadata": {
    "scrolled": false
   },
   "outputs": [
    {
     "name": "stdout",
     "output_type": "stream",
     "text": [
      "_________________________________________________________________\n",
      "Layer (type)                 Output Shape              Param #   \n",
      "=================================================================\n",
      "lstm_2 (LSTM)                (None, 100)               120400    \n",
      "_________________________________________________________________\n",
      "dropout_7 (Dropout)          (None, 100)               0         \n",
      "_________________________________________________________________\n",
      "dense_5 (Dense)              (None, 23)                2323      \n",
      "=================================================================\n",
      "Total params: 122,723\n",
      "Trainable params: 122,723\n",
      "Non-trainable params: 0\n",
      "_________________________________________________________________\n",
      "None\n",
      "Train on 36925 samples, validate on 4103 samples\n",
      "Epoch 1/15\n",
      "36925/36925 [==============================] - 20s - loss: 2.5846 - categorical_accuracy: 0.2428 - val_loss: 2.3985 - val_categorical_accuracy: 0.2959\n",
      "Epoch 2/15\n",
      "36925/36925 [==============================] - 19s - loss: 2.3931 - categorical_accuracy: 0.2935 - val_loss: 2.4358 - val_categorical_accuracy: 0.2915\n",
      "Epoch 3/15\n",
      "36925/36925 [==============================] - 19s - loss: 2.3459 - categorical_accuracy: 0.3079 - val_loss: 2.2573 - val_categorical_accuracy: 0.3341\n",
      "Epoch 4/15\n",
      "36925/36925 [==============================] - 19s - loss: 2.2606 - categorical_accuracy: 0.3241 - val_loss: 2.2057 - val_categorical_accuracy: 0.3366\n",
      "Epoch 5/15\n",
      "36925/36925 [==============================] - 19s - loss: 2.2091 - categorical_accuracy: 0.3331 - val_loss: 2.1885 - val_categorical_accuracy: 0.3505\n",
      "Epoch 6/15\n",
      "36925/36925 [==============================] - 19s - loss: 2.1718 - categorical_accuracy: 0.3447 - val_loss: 2.1289 - val_categorical_accuracy: 0.3610\n",
      "Epoch 7/15\n",
      "36925/36925 [==============================] - 19s - loss: 2.1287 - categorical_accuracy: 0.3576 - val_loss: 2.0997 - val_categorical_accuracy: 0.3680\n",
      "Epoch 8/15\n",
      "36925/36925 [==============================] - 19s - loss: 2.0877 - categorical_accuracy: 0.3643 - val_loss: 2.0571 - val_categorical_accuracy: 0.3783\n",
      "Epoch 9/15\n",
      "36925/36925 [==============================] - 19s - loss: 2.0580 - categorical_accuracy: 0.3703 - val_loss: 2.0308 - val_categorical_accuracy: 0.3817\n",
      "Epoch 10/15\n",
      "36925/36925 [==============================] - 20s - loss: 2.0200 - categorical_accuracy: 0.3820 - val_loss: 1.9957 - val_categorical_accuracy: 0.3892\n",
      "Epoch 11/15\n",
      "36925/36925 [==============================] - 19s - loss: 2.0023 - categorical_accuracy: 0.3845 - val_loss: 1.9689 - val_categorical_accuracy: 0.4019\n",
      "Epoch 12/15\n",
      "36925/36925 [==============================] - 19s - loss: 1.9709 - categorical_accuracy: 0.3938 - val_loss: 1.9501 - val_categorical_accuracy: 0.4046\n",
      "Epoch 13/15\n",
      "36925/36925 [==============================] - 20s - loss: 1.9471 - categorical_accuracy: 0.3983 - val_loss: 1.9272 - val_categorical_accuracy: 0.4117\n",
      "Epoch 14/15\n",
      "36925/36925 [==============================] - 19s - loss: 1.9305 - categorical_accuracy: 0.4013 - val_loss: 1.9192 - val_categorical_accuracy: 0.4073\n",
      "Epoch 15/15\n",
      "36925/36925 [==============================] - 19s - loss: 1.9048 - categorical_accuracy: 0.4085 - val_loss: 1.9029 - val_categorical_accuracy: 0.4141\n",
      "             precision    recall  f1-score   support\n",
      "\n",
      "          0       0.00      0.00      0.00        41\n",
      "          1       0.38      0.33      0.36       206\n",
      "          2       0.55      0.81      0.65       482\n",
      "          3       0.47      0.54      0.50       240\n",
      "          4       0.54      0.46      0.50       231\n",
      "          5       0.48      0.18      0.26        68\n",
      "          6       0.39      0.48      0.43        79\n",
      "          7       0.38      0.47      0.42       131\n",
      "          8       0.33      0.04      0.07       102\n",
      "          9       0.33      0.39      0.36       249\n",
      "         10       0.42      0.29      0.35       136\n",
      "         11       0.25      0.06      0.09        87\n",
      "         12       0.47      0.74      0.57       507\n",
      "         13       0.39      0.43      0.41       314\n",
      "         14       0.51      0.47      0.49       152\n",
      "         15       0.00      0.00      0.00        57\n",
      "         16       0.86      0.18      0.29        34\n",
      "         17       0.26      0.16      0.20       770\n",
      "         18       0.30      0.49      0.37       206\n",
      "         19       0.40      0.46      0.42       129\n",
      "         20       0.00      0.00      0.00        44\n",
      "         21       0.46      0.39      0.42       201\n",
      "         22       0.17      0.05      0.08        93\n",
      "\n",
      "avg / total       0.39      0.42      0.39      4559\n",
      "\n",
      "Accuracy: 41.87%\n"
     ]
    },
    {
     "name": "stderr",
     "output_type": "stream",
     "text": [
      "/home/valentin/bin/anaconda3/envs/tensorflow/lib/python3.6/site-packages/sklearn/metrics/classification.py:1113: UndefinedMetricWarning: Precision and F-score are ill-defined and being set to 0.0 in labels with no predicted samples.\n",
      "  'precision', 'predicted', average, warn_for)\n"
     ]
    },
    {
     "data": {
      "text/plain": [
       "0"
      ]
     },
     "execution_count": 15,
     "metadata": {},
     "output_type": "execute_result"
    }
   ],
   "source": [
    "model.compile(optimizer=\"adagrad\",\n",
    "              loss='categorical_crossentropy',\n",
    "              metrics=['categorical_accuracy'])\n",
    "print(model.summary())\n",
    "model.fit(X_train, y_train, validation_split=0.1, epochs=15, batch_size=256)\n",
    "yhat = model.predict(X_test)\n",
    "_ = helper.score_prediction(y_test, yhat, binary=False)\n",
    "gc.collect()"
   ]
  },
  {
   "cell_type": "markdown",
   "metadata": {},
   "source": [
    "# Basic RNN (GRU)"
   ]
  },
  {
   "cell_type": "code",
   "execution_count": 16,
   "metadata": {
    "collapsed": true
   },
   "outputs": [],
   "source": [
    "model = keras.models.Sequential()\n",
    "model.add(keras.layers.recurrent.GRU(100, input_shape=input_shape))\n",
    "model.add(keras.layers.Dropout(0.3))\n",
    "model.add(keras.layers.Dense(23, activation='softmax'))"
   ]
  },
  {
   "cell_type": "code",
   "execution_count": 17,
   "metadata": {},
   "outputs": [
    {
     "name": "stdout",
     "output_type": "stream",
     "text": [
      "_________________________________________________________________\n",
      "Layer (type)                 Output Shape              Param #   \n",
      "=================================================================\n",
      "gru_4 (GRU)                  (None, 100)               90300     \n",
      "_________________________________________________________________\n",
      "dropout_8 (Dropout)          (None, 100)               0         \n",
      "_________________________________________________________________\n",
      "dense_6 (Dense)              (None, 23)                2323      \n",
      "=================================================================\n",
      "Total params: 92,623\n",
      "Trainable params: 92,623\n",
      "Non-trainable params: 0\n",
      "_________________________________________________________________\n",
      "None\n",
      "Train on 36925 samples, validate on 4103 samples\n",
      "Epoch 1/15\n",
      "36925/36925 [==============================] - 16s - loss: 2.3993 - acc: 0.2890 - val_loss: 1.9877 - val_acc: 0.3907\n",
      "Epoch 2/15\n",
      "36925/36925 [==============================] - 16s - loss: 1.8964 - acc: 0.3986 - val_loss: 1.7821 - val_acc: 0.4353\n",
      "Epoch 3/15\n",
      "36925/36925 [==============================] - 16s - loss: 1.7657 - acc: 0.4277 - val_loss: 1.7068 - val_acc: 0.4443\n",
      "Epoch 4/15\n",
      "36925/36925 [==============================] - 16s - loss: 1.7001 - acc: 0.4445 - val_loss: 1.6695 - val_acc: 0.4475\n",
      "Epoch 5/15\n",
      "36925/36925 [==============================] - 16s - loss: 1.6634 - acc: 0.4525 - val_loss: 1.6478 - val_acc: 0.4506\n",
      "Epoch 6/15\n",
      "36925/36925 [==============================] - 16s - loss: 1.6346 - acc: 0.4585 - val_loss: 1.6350 - val_acc: 0.4572\n",
      "Epoch 7/15\n",
      "36925/36925 [==============================] - 16s - loss: 1.6109 - acc: 0.4632 - val_loss: 1.6176 - val_acc: 0.4541\n",
      "Epoch 8/15\n",
      "36925/36925 [==============================] - 16s - loss: 1.5938 - acc: 0.4654 - val_loss: 1.6083 - val_acc: 0.4628\n",
      "Epoch 9/15\n",
      "36925/36925 [==============================] - 16s - loss: 1.5753 - acc: 0.4703 - val_loss: 1.6019 - val_acc: 0.4589\n",
      "Epoch 10/15\n",
      "36925/36925 [==============================] - 15s - loss: 1.5618 - acc: 0.4711 - val_loss: 1.5995 - val_acc: 0.4572\n",
      "Epoch 11/15\n",
      "36925/36925 [==============================] - 16s - loss: 1.5449 - acc: 0.4779 - val_loss: 1.5985 - val_acc: 0.4528\n",
      "Epoch 12/15\n",
      "36925/36925 [==============================] - 16s - loss: 1.5375 - acc: 0.4776 - val_loss: 1.5874 - val_acc: 0.4538\n",
      "Epoch 13/15\n",
      "36925/36925 [==============================] - 16s - loss: 1.5254 - acc: 0.4820 - val_loss: 1.5812 - val_acc: 0.4570\n",
      "Epoch 14/15\n",
      "36925/36925 [==============================] - 16s - loss: 1.5145 - acc: 0.4819 - val_loss: 1.5792 - val_acc: 0.4570\n",
      "Epoch 15/15\n",
      "36925/36925 [==============================] - 16s - loss: 1.5029 - acc: 0.4862 - val_loss: 1.5715 - val_acc: 0.4611\n",
      "             precision    recall  f1-score   support\n",
      "\n",
      "          0       0.00      0.00      0.00        41\n",
      "          1       0.45      0.48      0.46       206\n",
      "          2       0.60      0.72      0.66       482\n",
      "          3       0.50      0.53      0.51       240\n",
      "          4       0.61      0.52      0.56       231\n",
      "          5       0.41      0.22      0.29        68\n",
      "          6       0.47      0.62      0.53        79\n",
      "          7       0.40      0.49      0.44       131\n",
      "          8       0.41      0.32      0.36       102\n",
      "          9       0.45      0.51      0.48       249\n",
      "         10       0.41      0.45      0.43       136\n",
      "         11       0.47      0.32      0.38        87\n",
      "         12       0.51      0.69      0.59       507\n",
      "         13       0.46      0.43      0.45       314\n",
      "         14       0.51      0.49      0.50       152\n",
      "         15       0.38      0.46      0.42        57\n",
      "         16       0.61      0.68      0.64        34\n",
      "         17       0.31      0.23      0.27       770\n",
      "         18       0.43      0.45      0.44       206\n",
      "         19       0.52      0.58      0.55       129\n",
      "         20       0.35      0.20      0.26        44\n",
      "         21       0.53      0.52      0.52       201\n",
      "         22       0.28      0.12      0.17        93\n",
      "\n",
      "avg / total       0.45      0.47      0.46      4559\n",
      "\n",
      "Accuracy: 47.16%\n"
     ]
    },
    {
     "name": "stderr",
     "output_type": "stream",
     "text": [
      "/home/valentin/bin/anaconda3/envs/tensorflow/lib/python3.6/site-packages/sklearn/metrics/classification.py:1113: UndefinedMetricWarning: Precision and F-score are ill-defined and being set to 0.0 in labels with no predicted samples.\n",
      "  'precision', 'predicted', average, warn_for)\n"
     ]
    },
    {
     "data": {
      "text/plain": [
       "98"
      ]
     },
     "execution_count": 17,
     "metadata": {},
     "output_type": "execute_result"
    }
   ],
   "source": [
    "model.compile(optimizer=\"adagrad\",\n",
    "              loss='categorical_crossentropy',\n",
    "              metrics=['accuracy'])\n",
    "print(model.summary())\n",
    "model.fit(X_train, y_train, validation_split=0.1, epochs=15, batch_size=256)\n",
    "yhat = model.predict(X_test)\n",
    "_ = helper.score_prediction(y_test, yhat, binary=False)\n",
    "gc.collect()"
   ]
  },
  {
   "cell_type": "markdown",
   "metadata": {},
   "source": [
    "# Deep RNN (GRU)"
   ]
  },
  {
   "cell_type": "code",
   "execution_count": 20,
   "metadata": {
    "collapsed": true
   },
   "outputs": [],
   "source": [
    "model = keras.models.Sequential()\n",
    "model.add(keras.layers.recurrent.GRU(128, input_shape=input_shape, return_sequences=True))\n",
    "model.add(keras.layers.Dropout(0.3))\n",
    "model.add(keras.layers.recurrent.GRU(64))\n",
    "model.add(keras.layers.Dropout(0.3))\n",
    "model.add(keras.layers.Dense(23, activation='softmax'))"
   ]
  },
  {
   "cell_type": "code",
   "execution_count": 21,
   "metadata": {
    "scrolled": false
   },
   "outputs": [
    {
     "name": "stdout",
     "output_type": "stream",
     "text": [
      "_________________________________________________________________\n",
      "Layer (type)                 Output Shape              Param #   \n",
      "=================================================================\n",
      "gru_7 (GRU)                  (None, 100, 128)          126336    \n",
      "_________________________________________________________________\n",
      "dropout_11 (Dropout)         (None, 100, 128)          0         \n",
      "_________________________________________________________________\n",
      "gru_8 (GRU)                  (None, 64)                37056     \n",
      "_________________________________________________________________\n",
      "dropout_12 (Dropout)         (None, 64)                0         \n",
      "_________________________________________________________________\n",
      "dense_8 (Dense)              (None, 23)                1495      \n",
      "=================================================================\n",
      "Total params: 164,887\n",
      "Trainable params: 164,887\n",
      "Non-trainable params: 0\n",
      "_________________________________________________________________\n",
      "None\n",
      "Train on 36925 samples, validate on 4103 samples\n",
      "Epoch 1/15\n",
      "36925/36925 [==============================] - 28s - loss: 2.4373 - categorical_accuracy: 0.2821 - val_loss: 2.1724 - val_categorical_accuracy: 0.3437\n",
      "Epoch 2/15\n",
      "36925/36925 [==============================] - 28s - loss: 1.9500 - categorical_accuracy: 0.3957 - val_loss: 1.8371 - val_categorical_accuracy: 0.4219\n",
      "Epoch 3/15\n",
      "36925/36925 [==============================] - 27s - loss: 1.7947 - categorical_accuracy: 0.4313 - val_loss: 1.7306 - val_categorical_accuracy: 0.4407\n",
      "Epoch 4/15\n",
      "36925/36925 [==============================] - 27s - loss: 1.7197 - categorical_accuracy: 0.4434 - val_loss: 1.7082 - val_categorical_accuracy: 0.4516\n",
      "Epoch 5/15\n",
      "36925/36925 [==============================] - 28s - loss: 1.6803 - categorical_accuracy: 0.4515 - val_loss: 1.7114 - val_categorical_accuracy: 0.4470\n",
      "Epoch 6/15\n",
      "36925/36925 [==============================] - 27s - loss: 1.6460 - categorical_accuracy: 0.4599 - val_loss: 1.6612 - val_categorical_accuracy: 0.4528\n",
      "Epoch 7/15\n",
      "36925/36925 [==============================] - 27s - loss: 1.6225 - categorical_accuracy: 0.4667 - val_loss: 1.6386 - val_categorical_accuracy: 0.4582\n",
      "Epoch 8/15\n",
      "36925/36925 [==============================] - 28s - loss: 1.5979 - categorical_accuracy: 0.4708 - val_loss: 1.6338 - val_categorical_accuracy: 0.4582\n",
      "Epoch 9/15\n",
      "36925/36925 [==============================] - 27s - loss: 1.5873 - categorical_accuracy: 0.4710 - val_loss: 1.6126 - val_categorical_accuracy: 0.4589\n",
      "Epoch 10/15\n",
      "36925/36925 [==============================] - 27s - loss: 1.5659 - categorical_accuracy: 0.4768 - val_loss: 1.6171 - val_categorical_accuracy: 0.4597\n",
      "Epoch 11/15\n",
      "36925/36925 [==============================] - 26s - loss: 1.5512 - categorical_accuracy: 0.4782 - val_loss: 1.6104 - val_categorical_accuracy: 0.4582\n",
      "Epoch 12/15\n",
      "36925/36925 [==============================] - 26s - loss: 1.5401 - categorical_accuracy: 0.4813 - val_loss: 1.6005 - val_categorical_accuracy: 0.4553\n",
      "Epoch 13/15\n",
      "36925/36925 [==============================] - 26s - loss: 1.5273 - categorical_accuracy: 0.4840 - val_loss: 1.5957 - val_categorical_accuracy: 0.4604\n",
      "Epoch 14/15\n",
      "36925/36925 [==============================] - 26s - loss: 1.5164 - categorical_accuracy: 0.4894 - val_loss: 1.5951 - val_categorical_accuracy: 0.4577\n",
      "Epoch 15/15\n",
      "36925/36925 [==============================] - 26s - loss: 1.5062 - categorical_accuracy: 0.4911 - val_loss: 1.5878 - val_categorical_accuracy: 0.4548\n",
      "             precision    recall  f1-score   support\n",
      "\n",
      "          0       0.00      0.00      0.00        41\n",
      "          1       0.45      0.46      0.45       206\n",
      "          2       0.59      0.77      0.67       482\n",
      "          3       0.46      0.65      0.54       240\n",
      "          4       0.60      0.53      0.56       231\n",
      "          5       0.29      0.19      0.23        68\n",
      "          6       0.46      0.58      0.51        79\n",
      "          7       0.38      0.52      0.44       131\n",
      "          8       0.38      0.31      0.34       102\n",
      "          9       0.42      0.49      0.45       249\n",
      "         10       0.39      0.53      0.45       136\n",
      "         11       0.42      0.29      0.34        87\n",
      "         12       0.52      0.64      0.58       507\n",
      "         13       0.46      0.41      0.43       314\n",
      "         14       0.51      0.50      0.51       152\n",
      "         15       0.46      0.44      0.45        57\n",
      "         16       0.64      0.62      0.63        34\n",
      "         17       0.34      0.20      0.25       770\n",
      "         18       0.40      0.43      0.42       206\n",
      "         19       0.50      0.53      0.52       129\n",
      "         20       0.70      0.16      0.26        44\n",
      "         21       0.51      0.62      0.56       201\n",
      "         22       0.23      0.10      0.14        93\n",
      "\n",
      "avg / total       0.45      0.47      0.45      4559\n",
      "\n",
      "Accuracy: 47.12%\n"
     ]
    },
    {
     "data": {
      "text/plain": [
       "0"
      ]
     },
     "execution_count": 21,
     "metadata": {},
     "output_type": "execute_result"
    }
   ],
   "source": [
    "model.compile(optimizer=\"adagrad\",\n",
    "              loss='categorical_crossentropy',\n",
    "              metrics=['categorical_accuracy'])\n",
    "print(model.summary())\n",
    "model.fit(X_train, y_train, validation_split=0.1, epochs=15, batch_size=256)\n",
    "yhat = model.predict(X_test)\n",
    "_ = helper.score_prediction(y_test, yhat, binary=False)\n",
    "gc.collect()"
   ]
  },
  {
   "cell_type": "markdown",
   "metadata": {},
   "source": [
    "# Basic CNN"
   ]
  },
  {
   "cell_type": "code",
   "execution_count": 22,
   "metadata": {
    "collapsed": true
   },
   "outputs": [],
   "source": [
    "filters = 100\n",
    "\n",
    "model = keras.models.Sequential()\n",
    "model.add(keras.layers.Conv1D(filters,\n",
    "             kernel_size=1,\n",
    "             padding='valid',\n",
    "             activation='relu',\n",
    "             strides=1, input_shape=input_shape))\n",
    "model.add(keras.layers.pooling.GlobalMaxPooling1D())\n",
    "model.add(keras.layers.Dropout(0.3))\n",
    "model.add(keras.layers.Dense(23, activation='softmax'))"
   ]
  },
  {
   "cell_type": "code",
   "execution_count": 23,
   "metadata": {},
   "outputs": [
    {
     "name": "stdout",
     "output_type": "stream",
     "text": [
      "_________________________________________________________________\n",
      "Layer (type)                 Output Shape              Param #   \n",
      "=================================================================\n",
      "conv1d_3 (Conv1D)            (None, 100, 100)          20100     \n",
      "_________________________________________________________________\n",
      "global_max_pooling1d_1 (Glob (None, 100)               0         \n",
      "_________________________________________________________________\n",
      "dropout_13 (Dropout)         (None, 100)               0         \n",
      "_________________________________________________________________\n",
      "dense_9 (Dense)              (None, 23)                2323      \n",
      "=================================================================\n",
      "Total params: 22,423\n",
      "Trainable params: 22,423\n",
      "Non-trainable params: 0\n",
      "_________________________________________________________________\n",
      "None\n",
      "Train on 36925 samples, validate on 4103 samples\n",
      "Epoch 1/15\n",
      "36925/36925 [==============================] - 5s - loss: 2.1421 - categorical_accuracy: 0.3481 - val_loss: 1.8721 - val_categorical_accuracy: 0.4143\n",
      "Epoch 2/15\n",
      "36925/36925 [==============================] - 5s - loss: 1.9115 - categorical_accuracy: 0.3996 - val_loss: 1.7896 - val_categorical_accuracy: 0.4258\n",
      "Epoch 3/15\n",
      "36925/36925 [==============================] - 5s - loss: 1.8552 - categorical_accuracy: 0.4073 - val_loss: 1.7519 - val_categorical_accuracy: 0.4314\n",
      "Epoch 4/15\n",
      "36925/36925 [==============================] - 5s - loss: 1.8158 - categorical_accuracy: 0.4173 - val_loss: 1.7266 - val_categorical_accuracy: 0.4329\n",
      "Epoch 5/15\n",
      "36925/36925 [==============================] - 5s - loss: 1.7978 - categorical_accuracy: 0.4223 - val_loss: 1.7120 - val_categorical_accuracy: 0.4365\n",
      "Epoch 6/15\n",
      "36925/36925 [==============================] - 5s - loss: 1.7790 - categorical_accuracy: 0.4225 - val_loss: 1.6985 - val_categorical_accuracy: 0.4382\n",
      "Epoch 7/15\n",
      "36925/36925 [==============================] - 5s - loss: 1.7649 - categorical_accuracy: 0.4277 - val_loss: 1.6882 - val_categorical_accuracy: 0.4397\n",
      "Epoch 8/15\n",
      "36925/36925 [==============================] - 5s - loss: 1.7568 - categorical_accuracy: 0.4304 - val_loss: 1.6802 - val_categorical_accuracy: 0.4380\n",
      "Epoch 9/15\n",
      "36925/36925 [==============================] - 5s - loss: 1.7443 - categorical_accuracy: 0.4338 - val_loss: 1.6717 - val_categorical_accuracy: 0.4472\n",
      "Epoch 10/15\n",
      "36925/36925 [==============================] - 5s - loss: 1.7385 - categorical_accuracy: 0.4347 - val_loss: 1.6668 - val_categorical_accuracy: 0.4436\n",
      "Epoch 11/15\n",
      "36925/36925 [==============================] - 5s - loss: 1.7271 - categorical_accuracy: 0.4382 - val_loss: 1.6611 - val_categorical_accuracy: 0.4460\n",
      "Epoch 12/15\n",
      "36925/36925 [==============================] - 5s - loss: 1.7250 - categorical_accuracy: 0.4367 - val_loss: 1.6559 - val_categorical_accuracy: 0.4465\n",
      "Epoch 13/15\n",
      "36925/36925 [==============================] - 5s - loss: 1.7214 - categorical_accuracy: 0.4379 - val_loss: 1.6521 - val_categorical_accuracy: 0.4489\n",
      "Epoch 14/15\n",
      "36925/36925 [==============================] - 5s - loss: 1.7049 - categorical_accuracy: 0.4405 - val_loss: 1.6505 - val_categorical_accuracy: 0.4436\n",
      "Epoch 15/15\n",
      "36925/36925 [==============================] - 5s - loss: 1.7020 - categorical_accuracy: 0.4434 - val_loss: 1.6470 - val_categorical_accuracy: 0.4448\n",
      "             precision    recall  f1-score   support\n",
      "\n",
      "          0       0.00      0.00      0.00        41\n",
      "          1       0.43      0.39      0.41       206\n",
      "          2       0.59      0.71      0.65       482\n",
      "          3       0.53      0.59      0.56       240\n",
      "          4       0.61      0.52      0.56       231\n",
      "          5       0.36      0.13      0.19        68\n",
      "          6       0.42      0.46      0.44        79\n",
      "          7       0.39      0.44      0.41       131\n",
      "          8       0.41      0.20      0.26       102\n",
      "          9       0.41      0.43      0.42       249\n",
      "         10       0.44      0.38      0.41       136\n",
      "         11       0.54      0.17      0.26        87\n",
      "         12       0.49      0.69      0.57       507\n",
      "         13       0.46      0.41      0.44       314\n",
      "         14       0.56      0.51      0.53       152\n",
      "         15       0.38      0.23      0.29        57\n",
      "         16       0.61      0.59      0.60        34\n",
      "         17       0.26      0.28      0.27       770\n",
      "         18       0.39      0.42      0.40       206\n",
      "         19       0.50      0.48      0.49       129\n",
      "         20       0.64      0.20      0.31        44\n",
      "         21       0.50      0.52      0.51       201\n",
      "         22       0.10      0.04      0.06        93\n",
      "\n",
      "avg / total       0.44      0.45      0.44      4559\n",
      "\n",
      "Accuracy: 44.97%\n"
     ]
    },
    {
     "name": "stderr",
     "output_type": "stream",
     "text": [
      "/home/valentin/bin/anaconda3/envs/tensorflow/lib/python3.6/site-packages/sklearn/metrics/classification.py:1113: UndefinedMetricWarning: Precision and F-score are ill-defined and being set to 0.0 in labels with no predicted samples.\n",
      "  'precision', 'predicted', average, warn_for)\n"
     ]
    },
    {
     "data": {
      "text/plain": [
       "102"
      ]
     },
     "execution_count": 23,
     "metadata": {},
     "output_type": "execute_result"
    }
   ],
   "source": [
    "model.compile(optimizer=\"adagrad\",\n",
    "              loss='categorical_crossentropy',\n",
    "              metrics=['categorical_accuracy'])\n",
    "print(model.summary())\n",
    "model.fit(X_train, y_train, validation_split=0.1, epochs=15, batch_size=256)\n",
    "yhat = model.predict(X_test)\n",
    "_ = helper.score_prediction(y_test, yhat, binary=False)\n",
    "gc.collect()"
   ]
  },
  {
   "cell_type": "markdown",
   "metadata": {},
   "source": [
    "# Basic Recurrent CNN"
   ]
  },
  {
   "cell_type": "code",
   "execution_count": 24,
   "metadata": {
    "collapsed": true
   },
   "outputs": [],
   "source": [
    "input_shape = (100, 200)\n",
    "filters = 128\n",
    "kernel_size = 3\n",
    "model = keras.models.Sequential()\n",
    "model.add(keras.layers.Conv1D(filters,\n",
    "             kernel_size,\n",
    "             padding='valid',\n",
    "             activation='relu',\n",
    "             strides=1, input_shape=input_shape))\n",
    "model.add(keras.layers.MaxPool1D(pool_size=16))\n",
    "model.add(keras.layers.Dropout(0.5))\n",
    "model.add(keras.layers.recurrent.GRU(64))\n",
    "model.add(keras.layers.Dropout(0.5))\n",
    "model.add(keras.layers.Dense(23, activation='softmax'))"
   ]
  },
  {
   "cell_type": "code",
   "execution_count": 25,
   "metadata": {
    "scrolled": false
   },
   "outputs": [
    {
     "name": "stdout",
     "output_type": "stream",
     "text": [
      "_________________________________________________________________\n",
      "Layer (type)                 Output Shape              Param #   \n",
      "=================================================================\n",
      "conv1d_4 (Conv1D)            (None, 98, 128)           76928     \n",
      "_________________________________________________________________\n",
      "max_pooling1d_3 (MaxPooling1 (None, 6, 128)            0         \n",
      "_________________________________________________________________\n",
      "dropout_14 (Dropout)         (None, 6, 128)            0         \n",
      "_________________________________________________________________\n",
      "gru_9 (GRU)                  (None, 64)                37056     \n",
      "_________________________________________________________________\n",
      "dropout_15 (Dropout)         (None, 64)                0         \n",
      "_________________________________________________________________\n",
      "dense_10 (Dense)             (None, 23)                1495      \n",
      "=================================================================\n",
      "Total params: 115,479\n",
      "Trainable params: 115,479\n",
      "Non-trainable params: 0\n",
      "_________________________________________________________________\n",
      "None\n",
      "Train on 36925 samples, validate on 4103 samples\n",
      "Epoch 1/15\n",
      "36925/36925 [==============================] - 7s - loss: 2.2543 - categorical_accuracy: 0.3263 - val_loss: 1.8917 - val_categorical_accuracy: 0.4102\n",
      "Epoch 2/15\n",
      "36925/36925 [==============================] - 6s - loss: 1.9535 - categorical_accuracy: 0.3973 - val_loss: 1.7714 - val_categorical_accuracy: 0.4392\n",
      "Epoch 3/15\n",
      "36925/36925 [==============================] - 6s - loss: 1.8731 - categorical_accuracy: 0.4155 - val_loss: 1.7239 - val_categorical_accuracy: 0.4458\n",
      "Epoch 4/15\n",
      "36925/36925 [==============================] - 6s - loss: 1.8125 - categorical_accuracy: 0.4339 - val_loss: 1.6951 - val_categorical_accuracy: 0.4548\n",
      "Epoch 5/15\n",
      "36925/36925 [==============================] - 6s - loss: 1.7830 - categorical_accuracy: 0.4398 - val_loss: 1.6827 - val_categorical_accuracy: 0.4626\n",
      "Epoch 6/15\n",
      "36925/36925 [==============================] - 6s - loss: 1.7540 - categorical_accuracy: 0.4440 - val_loss: 1.6596 - val_categorical_accuracy: 0.4604\n",
      "Epoch 7/15\n",
      "36925/36925 [==============================] - 6s - loss: 1.7315 - categorical_accuracy: 0.4494 - val_loss: 1.6493 - val_categorical_accuracy: 0.4543\n",
      "Epoch 8/15\n",
      "36925/36925 [==============================] - 6s - loss: 1.7145 - categorical_accuracy: 0.4513 - val_loss: 1.6375 - val_categorical_accuracy: 0.4645\n",
      "Epoch 9/15\n",
      "36925/36925 [==============================] - 6s - loss: 1.6930 - categorical_accuracy: 0.4614 - val_loss: 1.6243 - val_categorical_accuracy: 0.4638\n",
      "Epoch 10/15\n",
      "36925/36925 [==============================] - 6s - loss: 1.6824 - categorical_accuracy: 0.4639 - val_loss: 1.6242 - val_categorical_accuracy: 0.4592\n",
      "Epoch 11/15\n",
      "36925/36925 [==============================] - 6s - loss: 1.6734 - categorical_accuracy: 0.4643 - val_loss: 1.6162 - val_categorical_accuracy: 0.4641\n",
      "Epoch 12/15\n",
      "36925/36925 [==============================] - 6s - loss: 1.6605 - categorical_accuracy: 0.4668 - val_loss: 1.6100 - val_categorical_accuracy: 0.4606\n",
      "Epoch 13/15\n",
      "36925/36925 [==============================] - 6s - loss: 1.6444 - categorical_accuracy: 0.4720 - val_loss: 1.6113 - val_categorical_accuracy: 0.4623\n",
      "Epoch 14/15\n",
      "36925/36925 [==============================] - 6s - loss: 1.6361 - categorical_accuracy: 0.4723 - val_loss: 1.6072 - val_categorical_accuracy: 0.4589\n",
      "Epoch 15/15\n",
      "36925/36925 [==============================] - 6s - loss: 1.6215 - categorical_accuracy: 0.4749 - val_loss: 1.6059 - val_categorical_accuracy: 0.4667\n",
      "             precision    recall  f1-score   support\n",
      "\n",
      "          0       0.00      0.00      0.00        41\n",
      "          1       0.41      0.47      0.44       206\n",
      "          2       0.61      0.73      0.66       482\n",
      "          3       0.51      0.62      0.56       240\n",
      "          4       0.57      0.55      0.56       231\n",
      "          5       0.46      0.19      0.27        68\n",
      "          6       0.44      0.61      0.51        79\n",
      "          7       0.39      0.48      0.43       131\n",
      "          8       0.41      0.29      0.34       102\n",
      "          9       0.42      0.50      0.46       249\n",
      "         10       0.40      0.36      0.38       136\n",
      "         11       0.50      0.28      0.36        87\n",
      "         12       0.51      0.69      0.59       507\n",
      "         13       0.45      0.48      0.47       314\n",
      "         14       0.53      0.47      0.50       152\n",
      "         15       0.34      0.53      0.41        57\n",
      "         16       0.57      0.71      0.63        34\n",
      "         17       0.33      0.18      0.23       770\n",
      "         18       0.41      0.50      0.45       206\n",
      "         19       0.48      0.53      0.51       129\n",
      "         20       0.33      0.14      0.19        44\n",
      "         21       0.49      0.55      0.52       201\n",
      "         22       0.16      0.06      0.09        93\n",
      "\n",
      "avg / total       0.45      0.47      0.45      4559\n",
      "\n",
      "Accuracy: 46.92%\n"
     ]
    },
    {
     "name": "stderr",
     "output_type": "stream",
     "text": [
      "/home/valentin/bin/anaconda3/envs/tensorflow/lib/python3.6/site-packages/sklearn/metrics/classification.py:1113: UndefinedMetricWarning: Precision and F-score are ill-defined and being set to 0.0 in labels with no predicted samples.\n",
      "  'precision', 'predicted', average, warn_for)\n"
     ]
    },
    {
     "data": {
      "text/plain": [
       "100"
      ]
     },
     "execution_count": 25,
     "metadata": {},
     "output_type": "execute_result"
    }
   ],
   "source": [
    "model.compile(optimizer=\"adagrad\",\n",
    "              loss='categorical_crossentropy',\n",
    "              metrics=['categorical_accuracy'])\n",
    "print(model.summary())\n",
    "model.fit(X_train, y_train, validation_split=0.1, epochs=15, batch_size=256)\n",
    "yhat = model.predict(X_test)\n",
    "_ = helper.score_prediction(y_test, yhat, binary=False)\n",
    "gc.collect()"
   ]
  },
  {
   "cell_type": "raw",
   "metadata": {
    "collapsed": true
   },
   "source": [
    "            precision    recall  f1-score   support\n",
    "\n",
    "          0       0.00      0.00      0.00        41\n",
    "          1       0.38      0.45      0.41       206\n",
    "          2       0.64      0.62      0.63       482\n",
    "          3       0.60      0.38      0.47       240\n",
    "          4       0.67      0.50      0.57       231\n",
    "          5       0.23      0.32      0.27        68\n",
    "          6       0.42      0.66      0.51        79\n",
    "          7       0.41      0.41      0.41       131\n",
    "          8       0.32      0.18      0.23       102\n",
    "          9       0.44      0.28      0.34       249\n",
    "         10       0.44      0.38      0.40       136\n",
    "         11       0.39      0.45      0.41        87\n",
    "         12       0.53      0.63      0.57       507\n",
    "         13       0.51      0.30      0.38       314\n",
    "         14       0.54      0.43      0.48       152\n",
    "         15       0.31      0.60      0.41        57\n",
    "         16       0.47      0.71      0.56        34\n",
    "         17       0.28      0.33      0.30       770\n",
    "         18       0.43      0.31      0.36       206\n",
    "         19       0.53      0.51      0.52       129\n",
    "         20       0.29      0.50      0.36        44\n",
    "         21       0.52      0.54      0.53       201\n",
    "         22       0.26      0.58      0.36        93\n",
    "\n",
    "avg / total       0.46      0.44      0.44      4559"
   ]
  },
  {
   "cell_type": "markdown",
   "metadata": {},
   "source": [
    "# Deep Recurrent CNN"
   ]
  },
  {
   "cell_type": "code",
   "execution_count": 26,
   "metadata": {
    "collapsed": true
   },
   "outputs": [],
   "source": [
    "input_shape = (100, 200)\n",
    "filters = 128\n",
    "model = keras.models.Sequential()\n",
    "model.add(keras.layers.Conv1D(filters,\n",
    "             kernel_size=2,\n",
    "             padding='valid',\n",
    "             activation='relu',\n",
    "             strides=1, input_shape=input_shape))\n",
    "model.add(keras.layers.MaxPool1D(pool_size=16))\n",
    "model.add(keras.layers.Dropout(0.5))\n",
    "model.add(keras.layers.Conv1D(filters,\n",
    "             kernel_size=3,\n",
    "             padding='valid',\n",
    "             activation='relu',\n",
    "             strides=1, input_shape=input_shape))\n",
    "model.add(keras.layers.MaxPool1D(pool_size=2))\n",
    "model.add(keras.layers.Dropout(0.5))\n",
    "model.add(keras.layers.recurrent.GRU(64))\n",
    "model.add(keras.layers.Dropout(0.5))\n",
    "model.add(keras.layers.Dense(23, activation='softmax'))"
   ]
  },
  {
   "cell_type": "code",
   "execution_count": 27,
   "metadata": {
    "scrolled": false
   },
   "outputs": [
    {
     "name": "stdout",
     "output_type": "stream",
     "text": [
      "_________________________________________________________________\n",
      "Layer (type)                 Output Shape              Param #   \n",
      "=================================================================\n",
      "conv1d_5 (Conv1D)            (None, 99, 128)           51328     \n",
      "_________________________________________________________________\n",
      "max_pooling1d_4 (MaxPooling1 (None, 6, 128)            0         \n",
      "_________________________________________________________________\n",
      "dropout_16 (Dropout)         (None, 6, 128)            0         \n",
      "_________________________________________________________________\n",
      "conv1d_6 (Conv1D)            (None, 4, 128)            49280     \n",
      "_________________________________________________________________\n",
      "max_pooling1d_5 (MaxPooling1 (None, 2, 128)            0         \n",
      "_________________________________________________________________\n",
      "dropout_17 (Dropout)         (None, 2, 128)            0         \n",
      "_________________________________________________________________\n",
      "gru_10 (GRU)                 (None, 64)                37056     \n",
      "_________________________________________________________________\n",
      "dropout_18 (Dropout)         (None, 64)                0         \n",
      "_________________________________________________________________\n",
      "dense_11 (Dense)             (None, 23)                1495      \n",
      "=================================================================\n",
      "Total params: 139,159\n",
      "Trainable params: 139,159\n",
      "Non-trainable params: 0\n",
      "_________________________________________________________________\n",
      "None\n",
      "Train on 36925 samples, validate on 4103 samples\n",
      "Epoch 1/15\n",
      "36925/36925 [==============================] - 7s - loss: 2.3984 - categorical_accuracy: 0.2952 - val_loss: 2.0793 - val_categorical_accuracy: 0.3824\n",
      "Epoch 2/15\n",
      "36925/36925 [==============================] - 6s - loss: 2.1251 - categorical_accuracy: 0.3638 - val_loss: 1.9391 - val_categorical_accuracy: 0.4148\n",
      "Epoch 3/15\n",
      "36925/36925 [==============================] - 6s - loss: 2.0366 - categorical_accuracy: 0.3866 - val_loss: 1.8604 - val_categorical_accuracy: 0.4355\n",
      "Epoch 4/15\n",
      "36925/36925 [==============================] - 6s - loss: 1.9829 - categorical_accuracy: 0.3969 - val_loss: 1.8282 - val_categorical_accuracy: 0.4382\n",
      "Epoch 5/15\n",
      "36925/36925 [==============================] - 6s - loss: 1.9448 - categorical_accuracy: 0.4061 - val_loss: 1.7987 - val_categorical_accuracy: 0.4428\n",
      "Epoch 6/15\n",
      "36925/36925 [==============================] - 6s - loss: 1.9190 - categorical_accuracy: 0.4115 - val_loss: 1.7773 - val_categorical_accuracy: 0.4433\n",
      "Epoch 7/15\n",
      "36925/36925 [==============================] - 6s - loss: 1.8947 - categorical_accuracy: 0.4125 - val_loss: 1.7557 - val_categorical_accuracy: 0.4482\n",
      "Epoch 8/15\n",
      "36925/36925 [==============================] - 6s - loss: 1.8746 - categorical_accuracy: 0.4197 - val_loss: 1.7411 - val_categorical_accuracy: 0.4514\n",
      "Epoch 9/15\n",
      "36925/36925 [==============================] - 6s - loss: 1.8555 - categorical_accuracy: 0.4277 - val_loss: 1.7284 - val_categorical_accuracy: 0.4555\n",
      "Epoch 10/15\n",
      "36925/36925 [==============================] - 6s - loss: 1.8456 - categorical_accuracy: 0.4303 - val_loss: 1.7199 - val_categorical_accuracy: 0.4548\n",
      "Epoch 11/15\n",
      "36925/36925 [==============================] - 6s - loss: 1.8366 - categorical_accuracy: 0.4305 - val_loss: 1.7149 - val_categorical_accuracy: 0.4553\n",
      "Epoch 12/15\n",
      "36925/36925 [==============================] - 5s - loss: 1.8175 - categorical_accuracy: 0.4340 - val_loss: 1.7054 - val_categorical_accuracy: 0.4587\n",
      "Epoch 13/15\n",
      "36925/36925 [==============================] - 5s - loss: 1.8047 - categorical_accuracy: 0.4376 - val_loss: 1.6971 - val_categorical_accuracy: 0.4572\n",
      "Epoch 14/15\n",
      "36925/36925 [==============================] - 6s - loss: 1.7983 - categorical_accuracy: 0.4402 - val_loss: 1.6927 - val_categorical_accuracy: 0.4538\n",
      "Epoch 15/15\n",
      "36925/36925 [==============================] - 6s - loss: 1.7869 - categorical_accuracy: 0.4441 - val_loss: 1.6858 - val_categorical_accuracy: 0.4536\n",
      "             precision    recall  f1-score   support\n",
      "\n",
      "          0       0.00      0.00      0.00        41\n",
      "          1       0.42      0.47      0.44       206\n",
      "          2       0.57      0.79      0.66       482\n",
      "          3       0.52      0.59      0.55       240\n",
      "          4       0.57      0.55      0.56       231\n",
      "          5       0.44      0.10      0.17        68\n",
      "          6       0.43      0.57      0.49        79\n",
      "          7       0.37      0.56      0.45       131\n",
      "          8       0.39      0.28      0.33       102\n",
      "          9       0.41      0.43      0.42       249\n",
      "         10       0.44      0.38      0.41       136\n",
      "         11       0.33      0.08      0.13        87\n",
      "         12       0.50      0.73      0.60       507\n",
      "         13       0.44      0.46      0.45       314\n",
      "         14       0.51      0.52      0.52       152\n",
      "         15       0.45      0.35      0.40        57\n",
      "         16       0.57      0.47      0.52        34\n",
      "         17       0.30      0.15      0.20       770\n",
      "         18       0.41      0.51      0.45       206\n",
      "         19       0.41      0.56      0.47       129\n",
      "         20       0.00      0.00      0.00        44\n",
      "         21       0.54      0.60      0.57       201\n",
      "         22       0.18      0.08      0.11        93\n",
      "\n",
      "avg / total       0.43      0.46      0.43      4559\n",
      "\n",
      "Accuracy: 46.41%\n"
     ]
    },
    {
     "name": "stderr",
     "output_type": "stream",
     "text": [
      "/home/valentin/bin/anaconda3/envs/tensorflow/lib/python3.6/site-packages/sklearn/metrics/classification.py:1113: UndefinedMetricWarning: Precision and F-score are ill-defined and being set to 0.0 in labels with no predicted samples.\n",
      "  'precision', 'predicted', average, warn_for)\n"
     ]
    },
    {
     "data": {
      "text/plain": [
       "104"
      ]
     },
     "execution_count": 27,
     "metadata": {},
     "output_type": "execute_result"
    }
   ],
   "source": [
    "model.compile(optimizer=\"adagrad\",\n",
    "              loss='categorical_crossentropy',\n",
    "              metrics=['categorical_accuracy'])\n",
    "print(model.summary())\n",
    "model.fit(X_train, y_train, validation_split=0.1, epochs=15, batch_size=256)\n",
    "yhat = model.predict(X_test)\n",
    "_ = helper.score_prediction(y_test, yhat, binary=False)\n",
    "gc.collect()"
   ]
  }
 ],
 "metadata": {
  "kernelspec": {
   "display_name": "Python 3",
   "language": "python",
   "name": "python3"
  },
  "language_info": {
   "codemirror_mode": {
    "name": "ipython",
    "version": 3
   },
   "file_extension": ".py",
   "mimetype": "text/x-python",
   "name": "python",
   "nbconvert_exporter": "python",
   "pygments_lexer": "ipython3",
   "version": "3.6.1"
  }
 },
 "nbformat": 4,
 "nbformat_minor": 2
}
