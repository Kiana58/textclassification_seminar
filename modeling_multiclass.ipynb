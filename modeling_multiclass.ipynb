{
 "cells": [
  {
   "cell_type": "code",
   "execution_count": 1,
   "metadata": {},
   "outputs": [
    {
     "name": "stderr",
     "output_type": "stream",
     "text": [
      "Using TensorFlow backend.\n"
     ]
    }
   ],
   "source": [
    "import pandas as pd\n",
    "import numpy as np\n",
    "import keras\n",
    "import gensim\n",
    "import pickle\n",
    "import gc\n",
    "%matplotlib inline\n",
    "\n",
    "%load_ext autoreload\n",
    "%autoreload 2\n",
    "import helper"
   ]
  },
  {
   "cell_type": "code",
   "execution_count": 2,
   "metadata": {
    "collapsed": true
   },
   "outputs": [],
   "source": [
    "X_train = np.load(\"data/word_vectors/pubmed_wiki_X_train_seeds42.npy\")\n",
    "y_train = np.load(\"data/word_vectors/pubmed_wiki_y_train_seeds42.npy\")"
   ]
  },
  {
   "cell_type": "code",
   "execution_count": 3,
   "metadata": {
    "collapsed": true
   },
   "outputs": [],
   "source": [
    "X_test = np.load(\"data/word_vectors/pubmed_wiki_X_test_seeds42.npy\")\n",
    "y_test = np.load(\"data/word_vectors/pubmed_wiki_y_test_seeds42.npy\")"
   ]
  },
  {
   "cell_type": "code",
   "execution_count": 4,
   "metadata": {},
   "outputs": [
    {
     "data": {
      "text/plain": [
       "12"
      ]
     },
     "execution_count": 4,
     "metadata": {},
     "output_type": "execute_result"
    }
   ],
   "source": [
    "X_train = np.concatenate((X_train, X_test), axis=0)\n",
    "y_train = np.concatenate((y_train, y_test), axis=0)\n",
    "\n",
    "gc.collect()"
   ]
  },
  {
   "cell_type": "code",
   "execution_count": 6,
   "metadata": {},
   "outputs": [
    {
     "data": {
      "text/plain": [
       "(45587, 100, 200)"
      ]
     },
     "execution_count": 6,
     "metadata": {},
     "output_type": "execute_result"
    }
   ],
   "source": [
    "X_train.shape"
   ]
  },
  {
   "cell_type": "code",
   "execution_count": 12,
   "metadata": {
    "collapsed": true
   },
   "outputs": [],
   "source": [
    "input_shape = (100, 200)"
   ]
  },
  {
   "cell_type": "markdown",
   "metadata": {},
   "source": [
    "# Basic FeedForward Net (concat)"
   ]
  },
  {
   "cell_type": "code",
   "execution_count": 85,
   "metadata": {},
   "outputs": [],
   "source": [
    "X_train_concat = X_train.reshape(X_train.shape[0], 100*200)\n",
    "X_test_concat = X_test.reshape(X_test.shape[0], 100*200)"
   ]
  },
  {
   "cell_type": "code",
   "execution_count": 86,
   "metadata": {},
   "outputs": [
    {
     "name": "stdout",
     "output_type": "stream",
     "text": [
      "(41028, 20000)\n",
      "(4559, 20000)\n"
     ]
    }
   ],
   "source": [
    "print(X_train_concat.shape)\n",
    "print(X_test_concat.shape)"
   ]
  },
  {
   "cell_type": "code",
   "execution_count": 87,
   "metadata": {},
   "outputs": [],
   "source": [
    "model = keras.models.Sequential()\n",
    "model.add(keras.layers.Dense(128, input_shape=(X_train_concat.shape[1],)))\n",
    "model.add(keras.layers.Dropout(0.5))\n",
    "model.add(keras.layers.Dense(64))\n",
    "model.add(keras.layers.Dropout(0.5))\n",
    "model.add(keras.layers.Dense(23, activation='softmax'))"
   ]
  },
  {
   "cell_type": "code",
   "execution_count": 88,
   "metadata": {},
   "outputs": [
    {
     "name": "stdout",
     "output_type": "stream",
     "text": [
      "_________________________________________________________________\n",
      "Layer (type)                 Output Shape              Param #   \n",
      "=================================================================\n",
      "dense_34 (Dense)             (None, 128)               2560128   \n",
      "_________________________________________________________________\n",
      "dropout_36 (Dropout)         (None, 128)               0         \n",
      "_________________________________________________________________\n",
      "dense_35 (Dense)             (None, 64)                8256      \n",
      "_________________________________________________________________\n",
      "dropout_37 (Dropout)         (None, 64)                0         \n",
      "_________________________________________________________________\n",
      "dense_36 (Dense)             (None, 23)                1495      \n",
      "=================================================================\n",
      "Total params: 2,569,879\n",
      "Trainable params: 2,569,879\n",
      "Non-trainable params: 0\n",
      "_________________________________________________________________\n",
      "None\n",
      "Train on 36925 samples, validate on 4103 samples\n",
      "Epoch 1/15\n",
      "36925/36925 [==============================] - 6s - loss: 3.8629 - categorical_accuracy: 0.2220 - val_loss: 2.1642 - val_categorical_accuracy: 0.3444\n",
      "Epoch 2/15\n",
      "36925/36925 [==============================] - 5s - loss: 2.3745 - categorical_accuracy: 0.3219 - val_loss: 2.1213 - val_categorical_accuracy: 0.3446\n",
      "Epoch 3/15\n",
      "36925/36925 [==============================] - 5s - loss: 2.1022 - categorical_accuracy: 0.3703 - val_loss: 2.1336 - val_categorical_accuracy: 0.3383\n",
      "Epoch 4/15\n",
      "36925/36925 [==============================] - 5s - loss: 1.9351 - categorical_accuracy: 0.4137 - val_loss: 2.1481 - val_categorical_accuracy: 0.3203\n",
      "Epoch 5/15\n",
      "36925/36925 [==============================] - 5s - loss: 1.8186 - categorical_accuracy: 0.4363 - val_loss: 2.1610 - val_categorical_accuracy: 0.3183\n",
      "Epoch 6/15\n",
      "36925/36925 [==============================] - 5s - loss: 1.7265 - categorical_accuracy: 0.4567 - val_loss: 2.2080 - val_categorical_accuracy: 0.3227\n",
      "Epoch 7/15\n",
      "36925/36925 [==============================] - 5s - loss: 1.6486 - categorical_accuracy: 0.4758 - val_loss: 2.2404 - val_categorical_accuracy: 0.3093\n",
      "Epoch 8/15\n",
      "36925/36925 [==============================] - 5s - loss: 1.5821 - categorical_accuracy: 0.4958 - val_loss: 2.2716 - val_categorical_accuracy: 0.2944\n",
      "Epoch 9/15\n",
      "36608/36925 [============================>.] - ETA: 0s - loss: 1.5241 - categorical_accuracy: 0.5097"
     ]
    },
    {
     "ename": "KeyboardInterrupt",
     "evalue": "",
     "output_type": "error",
     "traceback": [
      "\u001b[0;31m---------------------------------------------------------------------------\u001b[0m",
      "\u001b[0;31mKeyboardInterrupt\u001b[0m                         Traceback (most recent call last)",
      "\u001b[0;32m<ipython-input-88-243281160b8b>\u001b[0m in \u001b[0;36m<module>\u001b[0;34m()\u001b[0m\n\u001b[1;32m      3\u001b[0m               metrics=['categorical_accuracy'])\n\u001b[1;32m      4\u001b[0m \u001b[0mprint\u001b[0m\u001b[0;34m(\u001b[0m\u001b[0mmodel\u001b[0m\u001b[0;34m.\u001b[0m\u001b[0msummary\u001b[0m\u001b[0;34m(\u001b[0m\u001b[0;34m)\u001b[0m\u001b[0;34m)\u001b[0m\u001b[0;34m\u001b[0m\u001b[0m\n\u001b[0;32m----> 5\u001b[0;31m \u001b[0mmodel\u001b[0m\u001b[0;34m.\u001b[0m\u001b[0mfit\u001b[0m\u001b[0;34m(\u001b[0m\u001b[0mX_train_concat\u001b[0m\u001b[0;34m,\u001b[0m \u001b[0my_train\u001b[0m\u001b[0;34m,\u001b[0m \u001b[0mvalidation_split\u001b[0m\u001b[0;34m=\u001b[0m\u001b[0;36m0.1\u001b[0m\u001b[0;34m,\u001b[0m \u001b[0mepochs\u001b[0m\u001b[0;34m=\u001b[0m\u001b[0;36m15\u001b[0m\u001b[0;34m,\u001b[0m \u001b[0mbatch_size\u001b[0m\u001b[0;34m=\u001b[0m\u001b[0;36m256\u001b[0m\u001b[0;34m)\u001b[0m\u001b[0;34m\u001b[0m\u001b[0m\n\u001b[0m\u001b[1;32m      6\u001b[0m \u001b[0myhat\u001b[0m \u001b[0;34m=\u001b[0m \u001b[0mmodel\u001b[0m\u001b[0;34m.\u001b[0m\u001b[0mpredict\u001b[0m\u001b[0;34m(\u001b[0m\u001b[0mX_test_concat\u001b[0m\u001b[0;34m)\u001b[0m\u001b[0;34m\u001b[0m\u001b[0m\n\u001b[1;32m      7\u001b[0m \u001b[0m_\u001b[0m \u001b[0;34m=\u001b[0m \u001b[0mhelper\u001b[0m\u001b[0;34m.\u001b[0m\u001b[0mscore_prediction\u001b[0m\u001b[0;34m(\u001b[0m\u001b[0my_test\u001b[0m\u001b[0;34m,\u001b[0m \u001b[0myhat\u001b[0m\u001b[0;34m,\u001b[0m \u001b[0mbinary\u001b[0m\u001b[0;34m=\u001b[0m\u001b[0;32mFalse\u001b[0m\u001b[0;34m)\u001b[0m\u001b[0;34m\u001b[0m\u001b[0m\n",
      "\u001b[0;32m/home/valentin/bin/anaconda3/envs/tensorflow/lib/python3.6/site-packages/keras/models.py\u001b[0m in \u001b[0;36mfit\u001b[0;34m(self, x, y, batch_size, epochs, verbose, callbacks, validation_split, validation_data, shuffle, class_weight, sample_weight, initial_epoch, **kwargs)\u001b[0m\n\u001b[1;32m    851\u001b[0m                               \u001b[0mclass_weight\u001b[0m\u001b[0;34m=\u001b[0m\u001b[0mclass_weight\u001b[0m\u001b[0;34m,\u001b[0m\u001b[0;34m\u001b[0m\u001b[0m\n\u001b[1;32m    852\u001b[0m                               \u001b[0msample_weight\u001b[0m\u001b[0;34m=\u001b[0m\u001b[0msample_weight\u001b[0m\u001b[0;34m,\u001b[0m\u001b[0;34m\u001b[0m\u001b[0m\n\u001b[0;32m--> 853\u001b[0;31m                               initial_epoch=initial_epoch)\n\u001b[0m\u001b[1;32m    854\u001b[0m \u001b[0;34m\u001b[0m\u001b[0m\n\u001b[1;32m    855\u001b[0m     def evaluate(self, x, y, batch_size=32, verbose=1,\n",
      "\u001b[0;32m/home/valentin/bin/anaconda3/envs/tensorflow/lib/python3.6/site-packages/keras/engine/training.py\u001b[0m in \u001b[0;36mfit\u001b[0;34m(self, x, y, batch_size, epochs, verbose, callbacks, validation_split, validation_data, shuffle, class_weight, sample_weight, initial_epoch, **kwargs)\u001b[0m\n\u001b[1;32m   1484\u001b[0m                               \u001b[0mval_f\u001b[0m\u001b[0;34m=\u001b[0m\u001b[0mval_f\u001b[0m\u001b[0;34m,\u001b[0m \u001b[0mval_ins\u001b[0m\u001b[0;34m=\u001b[0m\u001b[0mval_ins\u001b[0m\u001b[0;34m,\u001b[0m \u001b[0mshuffle\u001b[0m\u001b[0;34m=\u001b[0m\u001b[0mshuffle\u001b[0m\u001b[0;34m,\u001b[0m\u001b[0;34m\u001b[0m\u001b[0m\n\u001b[1;32m   1485\u001b[0m                               \u001b[0mcallback_metrics\u001b[0m\u001b[0;34m=\u001b[0m\u001b[0mcallback_metrics\u001b[0m\u001b[0;34m,\u001b[0m\u001b[0;34m\u001b[0m\u001b[0m\n\u001b[0;32m-> 1486\u001b[0;31m                               initial_epoch=initial_epoch)\n\u001b[0m\u001b[1;32m   1487\u001b[0m \u001b[0;34m\u001b[0m\u001b[0m\n\u001b[1;32m   1488\u001b[0m     \u001b[0;32mdef\u001b[0m \u001b[0mevaluate\u001b[0m\u001b[0;34m(\u001b[0m\u001b[0mself\u001b[0m\u001b[0;34m,\u001b[0m \u001b[0mx\u001b[0m\u001b[0;34m,\u001b[0m \u001b[0my\u001b[0m\u001b[0;34m,\u001b[0m \u001b[0mbatch_size\u001b[0m\u001b[0;34m=\u001b[0m\u001b[0;36m32\u001b[0m\u001b[0;34m,\u001b[0m \u001b[0mverbose\u001b[0m\u001b[0;34m=\u001b[0m\u001b[0;36m1\u001b[0m\u001b[0;34m,\u001b[0m \u001b[0msample_weight\u001b[0m\u001b[0;34m=\u001b[0m\u001b[0;32mNone\u001b[0m\u001b[0;34m)\u001b[0m\u001b[0;34m:\u001b[0m\u001b[0;34m\u001b[0m\u001b[0m\n",
      "\u001b[0;32m/home/valentin/bin/anaconda3/envs/tensorflow/lib/python3.6/site-packages/keras/engine/training.py\u001b[0m in \u001b[0;36m_fit_loop\u001b[0;34m(self, f, ins, out_labels, batch_size, epochs, verbose, callbacks, val_f, val_ins, shuffle, callback_metrics, initial_epoch)\u001b[0m\n\u001b[1;32m   1153\u001b[0m                         val_outs = self._test_loop(val_f, val_ins,\n\u001b[1;32m   1154\u001b[0m                                                    \u001b[0mbatch_size\u001b[0m\u001b[0;34m=\u001b[0m\u001b[0mbatch_size\u001b[0m\u001b[0;34m,\u001b[0m\u001b[0;34m\u001b[0m\u001b[0m\n\u001b[0;32m-> 1155\u001b[0;31m                                                    verbose=0)\n\u001b[0m\u001b[1;32m   1156\u001b[0m                         \u001b[0;32mif\u001b[0m \u001b[0;32mnot\u001b[0m \u001b[0misinstance\u001b[0m\u001b[0;34m(\u001b[0m\u001b[0mval_outs\u001b[0m\u001b[0;34m,\u001b[0m \u001b[0mlist\u001b[0m\u001b[0;34m)\u001b[0m\u001b[0;34m:\u001b[0m\u001b[0;34m\u001b[0m\u001b[0m\n\u001b[1;32m   1157\u001b[0m                             \u001b[0mval_outs\u001b[0m \u001b[0;34m=\u001b[0m \u001b[0;34m[\u001b[0m\u001b[0mval_outs\u001b[0m\u001b[0;34m]\u001b[0m\u001b[0;34m\u001b[0m\u001b[0m\n",
      "\u001b[0;32m/home/valentin/bin/anaconda3/envs/tensorflow/lib/python3.6/site-packages/keras/engine/training.py\u001b[0m in \u001b[0;36m_test_loop\u001b[0;34m(self, f, ins, batch_size, verbose)\u001b[0m\n\u001b[1;32m   1255\u001b[0m                 \u001b[0mins_batch\u001b[0m \u001b[0;34m=\u001b[0m \u001b[0m_slice_arrays\u001b[0m\u001b[0;34m(\u001b[0m\u001b[0mins\u001b[0m\u001b[0;34m,\u001b[0m \u001b[0mbatch_ids\u001b[0m\u001b[0;34m)\u001b[0m\u001b[0;34m\u001b[0m\u001b[0m\n\u001b[1;32m   1256\u001b[0m \u001b[0;34m\u001b[0m\u001b[0m\n\u001b[0;32m-> 1257\u001b[0;31m             \u001b[0mbatch_outs\u001b[0m \u001b[0;34m=\u001b[0m \u001b[0mf\u001b[0m\u001b[0;34m(\u001b[0m\u001b[0mins_batch\u001b[0m\u001b[0;34m)\u001b[0m\u001b[0;34m\u001b[0m\u001b[0m\n\u001b[0m\u001b[1;32m   1258\u001b[0m             \u001b[0;32mif\u001b[0m \u001b[0misinstance\u001b[0m\u001b[0;34m(\u001b[0m\u001b[0mbatch_outs\u001b[0m\u001b[0;34m,\u001b[0m \u001b[0mlist\u001b[0m\u001b[0;34m)\u001b[0m\u001b[0;34m:\u001b[0m\u001b[0;34m\u001b[0m\u001b[0m\n\u001b[1;32m   1259\u001b[0m                 \u001b[0;32mif\u001b[0m \u001b[0mbatch_index\u001b[0m \u001b[0;34m==\u001b[0m \u001b[0;36m0\u001b[0m\u001b[0;34m:\u001b[0m\u001b[0;34m\u001b[0m\u001b[0m\n",
      "\u001b[0;32m/home/valentin/bin/anaconda3/envs/tensorflow/lib/python3.6/site-packages/keras/backend/tensorflow_backend.py\u001b[0m in \u001b[0;36m__call__\u001b[0;34m(self, inputs)\u001b[0m\n\u001b[1;32m   2101\u001b[0m         \u001b[0msession\u001b[0m \u001b[0;34m=\u001b[0m \u001b[0mget_session\u001b[0m\u001b[0;34m(\u001b[0m\u001b[0;34m)\u001b[0m\u001b[0;34m\u001b[0m\u001b[0m\n\u001b[1;32m   2102\u001b[0m         updated = session.run(self.outputs + [self.updates_op],\n\u001b[0;32m-> 2103\u001b[0;31m                               feed_dict=feed_dict)\n\u001b[0m\u001b[1;32m   2104\u001b[0m         \u001b[0;32mreturn\u001b[0m \u001b[0mupdated\u001b[0m\u001b[0;34m[\u001b[0m\u001b[0;34m:\u001b[0m\u001b[0mlen\u001b[0m\u001b[0;34m(\u001b[0m\u001b[0mself\u001b[0m\u001b[0;34m.\u001b[0m\u001b[0moutputs\u001b[0m\u001b[0;34m)\u001b[0m\u001b[0;34m]\u001b[0m\u001b[0;34m\u001b[0m\u001b[0m\n\u001b[1;32m   2105\u001b[0m \u001b[0;34m\u001b[0m\u001b[0m\n",
      "\u001b[0;32m/home/valentin/bin/anaconda3/envs/tensorflow/lib/python3.6/site-packages/tensorflow/python/client/session.py\u001b[0m in \u001b[0;36mrun\u001b[0;34m(self, fetches, feed_dict, options, run_metadata)\u001b[0m\n\u001b[1;32m    765\u001b[0m     \u001b[0;32mtry\u001b[0m\u001b[0;34m:\u001b[0m\u001b[0;34m\u001b[0m\u001b[0m\n\u001b[1;32m    766\u001b[0m       result = self._run(None, fetches, feed_dict, options_ptr,\n\u001b[0;32m--> 767\u001b[0;31m                          run_metadata_ptr)\n\u001b[0m\u001b[1;32m    768\u001b[0m       \u001b[0;32mif\u001b[0m \u001b[0mrun_metadata\u001b[0m\u001b[0;34m:\u001b[0m\u001b[0;34m\u001b[0m\u001b[0m\n\u001b[1;32m    769\u001b[0m         \u001b[0mproto_data\u001b[0m \u001b[0;34m=\u001b[0m \u001b[0mtf_session\u001b[0m\u001b[0;34m.\u001b[0m\u001b[0mTF_GetBuffer\u001b[0m\u001b[0;34m(\u001b[0m\u001b[0mrun_metadata_ptr\u001b[0m\u001b[0;34m)\u001b[0m\u001b[0;34m\u001b[0m\u001b[0m\n",
      "\u001b[0;32m/home/valentin/bin/anaconda3/envs/tensorflow/lib/python3.6/site-packages/tensorflow/python/client/session.py\u001b[0m in \u001b[0;36m_run\u001b[0;34m(self, handle, fetches, feed_dict, options, run_metadata)\u001b[0m\n\u001b[1;32m    936\u001b[0m                 ' to a larger type (e.g. int64).')\n\u001b[1;32m    937\u001b[0m \u001b[0;34m\u001b[0m\u001b[0m\n\u001b[0;32m--> 938\u001b[0;31m           \u001b[0mnp_val\u001b[0m \u001b[0;34m=\u001b[0m \u001b[0mnp\u001b[0m\u001b[0;34m.\u001b[0m\u001b[0masarray\u001b[0m\u001b[0;34m(\u001b[0m\u001b[0msubfeed_val\u001b[0m\u001b[0;34m,\u001b[0m \u001b[0mdtype\u001b[0m\u001b[0;34m=\u001b[0m\u001b[0msubfeed_dtype\u001b[0m\u001b[0;34m)\u001b[0m\u001b[0;34m\u001b[0m\u001b[0m\n\u001b[0m\u001b[1;32m    939\u001b[0m \u001b[0;34m\u001b[0m\u001b[0m\n\u001b[1;32m    940\u001b[0m           \u001b[0;32mif\u001b[0m \u001b[0;32mnot\u001b[0m \u001b[0msubfeed_t\u001b[0m\u001b[0;34m.\u001b[0m\u001b[0mget_shape\u001b[0m\u001b[0;34m(\u001b[0m\u001b[0;34m)\u001b[0m\u001b[0;34m.\u001b[0m\u001b[0mis_compatible_with\u001b[0m\u001b[0;34m(\u001b[0m\u001b[0mnp_val\u001b[0m\u001b[0;34m.\u001b[0m\u001b[0mshape\u001b[0m\u001b[0;34m)\u001b[0m\u001b[0;34m:\u001b[0m\u001b[0;34m\u001b[0m\u001b[0m\n",
      "\u001b[0;32m/home/valentin/bin/anaconda3/envs/tensorflow/lib/python3.6/site-packages/numpy/core/numeric.py\u001b[0m in \u001b[0;36masarray\u001b[0;34m(a, dtype, order)\u001b[0m\n\u001b[1;32m    529\u001b[0m \u001b[0;34m\u001b[0m\u001b[0m\n\u001b[1;32m    530\u001b[0m     \"\"\"\n\u001b[0;32m--> 531\u001b[0;31m     \u001b[0;32mreturn\u001b[0m \u001b[0marray\u001b[0m\u001b[0;34m(\u001b[0m\u001b[0ma\u001b[0m\u001b[0;34m,\u001b[0m \u001b[0mdtype\u001b[0m\u001b[0;34m,\u001b[0m \u001b[0mcopy\u001b[0m\u001b[0;34m=\u001b[0m\u001b[0;32mFalse\u001b[0m\u001b[0;34m,\u001b[0m \u001b[0morder\u001b[0m\u001b[0;34m=\u001b[0m\u001b[0morder\u001b[0m\u001b[0;34m)\u001b[0m\u001b[0;34m\u001b[0m\u001b[0m\n\u001b[0m\u001b[1;32m    532\u001b[0m \u001b[0;34m\u001b[0m\u001b[0m\n\u001b[1;32m    533\u001b[0m \u001b[0;34m\u001b[0m\u001b[0m\n",
      "\u001b[0;31mKeyboardInterrupt\u001b[0m: "
     ]
    }
   ],
   "source": [
    "model.compile(optimizer=\"adagrad\",\n",
    "              loss='categorical_crossentropy',\n",
    "              metrics=['categorical_accuracy'])\n",
    "print(model.summary())\n",
    "model.fit(X_train_concat, y_train, validation_split=0.1, epochs=15, batch_size=256)\n",
    "yhat = model.predict(X_test_concat)\n",
    "_ = helper.score_prediction(y_test, yhat, binary=False)\n",
    "gc.collect()"
   ]
  },
  {
   "cell_type": "markdown",
   "metadata": {},
   "source": [
    "# Basic RNN (LSTM)"
   ]
  },
  {
   "cell_type": "code",
   "execution_count": 29,
   "metadata": {
    "collapsed": true
   },
   "outputs": [],
   "source": [
    "model = keras.models.Sequential()\n",
    "model.add(keras.layers.recurrent.LSTM(100, input_shape=input_shape))\n",
    "model.add(keras.layers.Dropout(0.3))\n",
    "model.add(keras.layers.Dense(23, activation='softmax'))"
   ]
  },
  {
   "cell_type": "code",
   "execution_count": 30,
   "metadata": {},
   "outputs": [
    {
     "name": "stdout",
     "output_type": "stream",
     "text": [
      "_________________________________________________________________\n",
      "Layer (type)                 Output Shape              Param #   \n",
      "=================================================================\n",
      "lstm_12 (LSTM)               (None, 100)               120400    \n",
      "_________________________________________________________________\n",
      "dropout_12 (Dropout)         (None, 100)               0         \n",
      "_________________________________________________________________\n",
      "dense_6 (Dense)              (None, 23)                2323      \n",
      "=================================================================\n",
      "Total params: 122,723\n",
      "Trainable params: 122,723\n",
      "Non-trainable params: 0\n",
      "_________________________________________________________________\n",
      "None\n",
      "Train on 36925 samples, validate on 4103 samples\n",
      "Epoch 1/15\n",
      "36925/36925 [==============================] - 19s - loss: 2.6026 - categorical_accuracy: 0.2370 - val_loss: 2.4208 - val_categorical_accuracy: 0.2661\n",
      "Epoch 2/15\n",
      "36925/36925 [==============================] - 18s - loss: 2.4080 - categorical_accuracy: 0.2788 - val_loss: 2.2901 - val_categorical_accuracy: 0.3010\n",
      "Epoch 3/15\n",
      "36925/36925 [==============================] - 18s - loss: 2.3091 - categorical_accuracy: 0.2982 - val_loss: 2.2486 - val_categorical_accuracy: 0.3037\n",
      "Epoch 4/15\n",
      "36925/36925 [==============================] - 19s - loss: 2.2471 - categorical_accuracy: 0.3181 - val_loss: 2.1899 - val_categorical_accuracy: 0.3305\n",
      "Epoch 5/15\n",
      "36925/36925 [==============================] - 19s - loss: 2.1844 - categorical_accuracy: 0.3331 - val_loss: 2.1256 - val_categorical_accuracy: 0.3575\n",
      "Epoch 6/15\n",
      "36925/36925 [==============================] - 18s - loss: 2.1362 - categorical_accuracy: 0.3477 - val_loss: 2.0955 - val_categorical_accuracy: 0.3651\n",
      "Epoch 7/15\n",
      "36925/36925 [==============================] - 19s - loss: 2.0911 - categorical_accuracy: 0.3600 - val_loss: 2.1403 - val_categorical_accuracy: 0.3400\n",
      "Epoch 8/15\n",
      "36925/36925 [==============================] - 19s - loss: 2.0565 - categorical_accuracy: 0.3654 - val_loss: 2.0215 - val_categorical_accuracy: 0.3807\n",
      "Epoch 9/15\n",
      "36925/36925 [==============================] - 19s - loss: 2.0204 - categorical_accuracy: 0.3762 - val_loss: 2.0005 - val_categorical_accuracy: 0.3863\n",
      "Epoch 10/15\n",
      "36925/36925 [==============================] - 19s - loss: 1.9865 - categorical_accuracy: 0.3812 - val_loss: 1.9613 - val_categorical_accuracy: 0.3956\n",
      "Epoch 11/15\n",
      "36925/36925 [==============================] - 19s - loss: 1.9578 - categorical_accuracy: 0.3887 - val_loss: 1.9556 - val_categorical_accuracy: 0.3970\n",
      "Epoch 12/15\n",
      "36925/36925 [==============================] - 19s - loss: 1.9373 - categorical_accuracy: 0.3920 - val_loss: 1.9346 - val_categorical_accuracy: 0.4019\n",
      "Epoch 13/15\n",
      "36925/36925 [==============================] - 19s - loss: 1.9149 - categorical_accuracy: 0.3984 - val_loss: 1.9113 - val_categorical_accuracy: 0.4039\n",
      "Epoch 14/15\n",
      "36925/36925 [==============================] - 19s - loss: 1.8865 - categorical_accuracy: 0.4045 - val_loss: 1.8953 - val_categorical_accuracy: 0.4029\n",
      "Epoch 15/15\n",
      "36925/36925 [==============================] - 19s - loss: 1.8685 - categorical_accuracy: 0.4124 - val_loss: 1.8821 - val_categorical_accuracy: 0.4087\n",
      "             precision    recall  f1-score   support\n",
      "\n",
      "          0       0.00      0.00      0.00        36\n",
      "          1       0.33      0.57      0.42       182\n",
      "          2       0.50      0.75      0.60       457\n",
      "          3       0.41      0.50      0.45       254\n",
      "          4       0.49      0.33      0.39       241\n",
      "          5       0.06      0.02      0.02        63\n",
      "          6       0.41      0.63      0.50        81\n",
      "          7       0.32      0.35      0.33       126\n",
      "          8       0.34      0.12      0.18       106\n",
      "          9       0.38      0.34      0.36       232\n",
      "         10       0.37      0.30      0.33       140\n",
      "         11       0.25      0.04      0.06        84\n",
      "         12       0.47      0.78      0.59       523\n",
      "         13       0.43      0.41      0.42       331\n",
      "         14       0.41      0.44      0.43       143\n",
      "         15       0.32      0.27      0.29        37\n",
      "         16       0.80      0.13      0.23        30\n",
      "         17       0.25      0.15      0.19       771\n",
      "         18       0.37      0.30      0.33       218\n",
      "         19       0.37      0.38      0.37       132\n",
      "         20       0.00      0.00      0.00        45\n",
      "         21       0.47      0.43      0.45       235\n",
      "         22       0.22      0.20      0.21        92\n",
      "\n",
      "avg / total       0.38      0.41      0.38      4559\n",
      "\n",
      "Accuracy: 40.80%\n"
     ]
    },
    {
     "name": "stderr",
     "output_type": "stream",
     "text": [
      "/home/valentin/bin/anaconda3/envs/tensorflow/lib/python3.6/site-packages/sklearn/metrics/classification.py:1113: UndefinedMetricWarning: Precision and F-score are ill-defined and being set to 0.0 in labels with no predicted samples.\n",
      "  'precision', 'predicted', average, warn_for)\n"
     ]
    },
    {
     "data": {
      "text/plain": [
       "313"
      ]
     },
     "execution_count": 30,
     "metadata": {},
     "output_type": "execute_result"
    }
   ],
   "source": [
    "model.compile(optimizer=\"adagrad\",\n",
    "              loss='categorical_crossentropy',\n",
    "              metrics=['categorical_accuracy'])\n",
    "print(model.summary())\n",
    "model.fit(X_train, y_train, validation_split=0.1, epochs=15, batch_size=256)\n",
    "yhat = model.predict(X_test)\n",
    "_ = helper.score_prediction(y_test, yhat, binary=False)\n",
    "gc.collect()"
   ]
  },
  {
   "cell_type": "markdown",
   "metadata": {},
   "source": [
    "# Basic RNN (GRU)"
   ]
  },
  {
   "cell_type": "code",
   "execution_count": 47,
   "metadata": {
    "collapsed": true
   },
   "outputs": [],
   "source": [
    "model = keras.models.Sequential()\n",
    "model.add(keras.layers.recurrent.GRU(100, input_shape=input_shape))\n",
    "model.add(keras.layers.Dropout(0.3))\n",
    "model.add(keras.layers.Dense(23, activation='softmax'))"
   ]
  },
  {
   "cell_type": "code",
   "execution_count": 48,
   "metadata": {},
   "outputs": [
    {
     "name": "stdout",
     "output_type": "stream",
     "text": [
      "_________________________________________________________________\n",
      "Layer (type)                 Output Shape              Param #   \n",
      "=================================================================\n",
      "gru_14 (GRU)                 (None, 100)               90300     \n",
      "_________________________________________________________________\n",
      "dropout_23 (Dropout)         (None, 100)               0         \n",
      "_________________________________________________________________\n",
      "dense_13 (Dense)             (None, 23)                2323      \n",
      "=================================================================\n",
      "Total params: 92,623\n",
      "Trainable params: 92,623\n",
      "Non-trainable params: 0\n",
      "_________________________________________________________________\n",
      "None\n",
      "Train on 36925 samples, validate on 4103 samples\n",
      "Epoch 1/15\n",
      "36925/36925 [==============================] - 16s - loss: 2.3841 - categorical_accuracy: 0.2942 - val_loss: 1.9515 - val_categorical_accuracy: 0.3883\n",
      "Epoch 2/15\n",
      "36925/36925 [==============================] - 16s - loss: 1.8802 - categorical_accuracy: 0.4022 - val_loss: 1.7801 - val_categorical_accuracy: 0.4241\n",
      "Epoch 3/15\n",
      "36925/36925 [==============================] - 16s - loss: 1.7649 - categorical_accuracy: 0.4265 - val_loss: 1.7076 - val_categorical_accuracy: 0.4450\n",
      "Epoch 4/15\n",
      "36925/36925 [==============================] - 16s - loss: 1.7091 - categorical_accuracy: 0.4393 - val_loss: 1.6800 - val_categorical_accuracy: 0.4465\n",
      "Epoch 5/15\n",
      "36925/36925 [==============================] - 16s - loss: 1.6657 - categorical_accuracy: 0.4502 - val_loss: 1.6579 - val_categorical_accuracy: 0.4543\n",
      "Epoch 6/15\n",
      "36925/36925 [==============================] - 16s - loss: 1.6413 - categorical_accuracy: 0.4547 - val_loss: 1.6405 - val_categorical_accuracy: 0.4621\n",
      "Epoch 7/15\n",
      "36925/36925 [==============================] - 16s - loss: 1.6184 - categorical_accuracy: 0.4615 - val_loss: 1.6243 - val_categorical_accuracy: 0.4609\n",
      "Epoch 8/15\n",
      "36925/36925 [==============================] - 16s - loss: 1.5985 - categorical_accuracy: 0.4643 - val_loss: 1.6065 - val_categorical_accuracy: 0.4611\n",
      "Epoch 9/15\n",
      "36925/36925 [==============================] - 16s - loss: 1.5828 - categorical_accuracy: 0.4693 - val_loss: 1.6021 - val_categorical_accuracy: 0.4680\n",
      "Epoch 10/15\n",
      "36925/36925 [==============================] - 16s - loss: 1.5687 - categorical_accuracy: 0.4711 - val_loss: 1.5974 - val_categorical_accuracy: 0.4658\n",
      "Epoch 11/15\n",
      "36925/36925 [==============================] - 16s - loss: 1.5571 - categorical_accuracy: 0.4758 - val_loss: 1.5927 - val_categorical_accuracy: 0.4699\n",
      "Epoch 12/15\n",
      "36925/36925 [==============================] - 16s - loss: 1.5447 - categorical_accuracy: 0.4748 - val_loss: 1.5802 - val_categorical_accuracy: 0.4699\n",
      "Epoch 13/15\n",
      "36925/36925 [==============================] - 16s - loss: 1.5361 - categorical_accuracy: 0.4785 - val_loss: 1.5798 - val_categorical_accuracy: 0.4701\n",
      "Epoch 14/15\n",
      "36925/36925 [==============================] - 16s - loss: 1.5218 - categorical_accuracy: 0.4814 - val_loss: 1.5764 - val_categorical_accuracy: 0.4680\n",
      "Epoch 15/15\n",
      "36925/36925 [==============================] - 16s - loss: 1.5157 - categorical_accuracy: 0.4829 - val_loss: 1.5671 - val_categorical_accuracy: 0.4711\n",
      "             precision    recall  f1-score   support\n",
      "\n",
      "          0       0.00      0.00      0.00        36\n",
      "          1       0.43      0.52      0.47       182\n",
      "          2       0.54      0.69      0.61       457\n",
      "          3       0.44      0.48      0.45       254\n",
      "          4       0.58      0.49      0.53       241\n",
      "          5       0.41      0.22      0.29        63\n",
      "          6       0.60      0.62      0.61        81\n",
      "          7       0.46      0.43      0.44       126\n",
      "          8       0.37      0.29      0.33       106\n",
      "          9       0.44      0.52      0.48       232\n",
      "         10       0.41      0.43      0.42       140\n",
      "         11       0.36      0.36      0.36        84\n",
      "         12       0.54      0.67      0.60       523\n",
      "         13       0.49      0.46      0.47       331\n",
      "         14       0.42      0.55      0.47       143\n",
      "         15       0.42      0.49      0.45        37\n",
      "         16       0.53      0.63      0.58        30\n",
      "         17       0.32      0.22      0.26       771\n",
      "         18       0.45      0.47      0.46       218\n",
      "         19       0.47      0.43      0.45       132\n",
      "         20       0.47      0.33      0.39        45\n",
      "         21       0.54      0.57      0.55       235\n",
      "         22       0.33      0.24      0.28        92\n",
      "\n",
      "avg / total       0.45      0.47      0.45      4559\n",
      "\n",
      "Accuracy: 46.59%\n"
     ]
    },
    {
     "data": {
      "text/plain": [
       "102"
      ]
     },
     "execution_count": 48,
     "metadata": {},
     "output_type": "execute_result"
    }
   ],
   "source": [
    "model.compile(optimizer=\"adagrad\",\n",
    "              loss='categorical_crossentropy',\n",
    "              metrics=['accuracy'])\n",
    "print(model.summary())\n",
    "model.fit(X_train, y_train, validation_split=0.1, epochs=15, batch_size=256)\n",
    "yhat = model.predict(X_test)\n",
    "_ = helper.score_prediction(y_test, yhat, binary=False)\n",
    "gc.collect()"
   ]
  },
  {
   "cell_type": "markdown",
   "metadata": {},
   "source": [
    "# Deep RNN (GRU)"
   ]
  },
  {
   "cell_type": "code",
   "execution_count": 45,
   "metadata": {},
   "outputs": [],
   "source": [
    "model = keras.models.Sequential()\n",
    "model.add(keras.layers.recurrent.GRU(64, input_shape=input_shape, return_sequences=True))\n",
    "model.add(keras.layers.Dropout(0.3))\n",
    "model.add(keras.layers.recurrent.GRU(32))\n",
    "model.add(keras.layers.Dropout(0.3))\n",
    "model.add(keras.layers.Dense(23, activation='softmax'))"
   ]
  },
  {
   "cell_type": "code",
   "execution_count": 46,
   "metadata": {
    "scrolled": false
   },
   "outputs": [
    {
     "name": "stdout",
     "output_type": "stream",
     "text": [
      "_________________________________________________________________\n",
      "Layer (type)                 Output Shape              Param #   \n",
      "=================================================================\n",
      "gru_12 (GRU)                 (None, 100, 64)           50880     \n",
      "_________________________________________________________________\n",
      "dropout_21 (Dropout)         (None, 100, 64)           0         \n",
      "_________________________________________________________________\n",
      "gru_13 (GRU)                 (None, 32)                9312      \n",
      "_________________________________________________________________\n",
      "dropout_22 (Dropout)         (None, 32)                0         \n",
      "_________________________________________________________________\n",
      "dense_12 (Dense)             (None, 23)                759       \n",
      "=================================================================\n",
      "Total params: 60,951\n",
      "Trainable params: 60,951\n",
      "Non-trainable params: 0\n",
      "_________________________________________________________________\n",
      "None\n",
      "Train on 36925 samples, validate on 4103 samples\n",
      "Epoch 1/15\n",
      "36925/36925 [==============================] - 28s - loss: 2.5850 - categorical_accuracy: 0.2559 - val_loss: 2.3102 - val_categorical_accuracy: 0.3154\n",
      "Epoch 2/15\n",
      "36925/36925 [==============================] - 27s - loss: 2.2861 - categorical_accuracy: 0.3230 - val_loss: 2.1198 - val_categorical_accuracy: 0.3571\n",
      "Epoch 3/15\n",
      "36925/36925 [==============================] - 27s - loss: 2.1242 - categorical_accuracy: 0.3553 - val_loss: 1.9889 - val_categorical_accuracy: 0.3885\n",
      "Epoch 4/15\n",
      "36925/36925 [==============================] - 28s - loss: 2.0150 - categorical_accuracy: 0.3823 - val_loss: 1.9151 - val_categorical_accuracy: 0.4168\n",
      "Epoch 5/15\n",
      "36925/36925 [==============================] - 28s - loss: 1.9480 - categorical_accuracy: 0.3976 - val_loss: 1.8710 - val_categorical_accuracy: 0.4265\n",
      "Epoch 6/15\n",
      "36925/36925 [==============================] - 27s - loss: 1.9000 - categorical_accuracy: 0.4117 - val_loss: 1.8309 - val_categorical_accuracy: 0.4316\n",
      "Epoch 7/15\n",
      "36925/36925 [==============================] - 27s - loss: 1.8655 - categorical_accuracy: 0.4175 - val_loss: 1.8108 - val_categorical_accuracy: 0.4338\n",
      "Epoch 8/15\n",
      "36925/36925 [==============================] - 27s - loss: 1.8376 - categorical_accuracy: 0.4264 - val_loss: 1.7834 - val_categorical_accuracy: 0.4421\n",
      "Epoch 9/15\n",
      "36925/36925 [==============================] - 28s - loss: 1.8126 - categorical_accuracy: 0.4339 - val_loss: 1.7658 - val_categorical_accuracy: 0.4414\n",
      "Epoch 10/15\n",
      "36925/36925 [==============================] - 27s - loss: 1.7947 - categorical_accuracy: 0.4368 - val_loss: 1.7530 - val_categorical_accuracy: 0.4543\n",
      "Epoch 11/15\n",
      "36925/36925 [==============================] - 28s - loss: 1.7784 - categorical_accuracy: 0.4388 - val_loss: 1.7408 - val_categorical_accuracy: 0.4502\n",
      "Epoch 12/15\n",
      "36925/36925 [==============================] - 27s - loss: 1.7594 - categorical_accuracy: 0.4464 - val_loss: 1.7290 - val_categorical_accuracy: 0.4538\n",
      "Epoch 13/15\n",
      "36925/36925 [==============================] - 27s - loss: 1.7520 - categorical_accuracy: 0.4451 - val_loss: 1.7225 - val_categorical_accuracy: 0.4567\n",
      "Epoch 14/15\n",
      "36925/36925 [==============================] - 26s - loss: 1.7383 - categorical_accuracy: 0.4512 - val_loss: 1.7143 - val_categorical_accuracy: 0.4563\n",
      "Epoch 15/15\n",
      "36925/36925 [==============================] - 27s - loss: 1.7256 - categorical_accuracy: 0.4516 - val_loss: 1.7071 - val_categorical_accuracy: 0.4572\n",
      "             precision    recall  f1-score   support\n",
      "\n",
      "          0       0.00      0.00      0.00        36\n",
      "          1       0.38      0.55      0.45       182\n",
      "          2       0.57      0.71      0.63       457\n",
      "          3       0.44      0.52      0.48       254\n",
      "          4       0.56      0.46      0.51       241\n",
      "          5       0.14      0.06      0.09        63\n",
      "          6       0.54      0.64      0.58        81\n",
      "          7       0.42      0.50      0.46       126\n",
      "          8       0.37      0.20      0.26       106\n",
      "          9       0.40      0.49      0.44       232\n",
      "         10       0.46      0.32      0.38       140\n",
      "         11       0.50      0.05      0.09        84\n",
      "         12       0.52      0.72      0.60       523\n",
      "         13       0.48      0.51      0.49       331\n",
      "         14       0.45      0.56      0.50       143\n",
      "         15       0.34      0.43      0.38        37\n",
      "         16       0.70      0.47      0.56        30\n",
      "         17       0.30      0.19      0.24       771\n",
      "         18       0.45      0.47      0.46       218\n",
      "         19       0.40      0.39      0.40       132\n",
      "         20       0.44      0.16      0.23        45\n",
      "         21       0.55      0.54      0.54       235\n",
      "         22       0.26      0.22      0.24        92\n",
      "\n",
      "avg / total       0.44      0.46      0.44      4559\n",
      "\n",
      "Accuracy: 45.71%\n"
     ]
    },
    {
     "name": "stderr",
     "output_type": "stream",
     "text": [
      "/home/valentin/bin/anaconda3/envs/tensorflow/lib/python3.6/site-packages/sklearn/metrics/classification.py:1113: UndefinedMetricWarning: Precision and F-score are ill-defined and being set to 0.0 in labels with no predicted samples.\n",
      "  'precision', 'predicted', average, warn_for)\n"
     ]
    },
    {
     "data": {
      "text/plain": [
       "1135"
      ]
     },
     "execution_count": 46,
     "metadata": {},
     "output_type": "execute_result"
    }
   ],
   "source": [
    "model.compile(optimizer=\"adagrad\",\n",
    "              loss='categorical_crossentropy',\n",
    "              metrics=['categorical_accuracy'])\n",
    "print(model.summary())\n",
    "model.fit(X_train, y_train, validation_split=0.1, epochs=15, batch_size=256)\n",
    "yhat = model.predict(X_test)\n",
    "_ = helper.score_prediction(y_test, yhat, binary=False)\n",
    "gc.collect()"
   ]
  },
  {
   "cell_type": "markdown",
   "metadata": {},
   "source": [
    "# Basic CNN"
   ]
  },
  {
   "cell_type": "code",
   "execution_count": 108,
   "metadata": {},
   "outputs": [],
   "source": [
    "filters = 100\n",
    "\n",
    "model = keras.models.Sequential()\n",
    "model.add(keras.layers.Conv1D(filters,\n",
    "             kernel_size=1,\n",
    "             padding='valid',\n",
    "             activation='relu',\n",
    "             strides=1, input_shape=input_shape))\n",
    "model.add(keras.layers.pooling.GlobalMaxPooling1D())\n",
    "model.add(keras.layers.Dropout(0.3))\n",
    "model.add(keras.layers.Dense(23, activation='softmax'))"
   ]
  },
  {
   "cell_type": "code",
   "execution_count": 109,
   "metadata": {},
   "outputs": [
    {
     "name": "stdout",
     "output_type": "stream",
     "text": [
      "_________________________________________________________________\n",
      "Layer (type)                 Output Shape              Param #   \n",
      "=================================================================\n",
      "conv1d_19 (Conv1D)           (None, 100, 100)          20100     \n",
      "_________________________________________________________________\n",
      "global_max_pooling1d_8 (Glob (None, 100)               0         \n",
      "_________________________________________________________________\n",
      "dropout_51 (Dropout)         (None, 100)               0         \n",
      "_________________________________________________________________\n",
      "dense_44 (Dense)             (None, 23)                2323      \n",
      "=================================================================\n",
      "Total params: 22,423\n",
      "Trainable params: 22,423\n",
      "Non-trainable params: 0\n",
      "_________________________________________________________________\n",
      "None\n",
      "Train on 36925 samples, validate on 4103 samples\n",
      "Epoch 1/15\n",
      "36925/36925 [==============================] - 6s - loss: 2.1590 - categorical_accuracy: 0.3468 - val_loss: 1.8842 - val_categorical_accuracy: 0.4002\n",
      "Epoch 2/15\n",
      "36925/36925 [==============================] - 5s - loss: 1.9284 - categorical_accuracy: 0.3914 - val_loss: 1.7985 - val_categorical_accuracy: 0.4209\n",
      "Epoch 3/15\n",
      "36925/36925 [==============================] - 5s - loss: 1.8623 - categorical_accuracy: 0.4067 - val_loss: 1.7617 - val_categorical_accuracy: 0.4241\n",
      "Epoch 4/15\n",
      "36925/36925 [==============================] - 5s - loss: 1.8360 - categorical_accuracy: 0.4123 - val_loss: 1.7355 - val_categorical_accuracy: 0.4309\n",
      "Epoch 5/15\n",
      "36925/36925 [==============================] - 5s - loss: 1.8088 - categorical_accuracy: 0.4188 - val_loss: 1.7183 - val_categorical_accuracy: 0.4324\n",
      "Epoch 6/15\n",
      "36925/36925 [==============================] - 5s - loss: 1.7942 - categorical_accuracy: 0.4227 - val_loss: 1.7046 - val_categorical_accuracy: 0.4353\n",
      "Epoch 7/15\n",
      "36925/36925 [==============================] - 5s - loss: 1.7853 - categorical_accuracy: 0.4229 - val_loss: 1.6950 - val_categorical_accuracy: 0.4324\n",
      "Epoch 8/15\n",
      "36925/36925 [==============================] - 5s - loss: 1.7666 - categorical_accuracy: 0.4257 - val_loss: 1.6850 - val_categorical_accuracy: 0.4358\n",
      "Epoch 9/15\n",
      "36925/36925 [==============================] - 5s - loss: 1.7584 - categorical_accuracy: 0.4278 - val_loss: 1.6762 - val_categorical_accuracy: 0.4382\n",
      "Epoch 10/15\n",
      "36925/36925 [==============================] - 5s - loss: 1.7526 - categorical_accuracy: 0.4290 - val_loss: 1.6688 - val_categorical_accuracy: 0.4411\n",
      "Epoch 11/15\n",
      "36925/36925 [==============================] - 5s - loss: 1.7461 - categorical_accuracy: 0.4312 - val_loss: 1.6645 - val_categorical_accuracy: 0.4414\n",
      "Epoch 12/15\n",
      "36925/36925 [==============================] - 5s - loss: 1.7365 - categorical_accuracy: 0.4347 - val_loss: 1.6608 - val_categorical_accuracy: 0.4436\n",
      "Epoch 13/15\n",
      "36925/36925 [==============================] - 5s - loss: 1.7290 - categorical_accuracy: 0.4367 - val_loss: 1.6541 - val_categorical_accuracy: 0.4433\n",
      "Epoch 14/15\n",
      "36925/36925 [==============================] - 5s - loss: 1.7249 - categorical_accuracy: 0.4339 - val_loss: 1.6486 - val_categorical_accuracy: 0.4428\n",
      "Epoch 15/15\n",
      "36925/36925 [==============================] - 5s - loss: 1.7177 - categorical_accuracy: 0.4353 - val_loss: 1.6447 - val_categorical_accuracy: 0.4436\n",
      "             precision    recall  f1-score   support\n",
      "\n",
      "          0       0.00      0.00      0.00        36\n",
      "          1       0.42      0.47      0.44       182\n",
      "          2       0.55      0.73      0.63       457\n",
      "          3       0.43      0.44      0.43       254\n",
      "          4       0.58      0.47      0.52       241\n",
      "          5       0.25      0.11      0.15        63\n",
      "          6       0.61      0.62      0.61        81\n",
      "          7       0.45      0.34      0.39       126\n",
      "          8       0.47      0.18      0.26       106\n",
      "          9       0.43      0.53      0.48       232\n",
      "         10       0.47      0.34      0.39       140\n",
      "         11       0.44      0.14      0.22        84\n",
      "         12       0.53      0.69      0.60       523\n",
      "         13       0.47      0.47      0.47       331\n",
      "         14       0.40      0.49      0.44       143\n",
      "         15       0.45      0.35      0.39        37\n",
      "         16       0.56      0.60      0.58        30\n",
      "         17       0.25      0.26      0.26       771\n",
      "         18       0.41      0.39      0.40       218\n",
      "         19       0.51      0.40      0.45       132\n",
      "         20       0.50      0.22      0.31        45\n",
      "         21       0.54      0.55      0.54       235\n",
      "         22       0.32      0.20      0.24        92\n",
      "\n",
      "avg / total       0.44      0.45      0.44      4559\n",
      "\n",
      "Accuracy: 44.99%\n"
     ]
    },
    {
     "name": "stderr",
     "output_type": "stream",
     "text": [
      "/home/valentin/bin/anaconda3/envs/tensorflow/lib/python3.6/site-packages/sklearn/metrics/classification.py:1113: UndefinedMetricWarning: Precision and F-score are ill-defined and being set to 0.0 in labels with no predicted samples.\n",
      "  'precision', 'predicted', average, warn_for)\n"
     ]
    },
    {
     "data": {
      "text/plain": [
       "102"
      ]
     },
     "execution_count": 109,
     "metadata": {},
     "output_type": "execute_result"
    }
   ],
   "source": [
    "model.compile(optimizer=\"adagrad\",\n",
    "              loss='categorical_crossentropy',\n",
    "              metrics=['categorical_accuracy'])\n",
    "print(model.summary())\n",
    "model.fit(X_train, y_train, validation_split=0.1, epochs=15, batch_size=256)\n",
    "yhat = model.predict(X_test)\n",
    "_ = helper.score_prediction(y_test, yhat, binary=False)\n",
    "gc.collect()"
   ]
  },
  {
   "cell_type": "markdown",
   "metadata": {},
   "source": [
    "# Recurrent CNN"
   ]
  },
  {
   "cell_type": "code",
   "execution_count": 7,
   "metadata": {},
   "outputs": [],
   "source": [
    "input_shape = (100, 200)\n",
    "filters = 100\n",
    "kernel_size = 3\n",
    "model = keras.models.Sequential()\n",
    "model.add(keras.layers.Conv1D(filters,\n",
    "             kernel_size,\n",
    "             padding='valid',\n",
    "             activation='relu',\n",
    "             strides=1, input_shape=input_shape))\n",
    "model.add(keras.layers.MaxPool1D(pool_size=10))\n",
    "model.add(keras.layers.Dropout(0.5))\n",
    "model.add(keras.layers.recurrent.GRU(64))\n",
    "model.add(keras.layers.Dropout(0.5))\n",
    "model.add(keras.layers.Dense(23, activation='softmax'))"
   ]
  },
  {
   "cell_type": "code",
   "execution_count": 111,
   "metadata": {
    "scrolled": false
   },
   "outputs": [
    {
     "name": "stdout",
     "output_type": "stream",
     "text": [
      "_________________________________________________________________\n",
      "Layer (type)                 Output Shape              Param #   \n",
      "=================================================================\n",
      "conv1d_20 (Conv1D)           (None, 98, 100)           60100     \n",
      "_________________________________________________________________\n",
      "max_pooling1d_8 (MaxPooling1 (None, 9, 100)            0         \n",
      "_________________________________________________________________\n",
      "dropout_52 (Dropout)         (None, 9, 100)            0         \n",
      "_________________________________________________________________\n",
      "gru_19 (GRU)                 (None, 64)                31680     \n",
      "_________________________________________________________________\n",
      "dropout_53 (Dropout)         (None, 64)                0         \n",
      "_________________________________________________________________\n",
      "dense_45 (Dense)             (None, 23)                1495      \n",
      "=================================================================\n",
      "Total params: 93,275\n",
      "Trainable params: 93,275\n",
      "Non-trainable params: 0\n",
      "_________________________________________________________________\n",
      "None\n",
      "Train on 36925 samples, validate on 4103 samples\n",
      "Epoch 1/15\n",
      "36925/36925 [==============================] - 7s - loss: 2.3067 - categorical_accuracy: 0.3104 - val_loss: 1.9218 - val_categorical_accuracy: 0.4068\n",
      "Epoch 2/15\n",
      "36925/36925 [==============================] - 6s - loss: 2.0078 - categorical_accuracy: 0.3852 - val_loss: 1.8166 - val_categorical_accuracy: 0.4294\n",
      "Epoch 3/15\n",
      "36925/36925 [==============================] - 6s - loss: 1.9178 - categorical_accuracy: 0.4081 - val_loss: 1.7625 - val_categorical_accuracy: 0.4428\n",
      "Epoch 4/15\n",
      "36925/36925 [==============================] - 6s - loss: 1.8647 - categorical_accuracy: 0.4167 - val_loss: 1.7202 - val_categorical_accuracy: 0.4477\n",
      "Epoch 5/15\n",
      "36925/36925 [==============================] - 6s - loss: 1.8213 - categorical_accuracy: 0.4308 - val_loss: 1.6948 - val_categorical_accuracy: 0.4580\n",
      "Epoch 6/15\n",
      "36925/36925 [==============================] - 6s - loss: 1.7955 - categorical_accuracy: 0.4343 - val_loss: 1.6852 - val_categorical_accuracy: 0.4597\n",
      "Epoch 7/15\n",
      "36925/36925 [==============================] - 6s - loss: 1.7658 - categorical_accuracy: 0.4415 - val_loss: 1.6631 - val_categorical_accuracy: 0.4555\n",
      "Epoch 8/15\n",
      "36925/36925 [==============================] - 6s - loss: 1.7508 - categorical_accuracy: 0.4463 - val_loss: 1.6541 - val_categorical_accuracy: 0.4567\n",
      "Epoch 9/15\n",
      "36925/36925 [==============================] - 6s - loss: 1.7384 - categorical_accuracy: 0.4478 - val_loss: 1.6466 - val_categorical_accuracy: 0.4599\n",
      "Epoch 10/15\n",
      "36925/36925 [==============================] - 6s - loss: 1.7186 - categorical_accuracy: 0.4573 - val_loss: 1.6449 - val_categorical_accuracy: 0.4575\n",
      "Epoch 11/15\n",
      "36925/36925 [==============================] - 6s - loss: 1.7030 - categorical_accuracy: 0.4582 - val_loss: 1.6274 - val_categorical_accuracy: 0.4621\n",
      "Epoch 12/15\n",
      "36925/36925 [==============================] - 6s - loss: 1.6950 - categorical_accuracy: 0.4609 - val_loss: 1.6247 - val_categorical_accuracy: 0.4616\n",
      "Epoch 13/15\n",
      "36925/36925 [==============================] - 6s - loss: 1.6869 - categorical_accuracy: 0.4616 - val_loss: 1.6222 - val_categorical_accuracy: 0.4641\n",
      "Epoch 14/15\n",
      "36925/36925 [==============================] - 6s - loss: 1.6728 - categorical_accuracy: 0.4654 - val_loss: 1.6211 - val_categorical_accuracy: 0.4621\n",
      "Epoch 15/15\n",
      "36925/36925 [==============================] - 6s - loss: 1.6653 - categorical_accuracy: 0.4689 - val_loss: 1.6177 - val_categorical_accuracy: 0.4631\n",
      "             precision    recall  f1-score   support\n",
      "\n",
      "          0       0.00      0.00      0.00        36\n",
      "          1       0.41      0.57      0.48       182\n",
      "          2       0.53      0.73      0.61       457\n",
      "          3       0.45      0.53      0.48       254\n",
      "          4       0.58      0.49      0.53       241\n",
      "          5       0.24      0.08      0.12        63\n",
      "          6       0.53      0.58      0.56        81\n",
      "          7       0.44      0.44      0.44       126\n",
      "          8       0.40      0.18      0.25       106\n",
      "          9       0.49      0.54      0.52       232\n",
      "         10       0.46      0.36      0.40       140\n",
      "         11       0.43      0.24      0.31        84\n",
      "         12       0.55      0.67      0.61       523\n",
      "         13       0.47      0.51      0.49       331\n",
      "         14       0.43      0.56      0.49       143\n",
      "         15       0.42      0.43      0.43        37\n",
      "         16       0.55      0.57      0.56        30\n",
      "         17       0.27      0.21      0.24       771\n",
      "         18       0.43      0.40      0.41       218\n",
      "         19       0.47      0.40      0.43       132\n",
      "         20       0.83      0.11      0.20        45\n",
      "         21       0.54      0.61      0.57       235\n",
      "         22       0.39      0.21      0.27        92\n",
      "\n",
      "avg / total       0.45      0.46      0.45      4559\n",
      "\n",
      "Accuracy: 46.37%\n"
     ]
    },
    {
     "name": "stderr",
     "output_type": "stream",
     "text": [
      "/home/valentin/bin/anaconda3/envs/tensorflow/lib/python3.6/site-packages/sklearn/metrics/classification.py:1113: UndefinedMetricWarning: Precision and F-score are ill-defined and being set to 0.0 in labels with no predicted samples.\n",
      "  'precision', 'predicted', average, warn_for)\n"
     ]
    },
    {
     "data": {
      "text/plain": [
       "100"
      ]
     },
     "execution_count": 111,
     "metadata": {},
     "output_type": "execute_result"
    }
   ],
   "source": [
    "model.compile(optimizer=\"adagrad\",\n",
    "              loss='categorical_crossentropy',\n",
    "              metrics=['categorical_accuracy'])\n",
    "print(model.summary())\n",
    "model.fit(X_train, y_train, validation_split=0.1, epochs=15, batch_size=256)\n",
    "yhat = model.predict(X_test)\n",
    "_ = helper.score_prediction(y_test, yhat, binary=False)\n",
    "gc.collect()"
   ]
  }
 ],
 "metadata": {
  "kernelspec": {
   "display_name": "Python 3",
   "language": "python",
   "name": "python3"
  },
  "language_info": {
   "codemirror_mode": {
    "name": "ipython",
    "version": 3
   },
   "file_extension": ".py",
   "mimetype": "text/x-python",
   "name": "python",
   "nbconvert_exporter": "python",
   "pygments_lexer": "ipython3",
   "version": "3.6.1"
  }
 },
 "nbformat": 4,
 "nbformat_minor": 2
}
