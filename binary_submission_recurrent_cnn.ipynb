{
 "cells": [
  {
   "cell_type": "code",
   "execution_count": 1,
   "metadata": {},
   "outputs": [
    {
     "name": "stderr",
     "output_type": "stream",
     "text": [
      "Using TensorFlow backend.\n"
     ]
    }
   ],
   "source": [
    "import pandas as pd\n",
    "import numpy as np\n",
    "import keras\n",
    "import gensim\n",
    "import pickle\n",
    "import gc\n",
    "from sklearn.feature_extraction.text import CountVectorizer, TfidfTransformer\n",
    "from sklearn.model_selection import train_test_split\n",
    "%matplotlib inline\n",
    "\n",
    "%load_ext autoreload\n",
    "%autoreload 2\n",
    "import helper"
   ]
  },
  {
   "cell_type": "code",
   "execution_count": 2,
   "metadata": {
    "collapsed": true
   },
   "outputs": [],
   "source": [
    "X_train = np.load(\"data/word_vectors/pubmed_binary_stratify_no_wiki_X_train_seeds42.npy\")\n",
    "y_train = np.load(\"data/word_vectors/pubmed_binary_stratify_no_wiki_y_train_seeds42.npy\")"
   ]
  },
  {
   "cell_type": "code",
   "execution_count": 3,
   "metadata": {
    "collapsed": true
   },
   "outputs": [],
   "source": [
    "X_test = np.load(\"data/word_vectors/pubmed_binary_stratify_no_wiki_X_test_seeds42.npy\")\n",
    "y_test = np.load(\"data/word_vectors/pubmed_binary_stratify_no_wiki_y_test_seeds42.npy\")"
   ]
  },
  {
   "cell_type": "code",
   "execution_count": 4,
   "metadata": {
    "collapsed": true
   },
   "outputs": [],
   "source": [
    "X_train = np.concatenate((X_train, X_test), axis=0)\n",
    "y_train = np.concatenate((y_train, y_test), axis=0)"
   ]
  },
  {
   "cell_type": "code",
   "execution_count": 5,
   "metadata": {},
   "outputs": [
    {
     "data": {
      "text/plain": [
       "(2155, 100, 200)"
      ]
     },
     "execution_count": 5,
     "metadata": {},
     "output_type": "execute_result"
    }
   ],
   "source": [
    "X_train.shape"
   ]
  },
  {
   "cell_type": "code",
   "execution_count": 6,
   "metadata": {
    "collapsed": true
   },
   "outputs": [],
   "source": [
    "input_shape = (100, 200)"
   ]
  },
  {
   "cell_type": "markdown",
   "metadata": {},
   "source": [
    "# Model"
   ]
  },
  {
   "cell_type": "code",
   "execution_count": 7,
   "metadata": {
    "collapsed": true
   },
   "outputs": [],
   "source": [
    "input_shape = (100, 200)\n",
    "filters = 128\n",
    "kernel_size = 3\n",
    "model = keras.models.Sequential()\n",
    "model.add(keras.layers.Conv1D(filters,\n",
    "             kernel_size,\n",
    "             padding='valid',\n",
    "             activation='relu',\n",
    "             strides=1, input_shape=input_shape))\n",
    "model.add(keras.layers.MaxPool1D(pool_size=48))\n",
    "model.add(keras.layers.Dropout(0.5))\n",
    "model.add(keras.layers.recurrent.GRU(64))\n",
    "model.add(keras.layers.Dropout(0.5))\n",
    "model.add(keras.layers.Dense(1, activation='sigmoid'))"
   ]
  },
  {
   "cell_type": "code",
   "execution_count": 8,
   "metadata": {
    "scrolled": false
   },
   "outputs": [
    {
     "name": "stdout",
     "output_type": "stream",
     "text": [
      "_________________________________________________________________\n",
      "Layer (type)                 Output Shape              Param #   \n",
      "=================================================================\n",
      "conv1d_1 (Conv1D)            (None, 98, 128)           76928     \n",
      "_________________________________________________________________\n",
      "max_pooling1d_1 (MaxPooling1 (None, 2, 128)            0         \n",
      "_________________________________________________________________\n",
      "dropout_1 (Dropout)          (None, 2, 128)            0         \n",
      "_________________________________________________________________\n",
      "gru_1 (GRU)                  (None, 64)                37056     \n",
      "_________________________________________________________________\n",
      "dropout_2 (Dropout)          (None, 64)                0         \n",
      "_________________________________________________________________\n",
      "dense_1 (Dense)              (None, 1)                 65        \n",
      "=================================================================\n",
      "Total params: 114,049\n",
      "Trainable params: 114,049\n",
      "Non-trainable params: 0\n",
      "_________________________________________________________________\n",
      "None\n",
      "Train on 1939 samples, validate on 216 samples\n",
      "Epoch 1/15\n",
      "1939/1939 [==============================] - 1s - loss: 0.4965 - categorical_accuracy: 1.0000 - val_loss: 0.2290 - val_categorical_accuracy: 1.0000\n",
      "Epoch 2/15\n",
      "1939/1939 [==============================] - 0s - loss: 0.1879 - categorical_accuracy: 1.0000 - val_loss: 0.1966 - val_categorical_accuracy: 1.0000\n",
      "Epoch 3/15\n",
      "1939/1939 [==============================] - 0s - loss: 0.1464 - categorical_accuracy: 1.0000 - val_loss: 0.1862 - val_categorical_accuracy: 1.0000\n",
      "Epoch 4/15\n",
      "1939/1939 [==============================] - 0s - loss: 0.1282 - categorical_accuracy: 1.0000 - val_loss: 0.2386 - val_categorical_accuracy: 1.0000\n",
      "Epoch 5/15\n",
      "1939/1939 [==============================] - 0s - loss: 0.1234 - categorical_accuracy: 1.0000 - val_loss: 0.1643 - val_categorical_accuracy: 1.0000\n",
      "Epoch 6/15\n",
      "1939/1939 [==============================] - 0s - loss: 0.0894 - categorical_accuracy: 1.0000 - val_loss: 0.1651 - val_categorical_accuracy: 1.0000\n",
      "Epoch 7/15\n",
      "1939/1939 [==============================] - 0s - loss: 0.0823 - categorical_accuracy: 1.0000 - val_loss: 0.1565 - val_categorical_accuracy: 1.0000\n",
      "Epoch 8/15\n",
      "1939/1939 [==============================] - 0s - loss: 0.0671 - categorical_accuracy: 1.0000 - val_loss: 0.1509 - val_categorical_accuracy: 1.0000\n",
      "Epoch 9/15\n",
      "1939/1939 [==============================] - 0s - loss: 0.0603 - categorical_accuracy: 1.0000 - val_loss: 0.1502 - val_categorical_accuracy: 1.0000\n",
      "Epoch 10/15\n",
      "1939/1939 [==============================] - 0s - loss: 0.0573 - categorical_accuracy: 1.0000 - val_loss: 0.1555 - val_categorical_accuracy: 1.0000\n",
      "Epoch 11/15\n",
      "1939/1939 [==============================] - 0s - loss: 0.0437 - categorical_accuracy: 1.0000 - val_loss: 0.1665 - val_categorical_accuracy: 1.0000\n",
      "Epoch 12/15\n",
      "1939/1939 [==============================] - 0s - loss: 0.0320 - categorical_accuracy: 1.0000 - val_loss: 0.1603 - val_categorical_accuracy: 1.0000\n",
      "Epoch 13/15\n",
      "1939/1939 [==============================] - 0s - loss: 0.0329 - categorical_accuracy: 1.0000 - val_loss: 0.1517 - val_categorical_accuracy: 1.0000\n",
      "Epoch 14/15\n",
      "1939/1939 [==============================] - 0s - loss: 0.0255 - categorical_accuracy: 1.0000 - val_loss: 0.1546 - val_categorical_accuracy: 1.0000\n",
      "Epoch 15/15\n",
      "1939/1939 [==============================] - 0s - loss: 0.0192 - categorical_accuracy: 1.0000 - val_loss: 0.1654 - val_categorical_accuracy: 1.0000\n",
      "             precision    recall  f1-score   support\n",
      "\n",
      "          0       0.96      0.96      0.96       107\n",
      "          1       0.96      0.96      0.96       109\n",
      "\n",
      "avg / total       0.96      0.96      0.96       216\n",
      "\n",
      "Accuracy: 96.30%\n",
      "AUC: 0.99\n"
     ]
    },
    {
     "data": {
      "text/plain": [
       "8"
      ]
     },
     "execution_count": 8,
     "metadata": {},
     "output_type": "execute_result"
    },
    {
     "data": {
      "image/png": "[encoded data removed]",
      "text/plain": [
       "<matplotlib.figure.Figure at 0x7f8b617d6a58>"
      ]
     },
     "metadata": {},
     "output_type": "display_data"
    }
   ],
   "source": [
    "model.compile(optimizer=\"adagrad\",\n",
    "              loss='binary_crossentropy',\n",
    "              metrics=['categorical_accuracy'])\n",
    "print(model.summary())\n",
    "model.fit(X_train, y_train, validation_split=0.1, epochs=15, batch_size=256)\n",
    "yhat = model.predict(X_test)\n",
    "_ = helper.score_prediction(y_test, yhat, binary=True)\n",
    "gc.collect()"
   ]
  },
  {
   "cell_type": "code",
   "execution_count": 9,
   "metadata": {
    "collapsed": true
   },
   "outputs": [],
   "source": [
    "del X_train\n",
    "del X_test"
   ]
  },
  {
   "cell_type": "code",
   "execution_count": 10,
   "metadata": {},
   "outputs": [
    {
     "data": {
      "text/plain": [
       "0"
      ]
     },
     "execution_count": 10,
     "metadata": {},
     "output_type": "execute_result"
    }
   ],
   "source": [
    "gc.collect()"
   ]
  },
  {
   "cell_type": "markdown",
   "metadata": {},
   "source": [
    "# Submission"
   ]
  },
  {
   "cell_type": "code",
   "execution_count": 13,
   "metadata": {
    "collapsed": true
   },
   "outputs": [],
   "source": [
    "submission_vectors = np.load(\"data/submission_binary_word_vectors.npy\")\n",
    "submission_ids = np.load(\"data/submission_binary_ids.npy\")"
   ]
  },
  {
   "cell_type": "markdown",
   "metadata": {},
   "source": [
    "### Reconstruct the categories from the one-hot encoding"
   ]
  },
  {
   "cell_type": "code",
   "execution_count": 14,
   "metadata": {
    "collapsed": true
   },
   "outputs": [],
   "source": [
    "yhat = model.predict(submission_vectors)"
   ]
  },
  {
   "cell_type": "code",
   "execution_count": 15,
   "metadata": {
    "collapsed": true
   },
   "outputs": [],
   "source": [
    "submission_df = helper.create_binary_submission(yhat, submission_ids)"
   ]
  },
  {
   "cell_type": "code",
   "execution_count": 16,
   "metadata": {},
   "outputs": [
    {
     "data": {
      "text/html": [
       "<div>\n",
       "<table border=\"1\" class=\"dataframe\">\n",
       "  <thead>\n",
       "    <tr style=\"text-align: right;\">\n",
       "      <th></th>\n",
       "      <th>Id</th>\n",
       "      <th>Category</th>\n",
       "    </tr>\n",
       "  </thead>\n",
       "  <tbody>\n",
       "    <tr>\n",
       "      <th>0</th>\n",
       "      <td>751</td>\n",
       "      <td>cancer</td>\n",
       "    </tr>\n",
       "    <tr>\n",
       "      <th>1</th>\n",
       "      <td>299</td>\n",
       "      <td>cancer</td>\n",
       "    </tr>\n",
       "    <tr>\n",
       "      <th>2</th>\n",
       "      <td>3</td>\n",
       "      <td>cancer</td>\n",
       "    </tr>\n",
       "    <tr>\n",
       "      <th>3</th>\n",
       "      <td>2091</td>\n",
       "      <td>nonCancer</td>\n",
       "    </tr>\n",
       "    <tr>\n",
       "      <th>4</th>\n",
       "      <td>1908</td>\n",
       "      <td>nonCancer</td>\n",
       "    </tr>\n",
       "  </tbody>\n",
       "</table>\n",
       "</div>"
      ],
      "text/plain": [
       "     Id   Category\n",
       "0   751     cancer\n",
       "1   299     cancer\n",
       "2     3     cancer\n",
       "3  2091  nonCancer\n",
       "4  1908  nonCancer"
      ]
     },
     "execution_count": 16,
     "metadata": {},
     "output_type": "execute_result"
    }
   ],
   "source": [
    "submission_df.head()"
   ]
  },
  {
   "cell_type": "code",
   "execution_count": 17,
   "metadata": {},
   "outputs": [
    {
     "data": {
      "text/plain": [
       "381"
      ]
     },
     "execution_count": 17,
     "metadata": {},
     "output_type": "execute_result"
    }
   ],
   "source": [
    "len(submission_df)"
   ]
  },
  {
   "cell_type": "code",
   "execution_count": 18,
   "metadata": {
    "collapsed": true
   },
   "outputs": [],
   "source": [
    "submission_df.to_csv(\"data/binary_submissions_recurrent_cnn.csv\", index=False)"
   ]
  }
 ],
 "metadata": {
  "kernelspec": {
   "display_name": "Python 3",
   "language": "python",
   "name": "python3"
  },
  "language_info": {
   "codemirror_mode": {
    "name": "ipython",
    "version": 3
   },
   "file_extension": ".py",
   "mimetype": "text/x-python",
   "name": "python",
   "nbconvert_exporter": "python",
   "pygments_lexer": "ipython3",
   "version": "3.6.1"
  }
 },
 "nbformat": 4,
 "nbformat_minor": 2
}
